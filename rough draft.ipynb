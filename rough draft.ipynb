{
 "nbformat": 4,
 "nbformat_minor": 0,
 "metadata": {
  "colab": {
   "name": "Time Series.ipynb",
   "provenance": [],
   "collapsed_sections": [],
   "authorship_tag": "ABX9TyP3yRDMRiS+RW9sAfY7OIVd",
   "include_colab_link": true
  },
  "kernelspec": {
   "name": "python3",
   "display_name": "Python 3"
  },
  "language_info": {
   "name": "python"
  },
  "accelerator": "GPU"
 },
 "cells": [
  {
   "cell_type": "markdown",
   "metadata": {
    "id": "view-in-github",
    "colab_type": "text"
   },
   "source": [
    "<a href=\"https://colab.research.google.com/github/Forpee/time-series-practice-0/blob/main/Time_Series.ipynb\" target=\"_parent\"><img src=\"https://colab.research.google.com/assets/colab-badge.svg\" alt=\"Open In Colab\"/></a>"
   ]
  },
  {
   "cell_type": "code",
   "execution_count": 1,
   "metadata": {
    "id": "wWv6DG2yiQ3Q"
   },
   "outputs": [],
   "source": [
    "import os\n",
    "import datetime\n",
    "\n",
    "import IPython\n",
    "import IPython.display\n",
    "import matplotlib as mpl\n",
    "import matplotlib.pyplot as plt\n",
    "import numpy as np\n",
    "import seaborn as sns\n",
    "import tensorflow as tf\n",
    "\n",
    "mpl.rcParams['figure.figsize'] = (8, 6)\n",
    "mpl.rcParams['axes.grid'] = False"
   ]
  },
  {
   "cell_type": "code",
   "source": [
    "zip_path = tf.keras.utils.get_file(\n",
    "   origin='https://storage.googleapis.com/tensorflow/tf-keras-datasets/jena_climate_2009_2016.csv.zip',\n",
    "   fname='jena_climate_2009_2016.csv.zip',\n",
    "   extract= True\n",
    ")\n",
    "\n",
    "csv_path, _ = os.path.splitext(zip_path)"
   ],
   "metadata": {
    "id": "5n9E__xWlEzP",
    "colab": {
     "base_uri": "https://localhost:8080/"
    },
    "outputId": "5e07af1a-c314-4384-d57b-90f01c2e47a3",
    "pycharm": {
     "name": "#%%\n"
    }
   },
   "execution_count": null,
   "outputs": []
  },
  {
   "cell_type": "code",
   "source": [
    "import pandas as pd\n",
    "df = pd.read_csv(csv_path)"
   ],
   "metadata": {
    "id": "Fjm4DU-3l4m_"
   },
   "execution_count": 3,
   "outputs": []
  },
  {
   "cell_type": "code",
   "source": [
    "df.tail()"
   ],
   "metadata": {
    "colab": {
     "base_uri": "https://localhost:8080/",
     "height": 392
    },
    "id": "wvbJmJTpmOmO",
    "outputId": "01413d87-caac-4fb8-cb3b-510d04daad69"
   },
   "execution_count": 4,
   "outputs": [
    {
     "output_type": "execute_result",
     "data": {
      "text/plain": [
       "                  Date Time  p (mbar)  T (degC)  Tpot (K)  Tdew (degC)  \\\n",
       "420546  31.12.2016 23:20:00   1000.07     -4.05    269.10        -8.13   \n",
       "420547  31.12.2016 23:30:00    999.93     -3.35    269.81        -8.06   \n",
       "420548  31.12.2016 23:40:00    999.82     -3.16    270.01        -8.21   \n",
       "420549  31.12.2016 23:50:00    999.81     -4.23    268.94        -8.53   \n",
       "420550  01.01.2017 00:00:00    999.82     -4.82    268.36        -8.42   \n",
       "\n",
       "        rh (%)  VPmax (mbar)  VPact (mbar)  VPdef (mbar)  sh (g/kg)  \\\n",
       "420546   73.10          4.52          3.30          1.22       2.06   \n",
       "420547   69.71          4.77          3.32          1.44       2.07   \n",
       "420548   67.91          4.84          3.28          1.55       2.05   \n",
       "420549   71.80          4.46          3.20          1.26       1.99   \n",
       "420550   75.70          4.27          3.23          1.04       2.01   \n",
       "\n",
       "        H2OC (mmol/mol)  rho (g/m**3)  wv (m/s)  max. wv (m/s)  wd (deg)  \n",
       "420546             3.30       1292.98      0.67           1.52     240.0  \n",
       "420547             3.32       1289.44      1.14           1.92     234.3  \n",
       "420548             3.28       1288.39      1.08           2.00     215.2  \n",
       "420549             3.20       1293.56      1.49           2.16     225.8  \n",
       "420550             3.23       1296.38      1.23           1.96     184.9  "
      ],
      "text/html": [
       "\n",
       "  <div id=\"df-e2cddd10-1df4-4a17-b414-b6b0c2d14c98\">\n",
       "    <div class=\"colab-df-container\">\n",
       "      <div>\n",
       "<style scoped>\n",
       "    .dataframe tbody tr th:only-of-type {\n",
       "        vertical-align: middle;\n",
       "    }\n",
       "\n",
       "    .dataframe tbody tr th {\n",
       "        vertical-align: top;\n",
       "    }\n",
       "\n",
       "    .dataframe thead th {\n",
       "        text-align: right;\n",
       "    }\n",
       "</style>\n",
       "<table border=\"1\" class=\"dataframe\">\n",
       "  <thead>\n",
       "    <tr style=\"text-align: right;\">\n",
       "      <th></th>\n",
       "      <th>Date Time</th>\n",
       "      <th>p (mbar)</th>\n",
       "      <th>T (degC)</th>\n",
       "      <th>Tpot (K)</th>\n",
       "      <th>Tdew (degC)</th>\n",
       "      <th>rh (%)</th>\n",
       "      <th>VPmax (mbar)</th>\n",
       "      <th>VPact (mbar)</th>\n",
       "      <th>VPdef (mbar)</th>\n",
       "      <th>sh (g/kg)</th>\n",
       "      <th>H2OC (mmol/mol)</th>\n",
       "      <th>rho (g/m**3)</th>\n",
       "      <th>wv (m/s)</th>\n",
       "      <th>max. wv (m/s)</th>\n",
       "      <th>wd (deg)</th>\n",
       "    </tr>\n",
       "  </thead>\n",
       "  <tbody>\n",
       "    <tr>\n",
       "      <th>420546</th>\n",
       "      <td>31.12.2016 23:20:00</td>\n",
       "      <td>1000.07</td>\n",
       "      <td>-4.05</td>\n",
       "      <td>269.10</td>\n",
       "      <td>-8.13</td>\n",
       "      <td>73.10</td>\n",
       "      <td>4.52</td>\n",
       "      <td>3.30</td>\n",
       "      <td>1.22</td>\n",
       "      <td>2.06</td>\n",
       "      <td>3.30</td>\n",
       "      <td>1292.98</td>\n",
       "      <td>0.67</td>\n",
       "      <td>1.52</td>\n",
       "      <td>240.0</td>\n",
       "    </tr>\n",
       "    <tr>\n",
       "      <th>420547</th>\n",
       "      <td>31.12.2016 23:30:00</td>\n",
       "      <td>999.93</td>\n",
       "      <td>-3.35</td>\n",
       "      <td>269.81</td>\n",
       "      <td>-8.06</td>\n",
       "      <td>69.71</td>\n",
       "      <td>4.77</td>\n",
       "      <td>3.32</td>\n",
       "      <td>1.44</td>\n",
       "      <td>2.07</td>\n",
       "      <td>3.32</td>\n",
       "      <td>1289.44</td>\n",
       "      <td>1.14</td>\n",
       "      <td>1.92</td>\n",
       "      <td>234.3</td>\n",
       "    </tr>\n",
       "    <tr>\n",
       "      <th>420548</th>\n",
       "      <td>31.12.2016 23:40:00</td>\n",
       "      <td>999.82</td>\n",
       "      <td>-3.16</td>\n",
       "      <td>270.01</td>\n",
       "      <td>-8.21</td>\n",
       "      <td>67.91</td>\n",
       "      <td>4.84</td>\n",
       "      <td>3.28</td>\n",
       "      <td>1.55</td>\n",
       "      <td>2.05</td>\n",
       "      <td>3.28</td>\n",
       "      <td>1288.39</td>\n",
       "      <td>1.08</td>\n",
       "      <td>2.00</td>\n",
       "      <td>215.2</td>\n",
       "    </tr>\n",
       "    <tr>\n",
       "      <th>420549</th>\n",
       "      <td>31.12.2016 23:50:00</td>\n",
       "      <td>999.81</td>\n",
       "      <td>-4.23</td>\n",
       "      <td>268.94</td>\n",
       "      <td>-8.53</td>\n",
       "      <td>71.80</td>\n",
       "      <td>4.46</td>\n",
       "      <td>3.20</td>\n",
       "      <td>1.26</td>\n",
       "      <td>1.99</td>\n",
       "      <td>3.20</td>\n",
       "      <td>1293.56</td>\n",
       "      <td>1.49</td>\n",
       "      <td>2.16</td>\n",
       "      <td>225.8</td>\n",
       "    </tr>\n",
       "    <tr>\n",
       "      <th>420550</th>\n",
       "      <td>01.01.2017 00:00:00</td>\n",
       "      <td>999.82</td>\n",
       "      <td>-4.82</td>\n",
       "      <td>268.36</td>\n",
       "      <td>-8.42</td>\n",
       "      <td>75.70</td>\n",
       "      <td>4.27</td>\n",
       "      <td>3.23</td>\n",
       "      <td>1.04</td>\n",
       "      <td>2.01</td>\n",
       "      <td>3.23</td>\n",
       "      <td>1296.38</td>\n",
       "      <td>1.23</td>\n",
       "      <td>1.96</td>\n",
       "      <td>184.9</td>\n",
       "    </tr>\n",
       "  </tbody>\n",
       "</table>\n",
       "</div>\n",
       "      <button class=\"colab-df-convert\" onclick=\"convertToInteractive('df-e2cddd10-1df4-4a17-b414-b6b0c2d14c98')\"\n",
       "              title=\"Convert this dataframe to an interactive table.\"\n",
       "              style=\"display:none;\">\n",
       "        \n",
       "  <svg xmlns=\"http://www.w3.org/2000/svg\" height=\"24px\"viewBox=\"0 0 24 24\"\n",
       "       width=\"24px\">\n",
       "    <path d=\"M0 0h24v24H0V0z\" fill=\"none\"/>\n",
       "    <path d=\"M18.56 5.44l.94 2.06.94-2.06 2.06-.94-2.06-.94-.94-2.06-.94 2.06-2.06.94zm-11 1L8.5 8.5l.94-2.06 2.06-.94-2.06-.94L8.5 2.5l-.94 2.06-2.06.94zm10 10l.94 2.06.94-2.06 2.06-.94-2.06-.94-.94-2.06-.94 2.06-2.06.94z\"/><path d=\"M17.41 7.96l-1.37-1.37c-.4-.4-.92-.59-1.43-.59-.52 0-1.04.2-1.43.59L10.3 9.45l-7.72 7.72c-.78.78-.78 2.05 0 2.83L4 21.41c.39.39.9.59 1.41.59.51 0 1.02-.2 1.41-.59l7.78-7.78 2.81-2.81c.8-.78.8-2.07 0-2.86zM5.41 20L4 18.59l7.72-7.72 1.47 1.35L5.41 20z\"/>\n",
       "  </svg>\n",
       "      </button>\n",
       "      \n",
       "  <style>\n",
       "    .colab-df-container {\n",
       "      display:flex;\n",
       "      flex-wrap:wrap;\n",
       "      gap: 12px;\n",
       "    }\n",
       "\n",
       "    .colab-df-convert {\n",
       "      background-color: #E8F0FE;\n",
       "      border: none;\n",
       "      border-radius: 50%;\n",
       "      cursor: pointer;\n",
       "      display: none;\n",
       "      fill: #1967D2;\n",
       "      height: 32px;\n",
       "      padding: 0 0 0 0;\n",
       "      width: 32px;\n",
       "    }\n",
       "\n",
       "    .colab-df-convert:hover {\n",
       "      background-color: #E2EBFA;\n",
       "      box-shadow: 0px 1px 2px rgba(60, 64, 67, 0.3), 0px 1px 3px 1px rgba(60, 64, 67, 0.15);\n",
       "      fill: #174EA6;\n",
       "    }\n",
       "\n",
       "    [theme=dark] .colab-df-convert {\n",
       "      background-color: #3B4455;\n",
       "      fill: #D2E3FC;\n",
       "    }\n",
       "\n",
       "    [theme=dark] .colab-df-convert:hover {\n",
       "      background-color: #434B5C;\n",
       "      box-shadow: 0px 1px 3px 1px rgba(0, 0, 0, 0.15);\n",
       "      filter: drop-shadow(0px 1px 2px rgba(0, 0, 0, 0.3));\n",
       "      fill: #FFFFFF;\n",
       "    }\n",
       "  </style>\n",
       "\n",
       "      <script>\n",
       "        const buttonEl =\n",
       "          document.querySelector('#df-e2cddd10-1df4-4a17-b414-b6b0c2d14c98 button.colab-df-convert');\n",
       "        buttonEl.style.display =\n",
       "          google.colab.kernel.accessAllowed ? 'block' : 'none';\n",
       "\n",
       "        async function convertToInteractive(key) {\n",
       "          const element = document.querySelector('#df-e2cddd10-1df4-4a17-b414-b6b0c2d14c98');\n",
       "          const dataTable =\n",
       "            await google.colab.kernel.invokeFunction('convertToInteractive',\n",
       "                                                     [key], {});\n",
       "          if (!dataTable) return;\n",
       "\n",
       "          const docLinkHtml = 'Like what you see? Visit the ' +\n",
       "            '<a target=\"_blank\" href=https://colab.research.google.com/notebooks/data_table.ipynb>data table notebook</a>'\n",
       "            + ' to learn more about interactive tables.';\n",
       "          element.innerHTML = '';\n",
       "          dataTable['output_type'] = 'display_data';\n",
       "          await google.colab.output.renderOutput(dataTable, element);\n",
       "          const docLink = document.createElement('div');\n",
       "          docLink.innerHTML = docLinkHtml;\n",
       "          element.appendChild(docLink);\n",
       "        }\n",
       "      </script>\n",
       "    </div>\n",
       "  </div>\n",
       "  "
      ]
     },
     "metadata": {},
     "execution_count": 4
    }
   ]
  },
  {
   "cell_type": "code",
   "source": [
    "# Slice [start:stop:step], starting from index 5 take every 6th record.\n",
    "df = df[5::6]"
   ],
   "metadata": {
    "id": "5cI7sqtDmSDl"
   },
   "execution_count": 5,
   "outputs": []
  },
  {
   "cell_type": "code",
   "source": [
    "date_time = pd.to_datetime(df.pop('Date Time'), format='%d.%m.%Y %H:%M:%S')"
   ],
   "metadata": {
    "id": "lSVI3sR_DqSs"
   },
   "execution_count": 6,
   "outputs": []
  },
  {
   "cell_type": "code",
   "source": [
    "df.head()"
   ],
   "metadata": {
    "colab": {
     "base_uri": "https://localhost:8080/",
     "height": 285
    },
    "id": "xT6RniRWObpp",
    "outputId": "6983ed73-b9ad-419a-d8d5-b5da8fc54125"
   },
   "execution_count": 7,
   "outputs": [
    {
     "output_type": "execute_result",
     "data": {
      "text/plain": [
       "    p (mbar)  T (degC)  Tpot (K)  Tdew (degC)  rh (%)  VPmax (mbar)  \\\n",
       "5     996.50     -8.05    265.38        -8.78    94.4          3.33   \n",
       "11    996.62     -8.88    264.54        -9.77    93.2          3.12   \n",
       "17    996.84     -8.81    264.59        -9.66    93.5          3.13   \n",
       "23    996.99     -9.05    264.34       -10.02    92.6          3.07   \n",
       "29    997.46     -9.63    263.72       -10.65    92.2          2.94   \n",
       "\n",
       "    VPact (mbar)  VPdef (mbar)  sh (g/kg)  H2OC (mmol/mol)  rho (g/m**3)  \\\n",
       "5           3.14          0.19       1.96             3.15       1307.86   \n",
       "11          2.90          0.21       1.81             2.91       1312.25   \n",
       "17          2.93          0.20       1.83             2.94       1312.18   \n",
       "23          2.85          0.23       1.78             2.85       1313.61   \n",
       "29          2.71          0.23       1.69             2.71       1317.19   \n",
       "\n",
       "    wv (m/s)  max. wv (m/s)  wd (deg)  \n",
       "5       0.21           0.63     192.7  \n",
       "11      0.25           0.63     190.3  \n",
       "17      0.18           0.63     167.2  \n",
       "23      0.10           0.38     240.0  \n",
       "29      0.40           0.88     157.0  "
      ],
      "text/html": [
       "\n",
       "  <div id=\"df-c455f9d4-c0a8-498c-be68-67ebe8afb4c3\">\n",
       "    <div class=\"colab-df-container\">\n",
       "      <div>\n",
       "<style scoped>\n",
       "    .dataframe tbody tr th:only-of-type {\n",
       "        vertical-align: middle;\n",
       "    }\n",
       "\n",
       "    .dataframe tbody tr th {\n",
       "        vertical-align: top;\n",
       "    }\n",
       "\n",
       "    .dataframe thead th {\n",
       "        text-align: right;\n",
       "    }\n",
       "</style>\n",
       "<table border=\"1\" class=\"dataframe\">\n",
       "  <thead>\n",
       "    <tr style=\"text-align: right;\">\n",
       "      <th></th>\n",
       "      <th>p (mbar)</th>\n",
       "      <th>T (degC)</th>\n",
       "      <th>Tpot (K)</th>\n",
       "      <th>Tdew (degC)</th>\n",
       "      <th>rh (%)</th>\n",
       "      <th>VPmax (mbar)</th>\n",
       "      <th>VPact (mbar)</th>\n",
       "      <th>VPdef (mbar)</th>\n",
       "      <th>sh (g/kg)</th>\n",
       "      <th>H2OC (mmol/mol)</th>\n",
       "      <th>rho (g/m**3)</th>\n",
       "      <th>wv (m/s)</th>\n",
       "      <th>max. wv (m/s)</th>\n",
       "      <th>wd (deg)</th>\n",
       "    </tr>\n",
       "  </thead>\n",
       "  <tbody>\n",
       "    <tr>\n",
       "      <th>5</th>\n",
       "      <td>996.50</td>\n",
       "      <td>-8.05</td>\n",
       "      <td>265.38</td>\n",
       "      <td>-8.78</td>\n",
       "      <td>94.4</td>\n",
       "      <td>3.33</td>\n",
       "      <td>3.14</td>\n",
       "      <td>0.19</td>\n",
       "      <td>1.96</td>\n",
       "      <td>3.15</td>\n",
       "      <td>1307.86</td>\n",
       "      <td>0.21</td>\n",
       "      <td>0.63</td>\n",
       "      <td>192.7</td>\n",
       "    </tr>\n",
       "    <tr>\n",
       "      <th>11</th>\n",
       "      <td>996.62</td>\n",
       "      <td>-8.88</td>\n",
       "      <td>264.54</td>\n",
       "      <td>-9.77</td>\n",
       "      <td>93.2</td>\n",
       "      <td>3.12</td>\n",
       "      <td>2.90</td>\n",
       "      <td>0.21</td>\n",
       "      <td>1.81</td>\n",
       "      <td>2.91</td>\n",
       "      <td>1312.25</td>\n",
       "      <td>0.25</td>\n",
       "      <td>0.63</td>\n",
       "      <td>190.3</td>\n",
       "    </tr>\n",
       "    <tr>\n",
       "      <th>17</th>\n",
       "      <td>996.84</td>\n",
       "      <td>-8.81</td>\n",
       "      <td>264.59</td>\n",
       "      <td>-9.66</td>\n",
       "      <td>93.5</td>\n",
       "      <td>3.13</td>\n",
       "      <td>2.93</td>\n",
       "      <td>0.20</td>\n",
       "      <td>1.83</td>\n",
       "      <td>2.94</td>\n",
       "      <td>1312.18</td>\n",
       "      <td>0.18</td>\n",
       "      <td>0.63</td>\n",
       "      <td>167.2</td>\n",
       "    </tr>\n",
       "    <tr>\n",
       "      <th>23</th>\n",
       "      <td>996.99</td>\n",
       "      <td>-9.05</td>\n",
       "      <td>264.34</td>\n",
       "      <td>-10.02</td>\n",
       "      <td>92.6</td>\n",
       "      <td>3.07</td>\n",
       "      <td>2.85</td>\n",
       "      <td>0.23</td>\n",
       "      <td>1.78</td>\n",
       "      <td>2.85</td>\n",
       "      <td>1313.61</td>\n",
       "      <td>0.10</td>\n",
       "      <td>0.38</td>\n",
       "      <td>240.0</td>\n",
       "    </tr>\n",
       "    <tr>\n",
       "      <th>29</th>\n",
       "      <td>997.46</td>\n",
       "      <td>-9.63</td>\n",
       "      <td>263.72</td>\n",
       "      <td>-10.65</td>\n",
       "      <td>92.2</td>\n",
       "      <td>2.94</td>\n",
       "      <td>2.71</td>\n",
       "      <td>0.23</td>\n",
       "      <td>1.69</td>\n",
       "      <td>2.71</td>\n",
       "      <td>1317.19</td>\n",
       "      <td>0.40</td>\n",
       "      <td>0.88</td>\n",
       "      <td>157.0</td>\n",
       "    </tr>\n",
       "  </tbody>\n",
       "</table>\n",
       "</div>\n",
       "      <button class=\"colab-df-convert\" onclick=\"convertToInteractive('df-c455f9d4-c0a8-498c-be68-67ebe8afb4c3')\"\n",
       "              title=\"Convert this dataframe to an interactive table.\"\n",
       "              style=\"display:none;\">\n",
       "        \n",
       "  <svg xmlns=\"http://www.w3.org/2000/svg\" height=\"24px\"viewBox=\"0 0 24 24\"\n",
       "       width=\"24px\">\n",
       "    <path d=\"M0 0h24v24H0V0z\" fill=\"none\"/>\n",
       "    <path d=\"M18.56 5.44l.94 2.06.94-2.06 2.06-.94-2.06-.94-.94-2.06-.94 2.06-2.06.94zm-11 1L8.5 8.5l.94-2.06 2.06-.94-2.06-.94L8.5 2.5l-.94 2.06-2.06.94zm10 10l.94 2.06.94-2.06 2.06-.94-2.06-.94-.94-2.06-.94 2.06-2.06.94z\"/><path d=\"M17.41 7.96l-1.37-1.37c-.4-.4-.92-.59-1.43-.59-.52 0-1.04.2-1.43.59L10.3 9.45l-7.72 7.72c-.78.78-.78 2.05 0 2.83L4 21.41c.39.39.9.59 1.41.59.51 0 1.02-.2 1.41-.59l7.78-7.78 2.81-2.81c.8-.78.8-2.07 0-2.86zM5.41 20L4 18.59l7.72-7.72 1.47 1.35L5.41 20z\"/>\n",
       "  </svg>\n",
       "      </button>\n",
       "      \n",
       "  <style>\n",
       "    .colab-df-container {\n",
       "      display:flex;\n",
       "      flex-wrap:wrap;\n",
       "      gap: 12px;\n",
       "    }\n",
       "\n",
       "    .colab-df-convert {\n",
       "      background-color: #E8F0FE;\n",
       "      border: none;\n",
       "      border-radius: 50%;\n",
       "      cursor: pointer;\n",
       "      display: none;\n",
       "      fill: #1967D2;\n",
       "      height: 32px;\n",
       "      padding: 0 0 0 0;\n",
       "      width: 32px;\n",
       "    }\n",
       "\n",
       "    .colab-df-convert:hover {\n",
       "      background-color: #E2EBFA;\n",
       "      box-shadow: 0px 1px 2px rgba(60, 64, 67, 0.3), 0px 1px 3px 1px rgba(60, 64, 67, 0.15);\n",
       "      fill: #174EA6;\n",
       "    }\n",
       "\n",
       "    [theme=dark] .colab-df-convert {\n",
       "      background-color: #3B4455;\n",
       "      fill: #D2E3FC;\n",
       "    }\n",
       "\n",
       "    [theme=dark] .colab-df-convert:hover {\n",
       "      background-color: #434B5C;\n",
       "      box-shadow: 0px 1px 3px 1px rgba(0, 0, 0, 0.15);\n",
       "      filter: drop-shadow(0px 1px 2px rgba(0, 0, 0, 0.3));\n",
       "      fill: #FFFFFF;\n",
       "    }\n",
       "  </style>\n",
       "\n",
       "      <script>\n",
       "        const buttonEl =\n",
       "          document.querySelector('#df-c455f9d4-c0a8-498c-be68-67ebe8afb4c3 button.colab-df-convert');\n",
       "        buttonEl.style.display =\n",
       "          google.colab.kernel.accessAllowed ? 'block' : 'none';\n",
       "\n",
       "        async function convertToInteractive(key) {\n",
       "          const element = document.querySelector('#df-c455f9d4-c0a8-498c-be68-67ebe8afb4c3');\n",
       "          const dataTable =\n",
       "            await google.colab.kernel.invokeFunction('convertToInteractive',\n",
       "                                                     [key], {});\n",
       "          if (!dataTable) return;\n",
       "\n",
       "          const docLinkHtml = 'Like what you see? Visit the ' +\n",
       "            '<a target=\"_blank\" href=https://colab.research.google.com/notebooks/data_table.ipynb>data table notebook</a>'\n",
       "            + ' to learn more about interactive tables.';\n",
       "          element.innerHTML = '';\n",
       "          dataTable['output_type'] = 'display_data';\n",
       "          await google.colab.output.renderOutput(dataTable, element);\n",
       "          const docLink = document.createElement('div');\n",
       "          docLink.innerHTML = docLinkHtml;\n",
       "          element.appendChild(docLink);\n",
       "        }\n",
       "      </script>\n",
       "    </div>\n",
       "  </div>\n",
       "  "
      ]
     },
     "metadata": {},
     "execution_count": 7
    }
   ]
  },
  {
   "cell_type": "code",
   "source": [
    "plot_cols = ['T (degC)', 'p (mbar)', 'rho (g/m**3)']\n",
    "plot_features = df[plot_cols]\n",
    "plot_features.index = date_time\n",
    "_ = plot_features.plot(subplots=True)\n",
    "\n",
    "plot_features = df[plot_cols][:480]\n",
    "plot_features.index = date_time[:480]\n",
    "_ = plot_features.plot(subplots=True)"
   ],
   "metadata": {
    "id": "aizgAE_KOv6h",
    "colab": {
     "base_uri": "https://localhost:8080/",
     "height": 553
    },
    "outputId": "14dc1b69-c46e-4cd4-d8c4-eb5ee038aecd"
   },
   "execution_count": 8,
   "outputs": [
    {
     "output_type": "display_data",
     "data": {
      "text/plain": [
       "<Figure size 432x288 with 3 Axes>"
      ],
      "image/png": "[encoded data removed]"
     },
     "metadata": {
      "needs_background": "light"
     }
    },
    {
     "output_type": "display_data",
     "data": {
      "text/plain": [
       "<Figure size 432x288 with 3 Axes>"
      ],
      "image/png": "[encoded data removed]"
     },
     "metadata": {
      "needs_background": "light"
     }
    }
   ]
  },
  {
   "cell_type": "code",
   "source": [
    "df.describe().transpose()"
   ],
   "metadata": {
    "id": "Sygt3hPIOm8j",
    "colab": {
     "base_uri": "https://localhost:8080/",
     "height": 488
    },
    "outputId": "a7fc6fbc-7d73-421d-882f-02992f4971d0"
   },
   "execution_count": 9,
   "outputs": [
    {
     "output_type": "execute_result",
     "data": {
      "text/plain": [
       "                   count         mean        std      min      25%      50%  \\\n",
       "p (mbar)         70091.0   989.212842   8.358886   913.60   984.20   989.57   \n",
       "T (degC)         70091.0     9.450482   8.423384   -22.76     3.35     9.41   \n",
       "Tpot (K)         70091.0   283.493086   8.504424   250.85   277.44   283.46   \n",
       "Tdew (degC)      70091.0     4.956471   6.730081   -24.80     0.24     5.21   \n",
       "rh (%)           70091.0    76.009788  16.474920    13.88    65.21    79.30   \n",
       "VPmax (mbar)     70091.0    13.576576   7.739883     0.97     7.77    11.82   \n",
       "VPact (mbar)     70091.0     9.533968   4.183658     0.81     6.22     8.86   \n",
       "VPdef (mbar)     70091.0     4.042536   4.898549     0.00     0.87     2.19   \n",
       "sh (g/kg)        70091.0     6.022560   2.655812     0.51     3.92     5.59   \n",
       "H2OC (mmol/mol)  70091.0     9.640437   4.234862     0.81     6.29     8.96   \n",
       "rho (g/m**3)     70091.0  1216.061232  39.974263  1059.45  1187.47  1213.80   \n",
       "wv (m/s)         70091.0     1.702567  65.447512 -9999.00     0.99     1.76   \n",
       "max. wv (m/s)    70091.0     2.963041  75.597657 -9999.00     1.76     2.98   \n",
       "wd (deg)         70091.0   174.789095  86.619431     0.00   125.30   198.10   \n",
       "\n",
       "                      75%      max  \n",
       "p (mbar)          994.720  1015.29  \n",
       "T (degC)           15.480    37.28  \n",
       "Tpot (K)          289.530   311.21  \n",
       "Tdew (degC)        10.080    23.06  \n",
       "rh (%)             89.400   100.00  \n",
       "VPmax (mbar)       17.610    63.77  \n",
       "VPact (mbar)       12.360    28.25  \n",
       "VPdef (mbar)        5.300    46.01  \n",
       "sh (g/kg)           7.800    18.07  \n",
       "H2OC (mmol/mol)    12.490    28.74  \n",
       "rho (g/m**3)     1242.765  1393.54  \n",
       "wv (m/s)            2.860    14.01  \n",
       "max. wv (m/s)       4.740    23.50  \n",
       "wd (deg)          234.000   360.00  "
      ],
      "text/html": [
       "\n",
       "  <div id=\"df-8230782f-2286-4d18-bb62-95da55f2bacf\">\n",
       "    <div class=\"colab-df-container\">\n",
       "      <div>\n",
       "<style scoped>\n",
       "    .dataframe tbody tr th:only-of-type {\n",
       "        vertical-align: middle;\n",
       "    }\n",
       "\n",
       "    .dataframe tbody tr th {\n",
       "        vertical-align: top;\n",
       "    }\n",
       "\n",
       "    .dataframe thead th {\n",
       "        text-align: right;\n",
       "    }\n",
       "</style>\n",
       "<table border=\"1\" class=\"dataframe\">\n",
       "  <thead>\n",
       "    <tr style=\"text-align: right;\">\n",
       "      <th></th>\n",
       "      <th>count</th>\n",
       "      <th>mean</th>\n",
       "      <th>std</th>\n",
       "      <th>min</th>\n",
       "      <th>25%</th>\n",
       "      <th>50%</th>\n",
       "      <th>75%</th>\n",
       "      <th>max</th>\n",
       "    </tr>\n",
       "  </thead>\n",
       "  <tbody>\n",
       "    <tr>\n",
       "      <th>p (mbar)</th>\n",
       "      <td>70091.0</td>\n",
       "      <td>989.212842</td>\n",
       "      <td>8.358886</td>\n",
       "      <td>913.60</td>\n",
       "      <td>984.20</td>\n",
       "      <td>989.57</td>\n",
       "      <td>994.720</td>\n",
       "      <td>1015.29</td>\n",
       "    </tr>\n",
       "    <tr>\n",
       "      <th>T (degC)</th>\n",
       "      <td>70091.0</td>\n",
       "      <td>9.450482</td>\n",
       "      <td>8.423384</td>\n",
       "      <td>-22.76</td>\n",
       "      <td>3.35</td>\n",
       "      <td>9.41</td>\n",
       "      <td>15.480</td>\n",
       "      <td>37.28</td>\n",
       "    </tr>\n",
       "    <tr>\n",
       "      <th>Tpot (K)</th>\n",
       "      <td>70091.0</td>\n",
       "      <td>283.493086</td>\n",
       "      <td>8.504424</td>\n",
       "      <td>250.85</td>\n",
       "      <td>277.44</td>\n",
       "      <td>283.46</td>\n",
       "      <td>289.530</td>\n",
       "      <td>311.21</td>\n",
       "    </tr>\n",
       "    <tr>\n",
       "      <th>Tdew (degC)</th>\n",
       "      <td>70091.0</td>\n",
       "      <td>4.956471</td>\n",
       "      <td>6.730081</td>\n",
       "      <td>-24.80</td>\n",
       "      <td>0.24</td>\n",
       "      <td>5.21</td>\n",
       "      <td>10.080</td>\n",
       "      <td>23.06</td>\n",
       "    </tr>\n",
       "    <tr>\n",
       "      <th>rh (%)</th>\n",
       "      <td>70091.0</td>\n",
       "      <td>76.009788</td>\n",
       "      <td>16.474920</td>\n",
       "      <td>13.88</td>\n",
       "      <td>65.21</td>\n",
       "      <td>79.30</td>\n",
       "      <td>89.400</td>\n",
       "      <td>100.00</td>\n",
       "    </tr>\n",
       "    <tr>\n",
       "      <th>VPmax (mbar)</th>\n",
       "      <td>70091.0</td>\n",
       "      <td>13.576576</td>\n",
       "      <td>7.739883</td>\n",
       "      <td>0.97</td>\n",
       "      <td>7.77</td>\n",
       "      <td>11.82</td>\n",
       "      <td>17.610</td>\n",
       "      <td>63.77</td>\n",
       "    </tr>\n",
       "    <tr>\n",
       "      <th>VPact (mbar)</th>\n",
       "      <td>70091.0</td>\n",
       "      <td>9.533968</td>\n",
       "      <td>4.183658</td>\n",
       "      <td>0.81</td>\n",
       "      <td>6.22</td>\n",
       "      <td>8.86</td>\n",
       "      <td>12.360</td>\n",
       "      <td>28.25</td>\n",
       "    </tr>\n",
       "    <tr>\n",
       "      <th>VPdef (mbar)</th>\n",
       "      <td>70091.0</td>\n",
       "      <td>4.042536</td>\n",
       "      <td>4.898549</td>\n",
       "      <td>0.00</td>\n",
       "      <td>0.87</td>\n",
       "      <td>2.19</td>\n",
       "      <td>5.300</td>\n",
       "      <td>46.01</td>\n",
       "    </tr>\n",
       "    <tr>\n",
       "      <th>sh (g/kg)</th>\n",
       "      <td>70091.0</td>\n",
       "      <td>6.022560</td>\n",
       "      <td>2.655812</td>\n",
       "      <td>0.51</td>\n",
       "      <td>3.92</td>\n",
       "      <td>5.59</td>\n",
       "      <td>7.800</td>\n",
       "      <td>18.07</td>\n",
       "    </tr>\n",
       "    <tr>\n",
       "      <th>H2OC (mmol/mol)</th>\n",
       "      <td>70091.0</td>\n",
       "      <td>9.640437</td>\n",
       "      <td>4.234862</td>\n",
       "      <td>0.81</td>\n",
       "      <td>6.29</td>\n",
       "      <td>8.96</td>\n",
       "      <td>12.490</td>\n",
       "      <td>28.74</td>\n",
       "    </tr>\n",
       "    <tr>\n",
       "      <th>rho (g/m**3)</th>\n",
       "      <td>70091.0</td>\n",
       "      <td>1216.061232</td>\n",
       "      <td>39.974263</td>\n",
       "      <td>1059.45</td>\n",
       "      <td>1187.47</td>\n",
       "      <td>1213.80</td>\n",
       "      <td>1242.765</td>\n",
       "      <td>1393.54</td>\n",
       "    </tr>\n",
       "    <tr>\n",
       "      <th>wv (m/s)</th>\n",
       "      <td>70091.0</td>\n",
       "      <td>1.702567</td>\n",
       "      <td>65.447512</td>\n",
       "      <td>-9999.00</td>\n",
       "      <td>0.99</td>\n",
       "      <td>1.76</td>\n",
       "      <td>2.860</td>\n",
       "      <td>14.01</td>\n",
       "    </tr>\n",
       "    <tr>\n",
       "      <th>max. wv (m/s)</th>\n",
       "      <td>70091.0</td>\n",
       "      <td>2.963041</td>\n",
       "      <td>75.597657</td>\n",
       "      <td>-9999.00</td>\n",
       "      <td>1.76</td>\n",
       "      <td>2.98</td>\n",
       "      <td>4.740</td>\n",
       "      <td>23.50</td>\n",
       "    </tr>\n",
       "    <tr>\n",
       "      <th>wd (deg)</th>\n",
       "      <td>70091.0</td>\n",
       "      <td>174.789095</td>\n",
       "      <td>86.619431</td>\n",
       "      <td>0.00</td>\n",
       "      <td>125.30</td>\n",
       "      <td>198.10</td>\n",
       "      <td>234.000</td>\n",
       "      <td>360.00</td>\n",
       "    </tr>\n",
       "  </tbody>\n",
       "</table>\n",
       "</div>\n",
       "      <button class=\"colab-df-convert\" onclick=\"convertToInteractive('df-8230782f-2286-4d18-bb62-95da55f2bacf')\"\n",
       "              title=\"Convert this dataframe to an interactive table.\"\n",
       "              style=\"display:none;\">\n",
       "        \n",
       "  <svg xmlns=\"http://www.w3.org/2000/svg\" height=\"24px\"viewBox=\"0 0 24 24\"\n",
       "       width=\"24px\">\n",
       "    <path d=\"M0 0h24v24H0V0z\" fill=\"none\"/>\n",
       "    <path d=\"M18.56 5.44l.94 2.06.94-2.06 2.06-.94-2.06-.94-.94-2.06-.94 2.06-2.06.94zm-11 1L8.5 8.5l.94-2.06 2.06-.94-2.06-.94L8.5 2.5l-.94 2.06-2.06.94zm10 10l.94 2.06.94-2.06 2.06-.94-2.06-.94-.94-2.06-.94 2.06-2.06.94z\"/><path d=\"M17.41 7.96l-1.37-1.37c-.4-.4-.92-.59-1.43-.59-.52 0-1.04.2-1.43.59L10.3 9.45l-7.72 7.72c-.78.78-.78 2.05 0 2.83L4 21.41c.39.39.9.59 1.41.59.51 0 1.02-.2 1.41-.59l7.78-7.78 2.81-2.81c.8-.78.8-2.07 0-2.86zM5.41 20L4 18.59l7.72-7.72 1.47 1.35L5.41 20z\"/>\n",
       "  </svg>\n",
       "      </button>\n",
       "      \n",
       "  <style>\n",
       "    .colab-df-container {\n",
       "      display:flex;\n",
       "      flex-wrap:wrap;\n",
       "      gap: 12px;\n",
       "    }\n",
       "\n",
       "    .colab-df-convert {\n",
       "      background-color: #E8F0FE;\n",
       "      border: none;\n",
       "      border-radius: 50%;\n",
       "      cursor: pointer;\n",
       "      display: none;\n",
       "      fill: #1967D2;\n",
       "      height: 32px;\n",
       "      padding: 0 0 0 0;\n",
       "      width: 32px;\n",
       "    }\n",
       "\n",
       "    .colab-df-convert:hover {\n",
       "      background-color: #E2EBFA;\n",
       "      box-shadow: 0px 1px 2px rgba(60, 64, 67, 0.3), 0px 1px 3px 1px rgba(60, 64, 67, 0.15);\n",
       "      fill: #174EA6;\n",
       "    }\n",
       "\n",
       "    [theme=dark] .colab-df-convert {\n",
       "      background-color: #3B4455;\n",
       "      fill: #D2E3FC;\n",
       "    }\n",
       "\n",
       "    [theme=dark] .colab-df-convert:hover {\n",
       "      background-color: #434B5C;\n",
       "      box-shadow: 0px 1px 3px 1px rgba(0, 0, 0, 0.15);\n",
       "      filter: drop-shadow(0px 1px 2px rgba(0, 0, 0, 0.3));\n",
       "      fill: #FFFFFF;\n",
       "    }\n",
       "  </style>\n",
       "\n",
       "      <script>\n",
       "        const buttonEl =\n",
       "          document.querySelector('#df-8230782f-2286-4d18-bb62-95da55f2bacf button.colab-df-convert');\n",
       "        buttonEl.style.display =\n",
       "          google.colab.kernel.accessAllowed ? 'block' : 'none';\n",
       "\n",
       "        async function convertToInteractive(key) {\n",
       "          const element = document.querySelector('#df-8230782f-2286-4d18-bb62-95da55f2bacf');\n",
       "          const dataTable =\n",
       "            await google.colab.kernel.invokeFunction('convertToInteractive',\n",
       "                                                     [key], {});\n",
       "          if (!dataTable) return;\n",
       "\n",
       "          const docLinkHtml = 'Like what you see? Visit the ' +\n",
       "            '<a target=\"_blank\" href=https://colab.research.google.com/notebooks/data_table.ipynb>data table notebook</a>'\n",
       "            + ' to learn more about interactive tables.';\n",
       "          element.innerHTML = '';\n",
       "          dataTable['output_type'] = 'display_data';\n",
       "          await google.colab.output.renderOutput(dataTable, element);\n",
       "          const docLink = document.createElement('div');\n",
       "          docLink.innerHTML = docLinkHtml;\n",
       "          element.appendChild(docLink);\n",
       "        }\n",
       "      </script>\n",
       "    </div>\n",
       "  </div>\n",
       "  "
      ]
     },
     "metadata": {},
     "execution_count": 9
    }
   ]
  },
  {
   "cell_type": "code",
   "source": [
    "wv = df['wv (m/s)']\n",
    "wv"
   ],
   "metadata": {
    "colab": {
     "base_uri": "https://localhost:8080/"
    },
    "id": "wsEvWa32t2HB",
    "outputId": "184b2eb8-5a7b-4733-dae5-c9eb3c6f3e02"
   },
   "execution_count": 10,
   "outputs": [
    {
     "output_type": "execute_result",
     "data": {
      "text/plain": [
       "5         0.21\n",
       "11        0.25\n",
       "17        0.18\n",
       "23        0.10\n",
       "29        0.40\n",
       "          ... \n",
       "420521    0.87\n",
       "420527    1.02\n",
       "420533    0.71\n",
       "420539    0.35\n",
       "420545    0.56\n",
       "Name: wv (m/s), Length: 70091, dtype: float64"
      ]
     },
     "metadata": {},
     "execution_count": 10
    }
   ]
  },
  {
   "cell_type": "code",
   "source": [
    "bad_wv = wv == -9999.0\n",
    "bad_wv"
   ],
   "metadata": {
    "colab": {
     "base_uri": "https://localhost:8080/"
    },
    "id": "JR2SwUvXuGVI",
    "outputId": "2e2fe3b5-9dc5-4383-d9d2-a14472563994"
   },
   "execution_count": 11,
   "outputs": [
    {
     "output_type": "execute_result",
     "data": {
      "text/plain": [
       "5         False\n",
       "11        False\n",
       "17        False\n",
       "23        False\n",
       "29        False\n",
       "          ...  \n",
       "420521    False\n",
       "420527    False\n",
       "420533    False\n",
       "420539    False\n",
       "420545    False\n",
       "Name: wv (m/s), Length: 70091, dtype: bool"
      ]
     },
     "metadata": {},
     "execution_count": 11
    }
   ]
  },
  {
   "cell_type": "code",
   "source": [
    "wv[bad_wv]"
   ],
   "metadata": {
    "colab": {
     "base_uri": "https://localhost:8080/"
    },
    "id": "1dD_guzzuRnp",
    "outputId": "224dfa1f-0c84-4b9b-84f7-2a2416620c51"
   },
   "execution_count": 12,
   "outputs": [
    {
     "output_type": "execute_result",
     "data": {
      "text/plain": [
       "343583   -9999.0\n",
       "343589   -9999.0\n",
       "343595   -9999.0\n",
       "Name: wv (m/s), dtype: float64"
      ]
     },
     "metadata": {},
     "execution_count": 12
    }
   ]
  },
  {
   "cell_type": "code",
   "source": [
    "wv[bad_wv] = 0.0\n",
    "\n",
    "max_wv = df['max. wv (m/s)']\n",
    "bad_max_wv = max_wv == -9999.0\n",
    "max_wv[bad_max_wv] = 0.0\n",
    "\n",
    "# The above inplace edits are reflected in the DataFrame.\n",
    "df['wv (m/s)'].min()"
   ],
   "metadata": {
    "colab": {
     "base_uri": "https://localhost:8080/"
    },
    "id": "25tX4vU4uXvw",
    "outputId": "7d180d05-2bca-49ed-f8dc-18e8612a9a16"
   },
   "execution_count": 13,
   "outputs": [
    {
     "output_type": "execute_result",
     "data": {
      "text/plain": [
       "0.0"
      ]
     },
     "metadata": {},
     "execution_count": 13
    }
   ]
  },
  {
   "cell_type": "code",
   "source": [
    "plt.hist2d(df['wd (deg)'], df['wv (m/s)'], bins=(50, 50), vmax=400)\n",
    "plt.colorbar()\n",
    "plt.xlabel('Wind Direction [deg]')\n",
    "plt.ylabel('Wind Velocity [m/s]')"
   ],
   "metadata": {
    "colab": {
     "base_uri": "https://localhost:8080/",
     "height": 301
    },
    "id": "yQ73ZIBmujn9",
    "outputId": "0acae3d8-b707-4a05-c136-0eea0ba44f64"
   },
   "execution_count": 14,
   "outputs": [
    {
     "output_type": "execute_result",
     "data": {
      "text/plain": [
       "Text(0, 0.5, 'Wind Velocity [m/s]')"
      ]
     },
     "metadata": {},
     "execution_count": 14
    },
    {
     "output_type": "display_data",
     "data": {
      "text/plain": [
       "<Figure size 432x288 with 2 Axes>"
      ],
      "image/png": "[encoded data removed]"
     },
     "metadata": {
      "needs_background": "light"
     }
    }
   ]
  },
  {
   "cell_type": "code",
   "source": [
    "wv = df.pop('wv (m/s)')\n",
    "max_wv = df.pop('max. wv (m/s)')\n",
    "\n",
    "# Convert to radians.\n",
    "wd_rad = df.pop('wd (deg)')*np.pi / 180"
   ],
   "metadata": {
    "id": "voqDc1TkBRyi"
   },
   "execution_count": 15,
   "outputs": []
  },
  {
   "cell_type": "code",
   "source": [
    "# Calculate the wind x and y components.\n",
    "df['Wx'] = wv*np.cos(wd_rad)\n",
    "df['Wy'] = wv*np.sin(wd_rad)\n",
    "\n",
    "# Calculate the max wind x and y components.\n",
    "df['max Wx'] = max_wv*np.cos(wd_rad)\n",
    "df['max Wy'] = max_wv*np.sin(wd_rad)"
   ],
   "metadata": {
    "id": "Tj-jIhCFBUBA"
   },
   "execution_count": 16,
   "outputs": []
  },
  {
   "cell_type": "code",
   "source": [
    "plt.hist2d(df['Wx'], df['Wy'], bins=(50, 50), vmax=400)\n",
    "plt.colorbar()\n",
    "plt.xlabel('Wind X [m/s]')\n",
    "plt.ylabel('Wind Y [m/s]')\n",
    "ax = plt.gca()\n",
    "ax.axis('tight')"
   ],
   "metadata": {
    "colab": {
     "base_uri": "https://localhost:8080/",
     "height": 301
    },
    "id": "uLh6CJ6OBqfO",
    "outputId": "812fef64-2e5f-48d7-d4b0-26c1271a0302"
   },
   "execution_count": 17,
   "outputs": [
    {
     "output_type": "execute_result",
     "data": {
      "text/plain": [
       "(-11.305513973134667, 8.24469928549079, -8.27438540335515, 7.7338312955467785)"
      ]
     },
     "metadata": {},
     "execution_count": 17
    },
    {
     "output_type": "display_data",
     "data": {
      "text/plain": [
       "<Figure size 432x288 with 2 Axes>"
      ],
      "image/png": "[encoded data removed]"
     },
     "metadata": {
      "needs_background": "light"
     }
    }
   ]
  },
  {
   "cell_type": "code",
   "source": [
    "timestamp_s = date_time.map(pd.Timestamp.timestamp)\n",
    "timestamp_s"
   ],
   "metadata": {
    "colab": {
     "base_uri": "https://localhost:8080/"
    },
    "id": "VK_jcqfBBuSZ",
    "outputId": "e4c7e62f-3df4-43a3-f6dc-8a3ab3a3850e"
   },
   "execution_count": 18,
   "outputs": [
    {
     "output_type": "execute_result",
     "data": {
      "text/plain": [
       "5         1.230772e+09\n",
       "11        1.230775e+09\n",
       "17        1.230779e+09\n",
       "23        1.230782e+09\n",
       "29        1.230786e+09\n",
       "              ...     \n",
       "420521    1.483211e+09\n",
       "420527    1.483215e+09\n",
       "420533    1.483219e+09\n",
       "420539    1.483222e+09\n",
       "420545    1.483226e+09\n",
       "Name: Date Time, Length: 70091, dtype: float64"
      ]
     },
     "metadata": {},
     "execution_count": 18
    }
   ]
  },
  {
   "cell_type": "code",
   "source": [
    "day = 24*60*60\n",
    "year = (365.2425)*day\n",
    "\n",
    "df['Day sin'] = np.sin(timestamp_s * (2 * np.pi / day))\n",
    "df['Day cos'] = np.cos(timestamp_s * (2 * np.pi / day))\n",
    "df['Year sin'] = np.sin(timestamp_s * (2 * np.pi / year))\n",
    "df['Year cos'] = np.cos(timestamp_s * (2 * np.pi / year))"
   ],
   "metadata": {
    "id": "va8Zz4Z4Cj5L"
   },
   "execution_count": 19,
   "outputs": []
  },
  {
   "cell_type": "code",
   "source": [
    "plt.plot(np.array(df['Day sin'])[:25])\n",
    "plt.plot(np.array(df['Day cos'])[:25])\n",
    "plt.xlabel('Time [h]')\n",
    "plt.title('Time of day signal')"
   ],
   "metadata": {
    "colab": {
     "base_uri": "https://localhost:8080/",
     "height": 313
    },
    "id": "G28_-05dD2hM",
    "outputId": "f059d003-b46f-4597-b9a2-28b6cbfc7171"
   },
   "execution_count": 20,
   "outputs": [
    {
     "output_type": "execute_result",
     "data": {
      "text/plain": [
       "Text(0.5, 1.0, 'Time of day signal')"
      ]
     },
     "metadata": {},
     "execution_count": 20
    },
    {
     "output_type": "display_data",
     "data": {
      "text/plain": [
       "<Figure size 432x288 with 1 Axes>"
      ],
      "image/png": "[encoded data removed]"
     },
     "metadata": {
      "needs_background": "light"
     }
    }
   ]
  },
  {
   "cell_type": "code",
   "source": [
    "fft = tf.signal.rfft(df['T (degC)'])"
   ],
   "metadata": {
    "id": "W-QKMzHWE_R0"
   },
   "execution_count": 21,
   "outputs": []
  },
  {
   "cell_type": "code",
   "source": [
    "fft"
   ],
   "metadata": {
    "colab": {
     "base_uri": "https://localhost:8080/"
    },
    "id": "kVys0V7jE_6V",
    "outputId": "7483e26e-7523-407c-af4b-7ad96de7bc81"
   },
   "execution_count": 22,
   "outputs": [
    {
     "output_type": "execute_result",
     "data": {
      "text/plain": [
       "<tf.Tensor: shape=(35046,), dtype=complex64, numpy=\n",
       "array([ 6.6239369e+05+0.0000000e+00j, -4.6668301e+03+3.7410137e+04j,\n",
       "       -2.7058481e+03+1.2410741e+04j, ..., -2.9588844e+01+2.2237257e+01j,\n",
       "        2.2038260e+01-3.7979336e+01j,  6.8314796e+01+2.2538645e+01j],\n",
       "      dtype=complex64)>"
      ]
     },
     "metadata": {},
     "execution_count": 22
    }
   ]
  },
  {
   "cell_type": "code",
   "source": [
    "f_per_dataset = np.arange(0, len(fft))"
   ],
   "metadata": {
    "id": "wnMYbFVpFBRI"
   },
   "execution_count": 23,
   "outputs": []
  },
  {
   "cell_type": "code",
   "source": [
    "f_per_dataset"
   ],
   "metadata": {
    "colab": {
     "base_uri": "https://localhost:8080/"
    },
    "id": "fEJfQD-5FRQ8",
    "outputId": "029bb8ea-6997-4cee-953b-019e308b5190"
   },
   "execution_count": 24,
   "outputs": [
    {
     "output_type": "execute_result",
     "data": {
      "text/plain": [
       "array([    0,     1,     2, ..., 35043, 35044, 35045])"
      ]
     },
     "metadata": {},
     "execution_count": 24
    }
   ]
  },
  {
   "cell_type": "code",
   "source": [
    "n_samples_h = len(df['T (degC)'])"
   ],
   "metadata": {
    "id": "pomtoX44FSXJ"
   },
   "execution_count": 25,
   "outputs": []
  },
  {
   "cell_type": "code",
   "source": [
    "n_samples_h"
   ],
   "metadata": {
    "colab": {
     "base_uri": "https://localhost:8080/"
    },
    "id": "YBXKCnjyFk1b",
    "outputId": "ab061810-05fd-4f7b-cb4e-09c7e910752b"
   },
   "execution_count": 26,
   "outputs": [
    {
     "output_type": "execute_result",
     "data": {
      "text/plain": [
       "70091"
      ]
     },
     "metadata": {},
     "execution_count": 26
    }
   ]
  },
  {
   "cell_type": "code",
   "source": [
    "hours_per_year = 24*365.2524\n",
    "years_per_dataset = n_samples_h/(hours_per_year)\n",
    "years_per_dataset"
   ],
   "metadata": {
    "colab": {
     "base_uri": "https://localhost:8080/"
    },
    "id": "cMSSpDPlFnYq",
    "outputId": "8015e7e1-32dd-4b9f-8999-e25ae4e5cd2a"
   },
   "execution_count": 27,
   "outputs": [
    {
     "output_type": "execute_result",
     "data": {
      "text/plain": [
       "7.995726608047841"
      ]
     },
     "metadata": {},
     "execution_count": 27
    }
   ]
  },
  {
   "cell_type": "code",
   "source": [
    "f_per_year = f_per_dataset/years_per_dataset\n",
    "f_per_year"
   ],
   "metadata": {
    "colab": {
     "base_uri": "https://localhost:8080/"
    },
    "id": "w5tLTfOZFuUk",
    "outputId": "ebb9c7d8-7dfb-43d6-9675-3412ef011770"
   },
   "execution_count": 28,
   "outputs": [
    {
     "output_type": "execute_result",
     "data": {
      "text/plain": [
       "array([0.00000000e+00, 1.25066807e-01, 2.50133615e-01, ...,\n",
       "       4.38271613e+03, 4.38284120e+03, 4.38296627e+03])"
      ]
     },
     "metadata": {},
     "execution_count": 28
    }
   ]
  },
  {
   "cell_type": "code",
   "source": [
    "plt.step(f_per_year, np.abs(fft))\n",
    "plt.xscale('log')\n",
    "plt.ylim(0, 400000)\n",
    "plt.xlim([0.1, max(plt.xlim())])\n",
    "plt.xticks([1, 365.2524], labels=['1/Year', '1/day'])\n",
    "_ = plt.xlabel('Frequency (log scale)')"
   ],
   "metadata": {
    "colab": {
     "base_uri": "https://localhost:8080/",
     "height": 283
    },
    "id": "MRvf9l50F69G",
    "outputId": "9e5f99b8-c988-45a0-8de9-8e092b435c6b"
   },
   "execution_count": 29,
   "outputs": [
    {
     "output_type": "display_data",
     "data": {
      "text/plain": [
       "<Figure size 432x288 with 1 Axes>"
      ],
      "image/png": "[encoded data removed]"
     },
     "metadata": {
      "needs_background": "light"
     }
    }
   ]
  },
  {
   "cell_type": "code",
   "source": [
    "column_indices = {name: i for i, name in enumerate(df.columns)}\n",
    "column_indices"
   ],
   "metadata": {
    "id": "1zeyvowOG348",
    "outputId": "c8bb47db-772e-497f-8250-8976b0de2eff",
    "colab": {
     "base_uri": "https://localhost:8080/"
    }
   },
   "execution_count": 30,
   "outputs": [
    {
     "output_type": "execute_result",
     "data": {
      "text/plain": [
       "{'Day cos': 16,\n",
       " 'Day sin': 15,\n",
       " 'H2OC (mmol/mol)': 9,\n",
       " 'T (degC)': 1,\n",
       " 'Tdew (degC)': 3,\n",
       " 'Tpot (K)': 2,\n",
       " 'VPact (mbar)': 6,\n",
       " 'VPdef (mbar)': 7,\n",
       " 'VPmax (mbar)': 5,\n",
       " 'Wx': 11,\n",
       " 'Wy': 12,\n",
       " 'Year cos': 18,\n",
       " 'Year sin': 17,\n",
       " 'max Wx': 13,\n",
       " 'max Wy': 14,\n",
       " 'p (mbar)': 0,\n",
       " 'rh (%)': 4,\n",
       " 'rho (g/m**3)': 10,\n",
       " 'sh (g/kg)': 8}"
      ]
     },
     "metadata": {},
     "execution_count": 30
    }
   ]
  },
  {
   "cell_type": "markdown",
   "source": [
    "#Create train, test and val splits\n"
   ],
   "metadata": {
    "id": "G07q988D_Vda"
   }
  },
  {
   "cell_type": "code",
   "source": [
    "n = len(df)\n",
    "train_df = df[0:int(n*0.7)]\n",
    "val_df = df[int(n*0.7):int(n*0.9)]\n",
    "test_df = df[int(n*0.9):]\n",
    "\n",
    "num_features = df.shape[1]"
   ],
   "metadata": {
    "id": "EQWJNhCNG6i9"
   },
   "execution_count": 31,
   "outputs": []
  },
  {
   "cell_type": "markdown",
   "source": [
    "#Normalize\n"
   ],
   "metadata": {
    "id": "XSpSBw5xW1qw"
   }
  },
  {
   "cell_type": "code",
   "source": [
    "train_mean = train_df.mean()\n",
    "train_std = train_df.std()\n",
    "\n",
    "train_df = (train_df - train_mean) / train_std\n",
    "train_df"
   ],
   "metadata": {
    "colab": {
     "base_uri": "https://localhost:8080/",
     "height": 505
    },
    "id": "1Kk1WpmxD6IX",
    "outputId": "7c69418d-13df-46e4-ccc1-ced2c0f0058b"
   },
   "execution_count": 32,
   "outputs": [
    {
     "output_type": "execute_result",
     "data": {
      "text/plain": [
       "        p (mbar)  T (degC)  Tpot (K)  Tdew (degC)    rh (%)  VPmax (mbar)  \\\n",
       "5       0.945308 -1.982473 -2.041888    -1.918973  1.117102     -1.302851   \n",
       "11      0.959770 -2.078372 -2.138166    -2.060964  1.044617     -1.330143   \n",
       "17      0.986284 -2.070284 -2.132435    -2.045187  1.062738     -1.328843   \n",
       "23      1.004362 -2.098014 -2.161090    -2.096820  1.008375     -1.336641   \n",
       "29      1.061006 -2.165028 -2.232152    -2.187178  0.984214     -1.353535   \n",
       "...          ...       ...       ...          ...       ...           ...   \n",
       "294353  0.169167  0.904892  0.886564     1.571997  0.947972      0.776492   \n",
       "294359  0.266787  0.879473  0.853325     1.405624  0.621793      0.742703   \n",
       "294365  0.217374  0.740824  0.719224     1.425703  1.086900      0.559461   \n",
       "294371  0.213759  0.710783  0.689423     1.412795  1.147303      0.521772   \n",
       "294377  0.166757  0.653013  0.636700     1.352556  1.177505      0.450295   \n",
       "\n",
       "        VPact (mbar)  VPdef (mbar)  sh (g/kg)  H2OC (mmol/mol)  rho (g/m**3)  \\\n",
       "5          -1.477323     -0.790424  -1.480036        -1.482697      2.218524   \n",
       "11         -1.534354     -0.786272  -1.536190        -1.539035      2.325708   \n",
       "17         -1.527225     -0.788348  -1.528703        -1.531992      2.323998   \n",
       "23         -1.546235     -0.782121  -1.547420        -1.553119      2.358913   \n",
       "29         -1.579503     -0.782121  -1.581113        -1.585982      2.446320   \n",
       "...              ...           ...        ...              ...           ...   \n",
       "294353      1.984916     -0.493604   1.979016         1.977352     -0.882480   \n",
       "294359      1.680752     -0.283962   1.672043         1.672192     -0.822662   \n",
       "294365      1.716396     -0.605690   1.709479         1.707403     -0.716211   \n",
       "294371      1.692633     -0.645127   1.687018         1.683929     -0.689842   \n",
       "294377      1.588077     -0.670035   1.582198         1.580644     -0.646139   \n",
       "\n",
       "              Wx        Wy    max Wx    max Wy   Day sin   Day cos  Year sin  \\\n",
       "5       0.193409  0.221161  0.111140  0.217928  0.366111  1.366069 -0.061052   \n",
       "11      0.172987  0.222101  0.109458  0.227798  0.707200  1.224794 -0.060029   \n",
       "17      0.207983  0.276266  0.111218  0.324078  1.000100  1.000059 -0.059006   \n",
       "23      0.270343  0.195267  0.246907  0.145176  1.224850  0.707179 -0.057983   \n",
       "29      0.112264  0.350818  0.048640  0.402053  1.366133  0.366112 -0.056960   \n",
       "...          ...       ...       ...       ...       ...       ...       ...   \n",
       "294353 -0.166720 -1.508412 -0.155728 -1.363530 -0.955374  1.042725 -0.855026   \n",
       "294359 -0.824901 -0.641039 -0.704391 -0.475387 -0.652949  1.254471 -0.855883   \n",
       "294365 -0.030746  0.645277  0.013960  0.600050 -0.306022  1.380734 -0.856739   \n",
       "294371  0.014300 -0.102616 -0.095117 -0.198426  0.061765  1.412909 -0.857595   \n",
       "294377  0.519065 -0.328126  0.627259 -0.494435  0.425349  1.348804 -0.858451   \n",
       "\n",
       "        Year cos  \n",
       "5       1.428434  \n",
       "11      1.428424  \n",
       "17      1.428412  \n",
       "23      1.428400  \n",
       "29      1.428388  \n",
       "...          ...  \n",
       "294353 -1.154613  \n",
       "294359 -1.154062  \n",
       "294365 -1.153511  \n",
       "294371 -1.152959  \n",
       "294377 -1.152406  \n",
       "\n",
       "[49063 rows x 19 columns]"
      ],
      "text/html": [
       "\n",
       "  <div id=\"df-048ea0ad-39fa-4294-aec2-88f9da830d11\">\n",
       "    <div class=\"colab-df-container\">\n",
       "      <div>\n",
       "<style scoped>\n",
       "    .dataframe tbody tr th:only-of-type {\n",
       "        vertical-align: middle;\n",
       "    }\n",
       "\n",
       "    .dataframe tbody tr th {\n",
       "        vertical-align: top;\n",
       "    }\n",
       "\n",
       "    .dataframe thead th {\n",
       "        text-align: right;\n",
       "    }\n",
       "</style>\n",
       "<table border=\"1\" class=\"dataframe\">\n",
       "  <thead>\n",
       "    <tr style=\"text-align: right;\">\n",
       "      <th></th>\n",
       "      <th>p (mbar)</th>\n",
       "      <th>T (degC)</th>\n",
       "      <th>Tpot (K)</th>\n",
       "      <th>Tdew (degC)</th>\n",
       "      <th>rh (%)</th>\n",
       "      <th>VPmax (mbar)</th>\n",
       "      <th>VPact (mbar)</th>\n",
       "      <th>VPdef (mbar)</th>\n",
       "      <th>sh (g/kg)</th>\n",
       "      <th>H2OC (mmol/mol)</th>\n",
       "      <th>rho (g/m**3)</th>\n",
       "      <th>Wx</th>\n",
       "      <th>Wy</th>\n",
       "      <th>max Wx</th>\n",
       "      <th>max Wy</th>\n",
       "      <th>Day sin</th>\n",
       "      <th>Day cos</th>\n",
       "      <th>Year sin</th>\n",
       "      <th>Year cos</th>\n",
       "    </tr>\n",
       "  </thead>\n",
       "  <tbody>\n",
       "    <tr>\n",
       "      <th>5</th>\n",
       "      <td>0.945308</td>\n",
       "      <td>-1.982473</td>\n",
       "      <td>-2.041888</td>\n",
       "      <td>-1.918973</td>\n",
       "      <td>1.117102</td>\n",
       "      <td>-1.302851</td>\n",
       "      <td>-1.477323</td>\n",
       "      <td>-0.790424</td>\n",
       "      <td>-1.480036</td>\n",
       "      <td>-1.482697</td>\n",
       "      <td>2.218524</td>\n",
       "      <td>0.193409</td>\n",
       "      <td>0.221161</td>\n",
       "      <td>0.111140</td>\n",
       "      <td>0.217928</td>\n",
       "      <td>0.366111</td>\n",
       "      <td>1.366069</td>\n",
       "      <td>-0.061052</td>\n",
       "      <td>1.428434</td>\n",
       "    </tr>\n",
       "    <tr>\n",
       "      <th>11</th>\n",
       "      <td>0.959770</td>\n",
       "      <td>-2.078372</td>\n",
       "      <td>-2.138166</td>\n",
       "      <td>-2.060964</td>\n",
       "      <td>1.044617</td>\n",
       "      <td>-1.330143</td>\n",
       "      <td>-1.534354</td>\n",
       "      <td>-0.786272</td>\n",
       "      <td>-1.536190</td>\n",
       "      <td>-1.539035</td>\n",
       "      <td>2.325708</td>\n",
       "      <td>0.172987</td>\n",
       "      <td>0.222101</td>\n",
       "      <td>0.109458</td>\n",
       "      <td>0.227798</td>\n",
       "      <td>0.707200</td>\n",
       "      <td>1.224794</td>\n",
       "      <td>-0.060029</td>\n",
       "      <td>1.428424</td>\n",
       "    </tr>\n",
       "    <tr>\n",
       "      <th>17</th>\n",
       "      <td>0.986284</td>\n",
       "      <td>-2.070284</td>\n",
       "      <td>-2.132435</td>\n",
       "      <td>-2.045187</td>\n",
       "      <td>1.062738</td>\n",
       "      <td>-1.328843</td>\n",
       "      <td>-1.527225</td>\n",
       "      <td>-0.788348</td>\n",
       "      <td>-1.528703</td>\n",
       "      <td>-1.531992</td>\n",
       "      <td>2.323998</td>\n",
       "      <td>0.207983</td>\n",
       "      <td>0.276266</td>\n",
       "      <td>0.111218</td>\n",
       "      <td>0.324078</td>\n",
       "      <td>1.000100</td>\n",
       "      <td>1.000059</td>\n",
       "      <td>-0.059006</td>\n",
       "      <td>1.428412</td>\n",
       "    </tr>\n",
       "    <tr>\n",
       "      <th>23</th>\n",
       "      <td>1.004362</td>\n",
       "      <td>-2.098014</td>\n",
       "      <td>-2.161090</td>\n",
       "      <td>-2.096820</td>\n",
       "      <td>1.008375</td>\n",
       "      <td>-1.336641</td>\n",
       "      <td>-1.546235</td>\n",
       "      <td>-0.782121</td>\n",
       "      <td>-1.547420</td>\n",
       "      <td>-1.553119</td>\n",
       "      <td>2.358913</td>\n",
       "      <td>0.270343</td>\n",
       "      <td>0.195267</td>\n",
       "      <td>0.246907</td>\n",
       "      <td>0.145176</td>\n",
       "      <td>1.224850</td>\n",
       "      <td>0.707179</td>\n",
       "      <td>-0.057983</td>\n",
       "      <td>1.428400</td>\n",
       "    </tr>\n",
       "    <tr>\n",
       "      <th>29</th>\n",
       "      <td>1.061006</td>\n",
       "      <td>-2.165028</td>\n",
       "      <td>-2.232152</td>\n",
       "      <td>-2.187178</td>\n",
       "      <td>0.984214</td>\n",
       "      <td>-1.353535</td>\n",
       "      <td>-1.579503</td>\n",
       "      <td>-0.782121</td>\n",
       "      <td>-1.581113</td>\n",
       "      <td>-1.585982</td>\n",
       "      <td>2.446320</td>\n",
       "      <td>0.112264</td>\n",
       "      <td>0.350818</td>\n",
       "      <td>0.048640</td>\n",
       "      <td>0.402053</td>\n",
       "      <td>1.366133</td>\n",
       "      <td>0.366112</td>\n",
       "      <td>-0.056960</td>\n",
       "      <td>1.428388</td>\n",
       "    </tr>\n",
       "    <tr>\n",
       "      <th>...</th>\n",
       "      <td>...</td>\n",
       "      <td>...</td>\n",
       "      <td>...</td>\n",
       "      <td>...</td>\n",
       "      <td>...</td>\n",
       "      <td>...</td>\n",
       "      <td>...</td>\n",
       "      <td>...</td>\n",
       "      <td>...</td>\n",
       "      <td>...</td>\n",
       "      <td>...</td>\n",
       "      <td>...</td>\n",
       "      <td>...</td>\n",
       "      <td>...</td>\n",
       "      <td>...</td>\n",
       "      <td>...</td>\n",
       "      <td>...</td>\n",
       "      <td>...</td>\n",
       "      <td>...</td>\n",
       "    </tr>\n",
       "    <tr>\n",
       "      <th>294353</th>\n",
       "      <td>0.169167</td>\n",
       "      <td>0.904892</td>\n",
       "      <td>0.886564</td>\n",
       "      <td>1.571997</td>\n",
       "      <td>0.947972</td>\n",
       "      <td>0.776492</td>\n",
       "      <td>1.984916</td>\n",
       "      <td>-0.493604</td>\n",
       "      <td>1.979016</td>\n",
       "      <td>1.977352</td>\n",
       "      <td>-0.882480</td>\n",
       "      <td>-0.166720</td>\n",
       "      <td>-1.508412</td>\n",
       "      <td>-0.155728</td>\n",
       "      <td>-1.363530</td>\n",
       "      <td>-0.955374</td>\n",
       "      <td>1.042725</td>\n",
       "      <td>-0.855026</td>\n",
       "      <td>-1.154613</td>\n",
       "    </tr>\n",
       "    <tr>\n",
       "      <th>294359</th>\n",
       "      <td>0.266787</td>\n",
       "      <td>0.879473</td>\n",
       "      <td>0.853325</td>\n",
       "      <td>1.405624</td>\n",
       "      <td>0.621793</td>\n",
       "      <td>0.742703</td>\n",
       "      <td>1.680752</td>\n",
       "      <td>-0.283962</td>\n",
       "      <td>1.672043</td>\n",
       "      <td>1.672192</td>\n",
       "      <td>-0.822662</td>\n",
       "      <td>-0.824901</td>\n",
       "      <td>-0.641039</td>\n",
       "      <td>-0.704391</td>\n",
       "      <td>-0.475387</td>\n",
       "      <td>-0.652949</td>\n",
       "      <td>1.254471</td>\n",
       "      <td>-0.855883</td>\n",
       "      <td>-1.154062</td>\n",
       "    </tr>\n",
       "    <tr>\n",
       "      <th>294365</th>\n",
       "      <td>0.217374</td>\n",
       "      <td>0.740824</td>\n",
       "      <td>0.719224</td>\n",
       "      <td>1.425703</td>\n",
       "      <td>1.086900</td>\n",
       "      <td>0.559461</td>\n",
       "      <td>1.716396</td>\n",
       "      <td>-0.605690</td>\n",
       "      <td>1.709479</td>\n",
       "      <td>1.707403</td>\n",
       "      <td>-0.716211</td>\n",
       "      <td>-0.030746</td>\n",
       "      <td>0.645277</td>\n",
       "      <td>0.013960</td>\n",
       "      <td>0.600050</td>\n",
       "      <td>-0.306022</td>\n",
       "      <td>1.380734</td>\n",
       "      <td>-0.856739</td>\n",
       "      <td>-1.153511</td>\n",
       "    </tr>\n",
       "    <tr>\n",
       "      <th>294371</th>\n",
       "      <td>0.213759</td>\n",
       "      <td>0.710783</td>\n",
       "      <td>0.689423</td>\n",
       "      <td>1.412795</td>\n",
       "      <td>1.147303</td>\n",
       "      <td>0.521772</td>\n",
       "      <td>1.692633</td>\n",
       "      <td>-0.645127</td>\n",
       "      <td>1.687018</td>\n",
       "      <td>1.683929</td>\n",
       "      <td>-0.689842</td>\n",
       "      <td>0.014300</td>\n",
       "      <td>-0.102616</td>\n",
       "      <td>-0.095117</td>\n",
       "      <td>-0.198426</td>\n",
       "      <td>0.061765</td>\n",
       "      <td>1.412909</td>\n",
       "      <td>-0.857595</td>\n",
       "      <td>-1.152959</td>\n",
       "    </tr>\n",
       "    <tr>\n",
       "      <th>294377</th>\n",
       "      <td>0.166757</td>\n",
       "      <td>0.653013</td>\n",
       "      <td>0.636700</td>\n",
       "      <td>1.352556</td>\n",
       "      <td>1.177505</td>\n",
       "      <td>0.450295</td>\n",
       "      <td>1.588077</td>\n",
       "      <td>-0.670035</td>\n",
       "      <td>1.582198</td>\n",
       "      <td>1.580644</td>\n",
       "      <td>-0.646139</td>\n",
       "      <td>0.519065</td>\n",
       "      <td>-0.328126</td>\n",
       "      <td>0.627259</td>\n",
       "      <td>-0.494435</td>\n",
       "      <td>0.425349</td>\n",
       "      <td>1.348804</td>\n",
       "      <td>-0.858451</td>\n",
       "      <td>-1.152406</td>\n",
       "    </tr>\n",
       "  </tbody>\n",
       "</table>\n",
       "<p>49063 rows × 19 columns</p>\n",
       "</div>\n",
       "      <button class=\"colab-df-convert\" onclick=\"convertToInteractive('df-048ea0ad-39fa-4294-aec2-88f9da830d11')\"\n",
       "              title=\"Convert this dataframe to an interactive table.\"\n",
       "              style=\"display:none;\">\n",
       "        \n",
       "  <svg xmlns=\"http://www.w3.org/2000/svg\" height=\"24px\"viewBox=\"0 0 24 24\"\n",
       "       width=\"24px\">\n",
       "    <path d=\"M0 0h24v24H0V0z\" fill=\"none\"/>\n",
       "    <path d=\"M18.56 5.44l.94 2.06.94-2.06 2.06-.94-2.06-.94-.94-2.06-.94 2.06-2.06.94zm-11 1L8.5 8.5l.94-2.06 2.06-.94-2.06-.94L8.5 2.5l-.94 2.06-2.06.94zm10 10l.94 2.06.94-2.06 2.06-.94-2.06-.94-.94-2.06-.94 2.06-2.06.94z\"/><path d=\"M17.41 7.96l-1.37-1.37c-.4-.4-.92-.59-1.43-.59-.52 0-1.04.2-1.43.59L10.3 9.45l-7.72 7.72c-.78.78-.78 2.05 0 2.83L4 21.41c.39.39.9.59 1.41.59.51 0 1.02-.2 1.41-.59l7.78-7.78 2.81-2.81c.8-.78.8-2.07 0-2.86zM5.41 20L4 18.59l7.72-7.72 1.47 1.35L5.41 20z\"/>\n",
       "  </svg>\n",
       "      </button>\n",
       "      \n",
       "  <style>\n",
       "    .colab-df-container {\n",
       "      display:flex;\n",
       "      flex-wrap:wrap;\n",
       "      gap: 12px;\n",
       "    }\n",
       "\n",
       "    .colab-df-convert {\n",
       "      background-color: #E8F0FE;\n",
       "      border: none;\n",
       "      border-radius: 50%;\n",
       "      cursor: pointer;\n",
       "      display: none;\n",
       "      fill: #1967D2;\n",
       "      height: 32px;\n",
       "      padding: 0 0 0 0;\n",
       "      width: 32px;\n",
       "    }\n",
       "\n",
       "    .colab-df-convert:hover {\n",
       "      background-color: #E2EBFA;\n",
       "      box-shadow: 0px 1px 2px rgba(60, 64, 67, 0.3), 0px 1px 3px 1px rgba(60, 64, 67, 0.15);\n",
       "      fill: #174EA6;\n",
       "    }\n",
       "\n",
       "    [theme=dark] .colab-df-convert {\n",
       "      background-color: #3B4455;\n",
       "      fill: #D2E3FC;\n",
       "    }\n",
       "\n",
       "    [theme=dark] .colab-df-convert:hover {\n",
       "      background-color: #434B5C;\n",
       "      box-shadow: 0px 1px 3px 1px rgba(0, 0, 0, 0.15);\n",
       "      filter: drop-shadow(0px 1px 2px rgba(0, 0, 0, 0.3));\n",
       "      fill: #FFFFFF;\n",
       "    }\n",
       "  </style>\n",
       "\n",
       "      <script>\n",
       "        const buttonEl =\n",
       "          document.querySelector('#df-048ea0ad-39fa-4294-aec2-88f9da830d11 button.colab-df-convert');\n",
       "        buttonEl.style.display =\n",
       "          google.colab.kernel.accessAllowed ? 'block' : 'none';\n",
       "\n",
       "        async function convertToInteractive(key) {\n",
       "          const element = document.querySelector('#df-048ea0ad-39fa-4294-aec2-88f9da830d11');\n",
       "          const dataTable =\n",
       "            await google.colab.kernel.invokeFunction('convertToInteractive',\n",
       "                                                     [key], {});\n",
       "          if (!dataTable) return;\n",
       "\n",
       "          const docLinkHtml = 'Like what you see? Visit the ' +\n",
       "            '<a target=\"_blank\" href=https://colab.research.google.com/notebooks/data_table.ipynb>data table notebook</a>'\n",
       "            + ' to learn more about interactive tables.';\n",
       "          element.innerHTML = '';\n",
       "          dataTable['output_type'] = 'display_data';\n",
       "          await google.colab.output.renderOutput(dataTable, element);\n",
       "          const docLink = document.createElement('div');\n",
       "          docLink.innerHTML = docLinkHtml;\n",
       "          element.appendChild(docLink);\n",
       "        }\n",
       "      </script>\n",
       "    </div>\n",
       "  </div>\n",
       "  "
      ]
     },
     "metadata": {},
     "execution_count": 32
    }
   ]
  },
  {
   "cell_type": "code",
   "source": [
    "val_df = (val_df - train_mean) / train_std\n",
    "test_df = (test_df - train_mean) / train_std"
   ],
   "metadata": {
    "id": "JWHw_1QkEDIb"
   },
   "execution_count": 33,
   "outputs": []
  },
  {
   "cell_type": "markdown",
   "source": [
    "#Plot"
   ],
   "metadata": {
    "id": "Y5P-3zpjFDbY"
   }
  },
  {
   "cell_type": "code",
   "source": [
    "df_std = (df - train_mean) / train_std\n",
    "df_std = df_std.melt(var_name='Column', value_name='Normalized')\n",
    "plt.figure(figsize=(12, 6))\n",
    "ax = sns.violinplot(x='Column', y='Normalized', data=df_std)\n",
    "_ = ax.set_xticklabels(df.keys(), rotation=90)"
   ],
   "metadata": {
    "colab": {
     "base_uri": "https://localhost:8080/",
     "height": 467
    },
    "id": "mdSl4PHrFGtS",
    "outputId": "0722dbe8-3dc3-47ff-f387-95042cb9e9cb"
   },
   "execution_count": 34,
   "outputs": [
    {
     "output_type": "display_data",
     "data": {
      "text/plain": [
       "<Figure size 864x432 with 1 Axes>"
      ],
      "image/png": "[encoded data removed]"
     },
     "metadata": {
      "needs_background": "light"
     }
    }
   ]
  },
  {
   "cell_type": "markdown",
   "source": [
    "#Window dataset my own way"
   ],
   "metadata": {
    "id": "VlyVBKZDKtHz"
   }
  },
  {
   "cell_type": "code",
   "source": [
    "df\n"
   ],
   "metadata": {
    "colab": {
     "base_uri": "https://localhost:8080/",
     "height": 505
    },
    "id": "xEZ-59iNKwm9",
    "outputId": "1d5f2084-a20e-4e86-eb5e-e3e563ccce89"
   },
   "execution_count": 35,
   "outputs": [
    {
     "output_type": "execute_result",
     "data": {
      "text/plain": [
       "        p (mbar)  T (degC)  Tpot (K)  Tdew (degC)  rh (%)  VPmax (mbar)  \\\n",
       "5         996.50     -8.05    265.38        -8.78   94.40          3.33   \n",
       "11        996.62     -8.88    264.54        -9.77   93.20          3.12   \n",
       "17        996.84     -8.81    264.59        -9.66   93.50          3.13   \n",
       "23        996.99     -9.05    264.34       -10.02   92.60          3.07   \n",
       "29        997.46     -9.63    263.72       -10.65   92.20          2.94   \n",
       "...          ...       ...       ...          ...     ...           ...   \n",
       "420521   1002.18     -0.98    272.01        -5.36   72.00          5.69   \n",
       "420527   1001.40     -1.40    271.66        -6.84   66.29          5.51   \n",
       "420533   1001.19     -2.75    270.32        -6.90   72.90          4.99   \n",
       "420539   1000.65     -2.89    270.22        -7.15   72.30          4.93   \n",
       "420545   1000.11     -3.93    269.23        -8.09   72.60          4.56   \n",
       "\n",
       "        VPact (mbar)  VPdef (mbar)  sh (g/kg)  H2OC (mmol/mol)  rho (g/m**3)  \\\n",
       "5               3.14          0.19       1.96             3.15       1307.86   \n",
       "11              2.90          0.21       1.81             2.91       1312.25   \n",
       "17              2.93          0.20       1.83             2.94       1312.18   \n",
       "23              2.85          0.23       1.78             2.85       1313.61   \n",
       "29              2.71          0.23       1.69             2.71       1317.19   \n",
       "...              ...           ...        ...              ...           ...   \n",
       "420521          4.09          1.59       2.54             4.08       1280.70   \n",
       "420527          3.65          1.86       2.27             3.65       1281.87   \n",
       "420533          3.64          1.35       2.26             3.63       1288.02   \n",
       "420539          3.57          1.37       2.22             3.57       1288.03   \n",
       "420545          3.31          1.25       2.06             3.31       1292.41   \n",
       "\n",
       "              Wx        Wy    max Wx    max Wy   Day sin   Day cos  Year sin  \\\n",
       "5      -0.204862 -0.046168 -0.614587 -0.138503  0.258819  0.965926  0.010049   \n",
       "11     -0.245971 -0.044701 -0.619848 -0.112645  0.500000  0.866025  0.010766   \n",
       "17     -0.175527  0.039879 -0.614344  0.139576  0.707107  0.707107  0.011483   \n",
       "23     -0.050000 -0.086603 -0.190000 -0.329090  0.866025  0.500000  0.012199   \n",
       "29     -0.368202  0.156292 -0.810044  0.343843  0.965926  0.258819  0.012916   \n",
       "...          ...       ...       ...       ...       ...       ...       ...   \n",
       "420521 -0.855154 -0.160038 -1.336792 -0.250174 -0.953717  0.300706  0.006900   \n",
       "420527 -0.716196 -0.726267 -1.348134 -1.367090 -0.843391  0.537300  0.007617   \n",
       "420533 -0.661501  0.257908 -1.453438  0.566672 -0.675590  0.737277  0.008334   \n",
       "420539 -0.280621 -0.209169 -0.545207 -0.406385 -0.461749  0.887011  0.009050   \n",
       "420545 -0.516998 -0.215205 -0.923210 -0.384295 -0.216440  0.976296  0.009767   \n",
       "\n",
       "        Year cos  \n",
       "5       0.999950  \n",
       "11      0.999942  \n",
       "17      0.999934  \n",
       "23      0.999926  \n",
       "29      0.999917  \n",
       "...          ...  \n",
       "420521  0.999976  \n",
       "420527  0.999971  \n",
       "420533  0.999965  \n",
       "420539  0.999959  \n",
       "420545  0.999952  \n",
       "\n",
       "[70091 rows x 19 columns]"
      ],
      "text/html": [
       "\n",
       "  <div id=\"df-2e20faca-12e9-49e8-8eb2-3990b7165693\">\n",
       "    <div class=\"colab-df-container\">\n",
       "      <div>\n",
       "<style scoped>\n",
       "    .dataframe tbody tr th:only-of-type {\n",
       "        vertical-align: middle;\n",
       "    }\n",
       "\n",
       "    .dataframe tbody tr th {\n",
       "        vertical-align: top;\n",
       "    }\n",
       "\n",
       "    .dataframe thead th {\n",
       "        text-align: right;\n",
       "    }\n",
       "</style>\n",
       "<table border=\"1\" class=\"dataframe\">\n",
       "  <thead>\n",
       "    <tr style=\"text-align: right;\">\n",
       "      <th></th>\n",
       "      <th>p (mbar)</th>\n",
       "      <th>T (degC)</th>\n",
       "      <th>Tpot (K)</th>\n",
       "      <th>Tdew (degC)</th>\n",
       "      <th>rh (%)</th>\n",
       "      <th>VPmax (mbar)</th>\n",
       "      <th>VPact (mbar)</th>\n",
       "      <th>VPdef (mbar)</th>\n",
       "      <th>sh (g/kg)</th>\n",
       "      <th>H2OC (mmol/mol)</th>\n",
       "      <th>rho (g/m**3)</th>\n",
       "      <th>Wx</th>\n",
       "      <th>Wy</th>\n",
       "      <th>max Wx</th>\n",
       "      <th>max Wy</th>\n",
       "      <th>Day sin</th>\n",
       "      <th>Day cos</th>\n",
       "      <th>Year sin</th>\n",
       "      <th>Year cos</th>\n",
       "    </tr>\n",
       "  </thead>\n",
       "  <tbody>\n",
       "    <tr>\n",
       "      <th>5</th>\n",
       "      <td>996.50</td>\n",
       "      <td>-8.05</td>\n",
       "      <td>265.38</td>\n",
       "      <td>-8.78</td>\n",
       "      <td>94.40</td>\n",
       "      <td>3.33</td>\n",
       "      <td>3.14</td>\n",
       "      <td>0.19</td>\n",
       "      <td>1.96</td>\n",
       "      <td>3.15</td>\n",
       "      <td>1307.86</td>\n",
       "      <td>-0.204862</td>\n",
       "      <td>-0.046168</td>\n",
       "      <td>-0.614587</td>\n",
       "      <td>-0.138503</td>\n",
       "      <td>0.258819</td>\n",
       "      <td>0.965926</td>\n",
       "      <td>0.010049</td>\n",
       "      <td>0.999950</td>\n",
       "    </tr>\n",
       "    <tr>\n",
       "      <th>11</th>\n",
       "      <td>996.62</td>\n",
       "      <td>-8.88</td>\n",
       "      <td>264.54</td>\n",
       "      <td>-9.77</td>\n",
       "      <td>93.20</td>\n",
       "      <td>3.12</td>\n",
       "      <td>2.90</td>\n",
       "      <td>0.21</td>\n",
       "      <td>1.81</td>\n",
       "      <td>2.91</td>\n",
       "      <td>1312.25</td>\n",
       "      <td>-0.245971</td>\n",
       "      <td>-0.044701</td>\n",
       "      <td>-0.619848</td>\n",
       "      <td>-0.112645</td>\n",
       "      <td>0.500000</td>\n",
       "      <td>0.866025</td>\n",
       "      <td>0.010766</td>\n",
       "      <td>0.999942</td>\n",
       "    </tr>\n",
       "    <tr>\n",
       "      <th>17</th>\n",
       "      <td>996.84</td>\n",
       "      <td>-8.81</td>\n",
       "      <td>264.59</td>\n",
       "      <td>-9.66</td>\n",
       "      <td>93.50</td>\n",
       "      <td>3.13</td>\n",
       "      <td>2.93</td>\n",
       "      <td>0.20</td>\n",
       "      <td>1.83</td>\n",
       "      <td>2.94</td>\n",
       "      <td>1312.18</td>\n",
       "      <td>-0.175527</td>\n",
       "      <td>0.039879</td>\n",
       "      <td>-0.614344</td>\n",
       "      <td>0.139576</td>\n",
       "      <td>0.707107</td>\n",
       "      <td>0.707107</td>\n",
       "      <td>0.011483</td>\n",
       "      <td>0.999934</td>\n",
       "    </tr>\n",
       "    <tr>\n",
       "      <th>23</th>\n",
       "      <td>996.99</td>\n",
       "      <td>-9.05</td>\n",
       "      <td>264.34</td>\n",
       "      <td>-10.02</td>\n",
       "      <td>92.60</td>\n",
       "      <td>3.07</td>\n",
       "      <td>2.85</td>\n",
       "      <td>0.23</td>\n",
       "      <td>1.78</td>\n",
       "      <td>2.85</td>\n",
       "      <td>1313.61</td>\n",
       "      <td>-0.050000</td>\n",
       "      <td>-0.086603</td>\n",
       "      <td>-0.190000</td>\n",
       "      <td>-0.329090</td>\n",
       "      <td>0.866025</td>\n",
       "      <td>0.500000</td>\n",
       "      <td>0.012199</td>\n",
       "      <td>0.999926</td>\n",
       "    </tr>\n",
       "    <tr>\n",
       "      <th>29</th>\n",
       "      <td>997.46</td>\n",
       "      <td>-9.63</td>\n",
       "      <td>263.72</td>\n",
       "      <td>-10.65</td>\n",
       "      <td>92.20</td>\n",
       "      <td>2.94</td>\n",
       "      <td>2.71</td>\n",
       "      <td>0.23</td>\n",
       "      <td>1.69</td>\n",
       "      <td>2.71</td>\n",
       "      <td>1317.19</td>\n",
       "      <td>-0.368202</td>\n",
       "      <td>0.156292</td>\n",
       "      <td>-0.810044</td>\n",
       "      <td>0.343843</td>\n",
       "      <td>0.965926</td>\n",
       "      <td>0.258819</td>\n",
       "      <td>0.012916</td>\n",
       "      <td>0.999917</td>\n",
       "    </tr>\n",
       "    <tr>\n",
       "      <th>...</th>\n",
       "      <td>...</td>\n",
       "      <td>...</td>\n",
       "      <td>...</td>\n",
       "      <td>...</td>\n",
       "      <td>...</td>\n",
       "      <td>...</td>\n",
       "      <td>...</td>\n",
       "      <td>...</td>\n",
       "      <td>...</td>\n",
       "      <td>...</td>\n",
       "      <td>...</td>\n",
       "      <td>...</td>\n",
       "      <td>...</td>\n",
       "      <td>...</td>\n",
       "      <td>...</td>\n",
       "      <td>...</td>\n",
       "      <td>...</td>\n",
       "      <td>...</td>\n",
       "      <td>...</td>\n",
       "    </tr>\n",
       "    <tr>\n",
       "      <th>420521</th>\n",
       "      <td>1002.18</td>\n",
       "      <td>-0.98</td>\n",
       "      <td>272.01</td>\n",
       "      <td>-5.36</td>\n",
       "      <td>72.00</td>\n",
       "      <td>5.69</td>\n",
       "      <td>4.09</td>\n",
       "      <td>1.59</td>\n",
       "      <td>2.54</td>\n",
       "      <td>4.08</td>\n",
       "      <td>1280.70</td>\n",
       "      <td>-0.855154</td>\n",
       "      <td>-0.160038</td>\n",
       "      <td>-1.336792</td>\n",
       "      <td>-0.250174</td>\n",
       "      <td>-0.953717</td>\n",
       "      <td>0.300706</td>\n",
       "      <td>0.006900</td>\n",
       "      <td>0.999976</td>\n",
       "    </tr>\n",
       "    <tr>\n",
       "      <th>420527</th>\n",
       "      <td>1001.40</td>\n",
       "      <td>-1.40</td>\n",
       "      <td>271.66</td>\n",
       "      <td>-6.84</td>\n",
       "      <td>66.29</td>\n",
       "      <td>5.51</td>\n",
       "      <td>3.65</td>\n",
       "      <td>1.86</td>\n",
       "      <td>2.27</td>\n",
       "      <td>3.65</td>\n",
       "      <td>1281.87</td>\n",
       "      <td>-0.716196</td>\n",
       "      <td>-0.726267</td>\n",
       "      <td>-1.348134</td>\n",
       "      <td>-1.367090</td>\n",
       "      <td>-0.843391</td>\n",
       "      <td>0.537300</td>\n",
       "      <td>0.007617</td>\n",
       "      <td>0.999971</td>\n",
       "    </tr>\n",
       "    <tr>\n",
       "      <th>420533</th>\n",
       "      <td>1001.19</td>\n",
       "      <td>-2.75</td>\n",
       "      <td>270.32</td>\n",
       "      <td>-6.90</td>\n",
       "      <td>72.90</td>\n",
       "      <td>4.99</td>\n",
       "      <td>3.64</td>\n",
       "      <td>1.35</td>\n",
       "      <td>2.26</td>\n",
       "      <td>3.63</td>\n",
       "      <td>1288.02</td>\n",
       "      <td>-0.661501</td>\n",
       "      <td>0.257908</td>\n",
       "      <td>-1.453438</td>\n",
       "      <td>0.566672</td>\n",
       "      <td>-0.675590</td>\n",
       "      <td>0.737277</td>\n",
       "      <td>0.008334</td>\n",
       "      <td>0.999965</td>\n",
       "    </tr>\n",
       "    <tr>\n",
       "      <th>420539</th>\n",
       "      <td>1000.65</td>\n",
       "      <td>-2.89</td>\n",
       "      <td>270.22</td>\n",
       "      <td>-7.15</td>\n",
       "      <td>72.30</td>\n",
       "      <td>4.93</td>\n",
       "      <td>3.57</td>\n",
       "      <td>1.37</td>\n",
       "      <td>2.22</td>\n",
       "      <td>3.57</td>\n",
       "      <td>1288.03</td>\n",
       "      <td>-0.280621</td>\n",
       "      <td>-0.209169</td>\n",
       "      <td>-0.545207</td>\n",
       "      <td>-0.406385</td>\n",
       "      <td>-0.461749</td>\n",
       "      <td>0.887011</td>\n",
       "      <td>0.009050</td>\n",
       "      <td>0.999959</td>\n",
       "    </tr>\n",
       "    <tr>\n",
       "      <th>420545</th>\n",
       "      <td>1000.11</td>\n",
       "      <td>-3.93</td>\n",
       "      <td>269.23</td>\n",
       "      <td>-8.09</td>\n",
       "      <td>72.60</td>\n",
       "      <td>4.56</td>\n",
       "      <td>3.31</td>\n",
       "      <td>1.25</td>\n",
       "      <td>2.06</td>\n",
       "      <td>3.31</td>\n",
       "      <td>1292.41</td>\n",
       "      <td>-0.516998</td>\n",
       "      <td>-0.215205</td>\n",
       "      <td>-0.923210</td>\n",
       "      <td>-0.384295</td>\n",
       "      <td>-0.216440</td>\n",
       "      <td>0.976296</td>\n",
       "      <td>0.009767</td>\n",
       "      <td>0.999952</td>\n",
       "    </tr>\n",
       "  </tbody>\n",
       "</table>\n",
       "<p>70091 rows × 19 columns</p>\n",
       "</div>\n",
       "      <button class=\"colab-df-convert\" onclick=\"convertToInteractive('df-2e20faca-12e9-49e8-8eb2-3990b7165693')\"\n",
       "              title=\"Convert this dataframe to an interactive table.\"\n",
       "              style=\"display:none;\">\n",
       "        \n",
       "  <svg xmlns=\"http://www.w3.org/2000/svg\" height=\"24px\"viewBox=\"0 0 24 24\"\n",
       "       width=\"24px\">\n",
       "    <path d=\"M0 0h24v24H0V0z\" fill=\"none\"/>\n",
       "    <path d=\"M18.56 5.44l.94 2.06.94-2.06 2.06-.94-2.06-.94-.94-2.06-.94 2.06-2.06.94zm-11 1L8.5 8.5l.94-2.06 2.06-.94-2.06-.94L8.5 2.5l-.94 2.06-2.06.94zm10 10l.94 2.06.94-2.06 2.06-.94-2.06-.94-.94-2.06-.94 2.06-2.06.94z\"/><path d=\"M17.41 7.96l-1.37-1.37c-.4-.4-.92-.59-1.43-.59-.52 0-1.04.2-1.43.59L10.3 9.45l-7.72 7.72c-.78.78-.78 2.05 0 2.83L4 21.41c.39.39.9.59 1.41.59.51 0 1.02-.2 1.41-.59l7.78-7.78 2.81-2.81c.8-.78.8-2.07 0-2.86zM5.41 20L4 18.59l7.72-7.72 1.47 1.35L5.41 20z\"/>\n",
       "  </svg>\n",
       "      </button>\n",
       "      \n",
       "  <style>\n",
       "    .colab-df-container {\n",
       "      display:flex;\n",
       "      flex-wrap:wrap;\n",
       "      gap: 12px;\n",
       "    }\n",
       "\n",
       "    .colab-df-convert {\n",
       "      background-color: #E8F0FE;\n",
       "      border: none;\n",
       "      border-radius: 50%;\n",
       "      cursor: pointer;\n",
       "      display: none;\n",
       "      fill: #1967D2;\n",
       "      height: 32px;\n",
       "      padding: 0 0 0 0;\n",
       "      width: 32px;\n",
       "    }\n",
       "\n",
       "    .colab-df-convert:hover {\n",
       "      background-color: #E2EBFA;\n",
       "      box-shadow: 0px 1px 2px rgba(60, 64, 67, 0.3), 0px 1px 3px 1px rgba(60, 64, 67, 0.15);\n",
       "      fill: #174EA6;\n",
       "    }\n",
       "\n",
       "    [theme=dark] .colab-df-convert {\n",
       "      background-color: #3B4455;\n",
       "      fill: #D2E3FC;\n",
       "    }\n",
       "\n",
       "    [theme=dark] .colab-df-convert:hover {\n",
       "      background-color: #434B5C;\n",
       "      box-shadow: 0px 1px 3px 1px rgba(0, 0, 0, 0.15);\n",
       "      filter: drop-shadow(0px 1px 2px rgba(0, 0, 0, 0.3));\n",
       "      fill: #FFFFFF;\n",
       "    }\n",
       "  </style>\n",
       "\n",
       "      <script>\n",
       "        const buttonEl =\n",
       "          document.querySelector('#df-2e20faca-12e9-49e8-8eb2-3990b7165693 button.colab-df-convert');\n",
       "        buttonEl.style.display =\n",
       "          google.colab.kernel.accessAllowed ? 'block' : 'none';\n",
       "\n",
       "        async function convertToInteractive(key) {\n",
       "          const element = document.querySelector('#df-2e20faca-12e9-49e8-8eb2-3990b7165693');\n",
       "          const dataTable =\n",
       "            await google.colab.kernel.invokeFunction('convertToInteractive',\n",
       "                                                     [key], {});\n",
       "          if (!dataTable) return;\n",
       "\n",
       "          const docLinkHtml = 'Like what you see? Visit the ' +\n",
       "            '<a target=\"_blank\" href=https://colab.research.google.com/notebooks/data_table.ipynb>data table notebook</a>'\n",
       "            + ' to learn more about interactive tables.';\n",
       "          element.innerHTML = '';\n",
       "          dataTable['output_type'] = 'display_data';\n",
       "          await google.colab.output.renderOutput(dataTable, element);\n",
       "          const docLink = document.createElement('div');\n",
       "          docLink.innerHTML = docLinkHtml;\n",
       "          element.appendChild(docLink);\n",
       "        }\n",
       "      </script>\n",
       "    </div>\n",
       "  </div>\n",
       "  "
      ]
     },
     "metadata": {},
     "execution_count": 35
    }
   ]
  },
  {
   "cell_type": "code",
   "source": [
    "df_std"
   ],
   "metadata": {
    "id": "nJXd7634UFfx",
    "outputId": "dceafa72-3f00-4d03-c02b-350eae2ae3cc",
    "colab": {
     "base_uri": "https://localhost:8080/",
     "height": 424
    }
   },
   "execution_count": 36,
   "outputs": [
    {
     "output_type": "execute_result",
     "data": {
      "text/plain": [
       "           Column  Normalized\n",
       "0        p (mbar)    0.945308\n",
       "1        p (mbar)    0.959770\n",
       "2        p (mbar)    0.986284\n",
       "3        p (mbar)    1.004362\n",
       "4        p (mbar)    1.061006\n",
       "...           ...         ...\n",
       "1331724  Year cos    1.428472\n",
       "1331725  Year cos    1.428464\n",
       "1331726  Year cos    1.428456\n",
       "1331727  Year cos    1.428447\n",
       "1331728  Year cos    1.428438\n",
       "\n",
       "[1331729 rows x 2 columns]"
      ],
      "text/html": [
       "\n",
       "  <div id=\"df-f4f75b5c-286a-4b3f-829f-9c8ea45a8c3f\">\n",
       "    <div class=\"colab-df-container\">\n",
       "      <div>\n",
       "<style scoped>\n",
       "    .dataframe tbody tr th:only-of-type {\n",
       "        vertical-align: middle;\n",
       "    }\n",
       "\n",
       "    .dataframe tbody tr th {\n",
       "        vertical-align: top;\n",
       "    }\n",
       "\n",
       "    .dataframe thead th {\n",
       "        text-align: right;\n",
       "    }\n",
       "</style>\n",
       "<table border=\"1\" class=\"dataframe\">\n",
       "  <thead>\n",
       "    <tr style=\"text-align: right;\">\n",
       "      <th></th>\n",
       "      <th>Column</th>\n",
       "      <th>Normalized</th>\n",
       "    </tr>\n",
       "  </thead>\n",
       "  <tbody>\n",
       "    <tr>\n",
       "      <th>0</th>\n",
       "      <td>p (mbar)</td>\n",
       "      <td>0.945308</td>\n",
       "    </tr>\n",
       "    <tr>\n",
       "      <th>1</th>\n",
       "      <td>p (mbar)</td>\n",
       "      <td>0.959770</td>\n",
       "    </tr>\n",
       "    <tr>\n",
       "      <th>2</th>\n",
       "      <td>p (mbar)</td>\n",
       "      <td>0.986284</td>\n",
       "    </tr>\n",
       "    <tr>\n",
       "      <th>3</th>\n",
       "      <td>p (mbar)</td>\n",
       "      <td>1.004362</td>\n",
       "    </tr>\n",
       "    <tr>\n",
       "      <th>4</th>\n",
       "      <td>p (mbar)</td>\n",
       "      <td>1.061006</td>\n",
       "    </tr>\n",
       "    <tr>\n",
       "      <th>...</th>\n",
       "      <td>...</td>\n",
       "      <td>...</td>\n",
       "    </tr>\n",
       "    <tr>\n",
       "      <th>1331724</th>\n",
       "      <td>Year cos</td>\n",
       "      <td>1.428472</td>\n",
       "    </tr>\n",
       "    <tr>\n",
       "      <th>1331725</th>\n",
       "      <td>Year cos</td>\n",
       "      <td>1.428464</td>\n",
       "    </tr>\n",
       "    <tr>\n",
       "      <th>1331726</th>\n",
       "      <td>Year cos</td>\n",
       "      <td>1.428456</td>\n",
       "    </tr>\n",
       "    <tr>\n",
       "      <th>1331727</th>\n",
       "      <td>Year cos</td>\n",
       "      <td>1.428447</td>\n",
       "    </tr>\n",
       "    <tr>\n",
       "      <th>1331728</th>\n",
       "      <td>Year cos</td>\n",
       "      <td>1.428438</td>\n",
       "    </tr>\n",
       "  </tbody>\n",
       "</table>\n",
       "<p>1331729 rows × 2 columns</p>\n",
       "</div>\n",
       "      <button class=\"colab-df-convert\" onclick=\"convertToInteractive('df-f4f75b5c-286a-4b3f-829f-9c8ea45a8c3f')\"\n",
       "              title=\"Convert this dataframe to an interactive table.\"\n",
       "              style=\"display:none;\">\n",
       "        \n",
       "  <svg xmlns=\"http://www.w3.org/2000/svg\" height=\"24px\"viewBox=\"0 0 24 24\"\n",
       "       width=\"24px\">\n",
       "    <path d=\"M0 0h24v24H0V0z\" fill=\"none\"/>\n",
       "    <path d=\"M18.56 5.44l.94 2.06.94-2.06 2.06-.94-2.06-.94-.94-2.06-.94 2.06-2.06.94zm-11 1L8.5 8.5l.94-2.06 2.06-.94-2.06-.94L8.5 2.5l-.94 2.06-2.06.94zm10 10l.94 2.06.94-2.06 2.06-.94-2.06-.94-.94-2.06-.94 2.06-2.06.94z\"/><path d=\"M17.41 7.96l-1.37-1.37c-.4-.4-.92-.59-1.43-.59-.52 0-1.04.2-1.43.59L10.3 9.45l-7.72 7.72c-.78.78-.78 2.05 0 2.83L4 21.41c.39.39.9.59 1.41.59.51 0 1.02-.2 1.41-.59l7.78-7.78 2.81-2.81c.8-.78.8-2.07 0-2.86zM5.41 20L4 18.59l7.72-7.72 1.47 1.35L5.41 20z\"/>\n",
       "  </svg>\n",
       "      </button>\n",
       "      \n",
       "  <style>\n",
       "    .colab-df-container {\n",
       "      display:flex;\n",
       "      flex-wrap:wrap;\n",
       "      gap: 12px;\n",
       "    }\n",
       "\n",
       "    .colab-df-convert {\n",
       "      background-color: #E8F0FE;\n",
       "      border: none;\n",
       "      border-radius: 50%;\n",
       "      cursor: pointer;\n",
       "      display: none;\n",
       "      fill: #1967D2;\n",
       "      height: 32px;\n",
       "      padding: 0 0 0 0;\n",
       "      width: 32px;\n",
       "    }\n",
       "\n",
       "    .colab-df-convert:hover {\n",
       "      background-color: #E2EBFA;\n",
       "      box-shadow: 0px 1px 2px rgba(60, 64, 67, 0.3), 0px 1px 3px 1px rgba(60, 64, 67, 0.15);\n",
       "      fill: #174EA6;\n",
       "    }\n",
       "\n",
       "    [theme=dark] .colab-df-convert {\n",
       "      background-color: #3B4455;\n",
       "      fill: #D2E3FC;\n",
       "    }\n",
       "\n",
       "    [theme=dark] .colab-df-convert:hover {\n",
       "      background-color: #434B5C;\n",
       "      box-shadow: 0px 1px 3px 1px rgba(0, 0, 0, 0.15);\n",
       "      filter: drop-shadow(0px 1px 2px rgba(0, 0, 0, 0.3));\n",
       "      fill: #FFFFFF;\n",
       "    }\n",
       "  </style>\n",
       "\n",
       "      <script>\n",
       "        const buttonEl =\n",
       "          document.querySelector('#df-f4f75b5c-286a-4b3f-829f-9c8ea45a8c3f button.colab-df-convert');\n",
       "        buttonEl.style.display =\n",
       "          google.colab.kernel.accessAllowed ? 'block' : 'none';\n",
       "\n",
       "        async function convertToInteractive(key) {\n",
       "          const element = document.querySelector('#df-f4f75b5c-286a-4b3f-829f-9c8ea45a8c3f');\n",
       "          const dataTable =\n",
       "            await google.colab.kernel.invokeFunction('convertToInteractive',\n",
       "                                                     [key], {});\n",
       "          if (!dataTable) return;\n",
       "\n",
       "          const docLinkHtml = 'Like what you see? Visit the ' +\n",
       "            '<a target=\"_blank\" href=https://colab.research.google.com/notebooks/data_table.ipynb>data table notebook</a>'\n",
       "            + ' to learn more about interactive tables.';\n",
       "          element.innerHTML = '';\n",
       "          dataTable['output_type'] = 'display_data';\n",
       "          await google.colab.output.renderOutput(dataTable, element);\n",
       "          const docLink = document.createElement('div');\n",
       "          docLink.innerHTML = docLinkHtml;\n",
       "          element.appendChild(docLink);\n",
       "        }\n",
       "      </script>\n",
       "    </div>\n",
       "  </div>\n",
       "  "
      ]
     },
     "metadata": {},
     "execution_count": 36
    }
   ]
  },
  {
   "cell_type": "code",
   "source": [
    "df\n"
   ],
   "metadata": {
    "id": "tN0hpBP0UGSJ",
    "colab": {
     "base_uri": "https://localhost:8080/",
     "height": 505
    },
    "outputId": "4e2d9100-cf71-4735-eb53-79da782fb49d"
   },
   "execution_count": 37,
   "outputs": [
    {
     "output_type": "execute_result",
     "data": {
      "text/plain": [
       "        p (mbar)  T (degC)  Tpot (K)  Tdew (degC)  rh (%)  VPmax (mbar)  \\\n",
       "5         996.50     -8.05    265.38        -8.78   94.40          3.33   \n",
       "11        996.62     -8.88    264.54        -9.77   93.20          3.12   \n",
       "17        996.84     -8.81    264.59        -9.66   93.50          3.13   \n",
       "23        996.99     -9.05    264.34       -10.02   92.60          3.07   \n",
       "29        997.46     -9.63    263.72       -10.65   92.20          2.94   \n",
       "...          ...       ...       ...          ...     ...           ...   \n",
       "420521   1002.18     -0.98    272.01        -5.36   72.00          5.69   \n",
       "420527   1001.40     -1.40    271.66        -6.84   66.29          5.51   \n",
       "420533   1001.19     -2.75    270.32        -6.90   72.90          4.99   \n",
       "420539   1000.65     -2.89    270.22        -7.15   72.30          4.93   \n",
       "420545   1000.11     -3.93    269.23        -8.09   72.60          4.56   \n",
       "\n",
       "        VPact (mbar)  VPdef (mbar)  sh (g/kg)  H2OC (mmol/mol)  rho (g/m**3)  \\\n",
       "5               3.14          0.19       1.96             3.15       1307.86   \n",
       "11              2.90          0.21       1.81             2.91       1312.25   \n",
       "17              2.93          0.20       1.83             2.94       1312.18   \n",
       "23              2.85          0.23       1.78             2.85       1313.61   \n",
       "29              2.71          0.23       1.69             2.71       1317.19   \n",
       "...              ...           ...        ...              ...           ...   \n",
       "420521          4.09          1.59       2.54             4.08       1280.70   \n",
       "420527          3.65          1.86       2.27             3.65       1281.87   \n",
       "420533          3.64          1.35       2.26             3.63       1288.02   \n",
       "420539          3.57          1.37       2.22             3.57       1288.03   \n",
       "420545          3.31          1.25       2.06             3.31       1292.41   \n",
       "\n",
       "              Wx        Wy    max Wx    max Wy   Day sin   Day cos  Year sin  \\\n",
       "5      -0.204862 -0.046168 -0.614587 -0.138503  0.258819  0.965926  0.010049   \n",
       "11     -0.245971 -0.044701 -0.619848 -0.112645  0.500000  0.866025  0.010766   \n",
       "17     -0.175527  0.039879 -0.614344  0.139576  0.707107  0.707107  0.011483   \n",
       "23     -0.050000 -0.086603 -0.190000 -0.329090  0.866025  0.500000  0.012199   \n",
       "29     -0.368202  0.156292 -0.810044  0.343843  0.965926  0.258819  0.012916   \n",
       "...          ...       ...       ...       ...       ...       ...       ...   \n",
       "420521 -0.855154 -0.160038 -1.336792 -0.250174 -0.953717  0.300706  0.006900   \n",
       "420527 -0.716196 -0.726267 -1.348134 -1.367090 -0.843391  0.537300  0.007617   \n",
       "420533 -0.661501  0.257908 -1.453438  0.566672 -0.675590  0.737277  0.008334   \n",
       "420539 -0.280621 -0.209169 -0.545207 -0.406385 -0.461749  0.887011  0.009050   \n",
       "420545 -0.516998 -0.215205 -0.923210 -0.384295 -0.216440  0.976296  0.009767   \n",
       "\n",
       "        Year cos  \n",
       "5       0.999950  \n",
       "11      0.999942  \n",
       "17      0.999934  \n",
       "23      0.999926  \n",
       "29      0.999917  \n",
       "...          ...  \n",
       "420521  0.999976  \n",
       "420527  0.999971  \n",
       "420533  0.999965  \n",
       "420539  0.999959  \n",
       "420545  0.999952  \n",
       "\n",
       "[70091 rows x 19 columns]"
      ],
      "text/html": [
       "\n",
       "  <div id=\"df-a97bed6c-3512-44d8-a0e2-d9c7de854e60\">\n",
       "    <div class=\"colab-df-container\">\n",
       "      <div>\n",
       "<style scoped>\n",
       "    .dataframe tbody tr th:only-of-type {\n",
       "        vertical-align: middle;\n",
       "    }\n",
       "\n",
       "    .dataframe tbody tr th {\n",
       "        vertical-align: top;\n",
       "    }\n",
       "\n",
       "    .dataframe thead th {\n",
       "        text-align: right;\n",
       "    }\n",
       "</style>\n",
       "<table border=\"1\" class=\"dataframe\">\n",
       "  <thead>\n",
       "    <tr style=\"text-align: right;\">\n",
       "      <th></th>\n",
       "      <th>p (mbar)</th>\n",
       "      <th>T (degC)</th>\n",
       "      <th>Tpot (K)</th>\n",
       "      <th>Tdew (degC)</th>\n",
       "      <th>rh (%)</th>\n",
       "      <th>VPmax (mbar)</th>\n",
       "      <th>VPact (mbar)</th>\n",
       "      <th>VPdef (mbar)</th>\n",
       "      <th>sh (g/kg)</th>\n",
       "      <th>H2OC (mmol/mol)</th>\n",
       "      <th>rho (g/m**3)</th>\n",
       "      <th>Wx</th>\n",
       "      <th>Wy</th>\n",
       "      <th>max Wx</th>\n",
       "      <th>max Wy</th>\n",
       "      <th>Day sin</th>\n",
       "      <th>Day cos</th>\n",
       "      <th>Year sin</th>\n",
       "      <th>Year cos</th>\n",
       "    </tr>\n",
       "  </thead>\n",
       "  <tbody>\n",
       "    <tr>\n",
       "      <th>5</th>\n",
       "      <td>996.50</td>\n",
       "      <td>-8.05</td>\n",
       "      <td>265.38</td>\n",
       "      <td>-8.78</td>\n",
       "      <td>94.40</td>\n",
       "      <td>3.33</td>\n",
       "      <td>3.14</td>\n",
       "      <td>0.19</td>\n",
       "      <td>1.96</td>\n",
       "      <td>3.15</td>\n",
       "      <td>1307.86</td>\n",
       "      <td>-0.204862</td>\n",
       "      <td>-0.046168</td>\n",
       "      <td>-0.614587</td>\n",
       "      <td>-0.138503</td>\n",
       "      <td>0.258819</td>\n",
       "      <td>0.965926</td>\n",
       "      <td>0.010049</td>\n",
       "      <td>0.999950</td>\n",
       "    </tr>\n",
       "    <tr>\n",
       "      <th>11</th>\n",
       "      <td>996.62</td>\n",
       "      <td>-8.88</td>\n",
       "      <td>264.54</td>\n",
       "      <td>-9.77</td>\n",
       "      <td>93.20</td>\n",
       "      <td>3.12</td>\n",
       "      <td>2.90</td>\n",
       "      <td>0.21</td>\n",
       "      <td>1.81</td>\n",
       "      <td>2.91</td>\n",
       "      <td>1312.25</td>\n",
       "      <td>-0.245971</td>\n",
       "      <td>-0.044701</td>\n",
       "      <td>-0.619848</td>\n",
       "      <td>-0.112645</td>\n",
       "      <td>0.500000</td>\n",
       "      <td>0.866025</td>\n",
       "      <td>0.010766</td>\n",
       "      <td>0.999942</td>\n",
       "    </tr>\n",
       "    <tr>\n",
       "      <th>17</th>\n",
       "      <td>996.84</td>\n",
       "      <td>-8.81</td>\n",
       "      <td>264.59</td>\n",
       "      <td>-9.66</td>\n",
       "      <td>93.50</td>\n",
       "      <td>3.13</td>\n",
       "      <td>2.93</td>\n",
       "      <td>0.20</td>\n",
       "      <td>1.83</td>\n",
       "      <td>2.94</td>\n",
       "      <td>1312.18</td>\n",
       "      <td>-0.175527</td>\n",
       "      <td>0.039879</td>\n",
       "      <td>-0.614344</td>\n",
       "      <td>0.139576</td>\n",
       "      <td>0.707107</td>\n",
       "      <td>0.707107</td>\n",
       "      <td>0.011483</td>\n",
       "      <td>0.999934</td>\n",
       "    </tr>\n",
       "    <tr>\n",
       "      <th>23</th>\n",
       "      <td>996.99</td>\n",
       "      <td>-9.05</td>\n",
       "      <td>264.34</td>\n",
       "      <td>-10.02</td>\n",
       "      <td>92.60</td>\n",
       "      <td>3.07</td>\n",
       "      <td>2.85</td>\n",
       "      <td>0.23</td>\n",
       "      <td>1.78</td>\n",
       "      <td>2.85</td>\n",
       "      <td>1313.61</td>\n",
       "      <td>-0.050000</td>\n",
       "      <td>-0.086603</td>\n",
       "      <td>-0.190000</td>\n",
       "      <td>-0.329090</td>\n",
       "      <td>0.866025</td>\n",
       "      <td>0.500000</td>\n",
       "      <td>0.012199</td>\n",
       "      <td>0.999926</td>\n",
       "    </tr>\n",
       "    <tr>\n",
       "      <th>29</th>\n",
       "      <td>997.46</td>\n",
       "      <td>-9.63</td>\n",
       "      <td>263.72</td>\n",
       "      <td>-10.65</td>\n",
       "      <td>92.20</td>\n",
       "      <td>2.94</td>\n",
       "      <td>2.71</td>\n",
       "      <td>0.23</td>\n",
       "      <td>1.69</td>\n",
       "      <td>2.71</td>\n",
       "      <td>1317.19</td>\n",
       "      <td>-0.368202</td>\n",
       "      <td>0.156292</td>\n",
       "      <td>-0.810044</td>\n",
       "      <td>0.343843</td>\n",
       "      <td>0.965926</td>\n",
       "      <td>0.258819</td>\n",
       "      <td>0.012916</td>\n",
       "      <td>0.999917</td>\n",
       "    </tr>\n",
       "    <tr>\n",
       "      <th>...</th>\n",
       "      <td>...</td>\n",
       "      <td>...</td>\n",
       "      <td>...</td>\n",
       "      <td>...</td>\n",
       "      <td>...</td>\n",
       "      <td>...</td>\n",
       "      <td>...</td>\n",
       "      <td>...</td>\n",
       "      <td>...</td>\n",
       "      <td>...</td>\n",
       "      <td>...</td>\n",
       "      <td>...</td>\n",
       "      <td>...</td>\n",
       "      <td>...</td>\n",
       "      <td>...</td>\n",
       "      <td>...</td>\n",
       "      <td>...</td>\n",
       "      <td>...</td>\n",
       "      <td>...</td>\n",
       "    </tr>\n",
       "    <tr>\n",
       "      <th>420521</th>\n",
       "      <td>1002.18</td>\n",
       "      <td>-0.98</td>\n",
       "      <td>272.01</td>\n",
       "      <td>-5.36</td>\n",
       "      <td>72.00</td>\n",
       "      <td>5.69</td>\n",
       "      <td>4.09</td>\n",
       "      <td>1.59</td>\n",
       "      <td>2.54</td>\n",
       "      <td>4.08</td>\n",
       "      <td>1280.70</td>\n",
       "      <td>-0.855154</td>\n",
       "      <td>-0.160038</td>\n",
       "      <td>-1.336792</td>\n",
       "      <td>-0.250174</td>\n",
       "      <td>-0.953717</td>\n",
       "      <td>0.300706</td>\n",
       "      <td>0.006900</td>\n",
       "      <td>0.999976</td>\n",
       "    </tr>\n",
       "    <tr>\n",
       "      <th>420527</th>\n",
       "      <td>1001.40</td>\n",
       "      <td>-1.40</td>\n",
       "      <td>271.66</td>\n",
       "      <td>-6.84</td>\n",
       "      <td>66.29</td>\n",
       "      <td>5.51</td>\n",
       "      <td>3.65</td>\n",
       "      <td>1.86</td>\n",
       "      <td>2.27</td>\n",
       "      <td>3.65</td>\n",
       "      <td>1281.87</td>\n",
       "      <td>-0.716196</td>\n",
       "      <td>-0.726267</td>\n",
       "      <td>-1.348134</td>\n",
       "      <td>-1.367090</td>\n",
       "      <td>-0.843391</td>\n",
       "      <td>0.537300</td>\n",
       "      <td>0.007617</td>\n",
       "      <td>0.999971</td>\n",
       "    </tr>\n",
       "    <tr>\n",
       "      <th>420533</th>\n",
       "      <td>1001.19</td>\n",
       "      <td>-2.75</td>\n",
       "      <td>270.32</td>\n",
       "      <td>-6.90</td>\n",
       "      <td>72.90</td>\n",
       "      <td>4.99</td>\n",
       "      <td>3.64</td>\n",
       "      <td>1.35</td>\n",
       "      <td>2.26</td>\n",
       "      <td>3.63</td>\n",
       "      <td>1288.02</td>\n",
       "      <td>-0.661501</td>\n",
       "      <td>0.257908</td>\n",
       "      <td>-1.453438</td>\n",
       "      <td>0.566672</td>\n",
       "      <td>-0.675590</td>\n",
       "      <td>0.737277</td>\n",
       "      <td>0.008334</td>\n",
       "      <td>0.999965</td>\n",
       "    </tr>\n",
       "    <tr>\n",
       "      <th>420539</th>\n",
       "      <td>1000.65</td>\n",
       "      <td>-2.89</td>\n",
       "      <td>270.22</td>\n",
       "      <td>-7.15</td>\n",
       "      <td>72.30</td>\n",
       "      <td>4.93</td>\n",
       "      <td>3.57</td>\n",
       "      <td>1.37</td>\n",
       "      <td>2.22</td>\n",
       "      <td>3.57</td>\n",
       "      <td>1288.03</td>\n",
       "      <td>-0.280621</td>\n",
       "      <td>-0.209169</td>\n",
       "      <td>-0.545207</td>\n",
       "      <td>-0.406385</td>\n",
       "      <td>-0.461749</td>\n",
       "      <td>0.887011</td>\n",
       "      <td>0.009050</td>\n",
       "      <td>0.999959</td>\n",
       "    </tr>\n",
       "    <tr>\n",
       "      <th>420545</th>\n",
       "      <td>1000.11</td>\n",
       "      <td>-3.93</td>\n",
       "      <td>269.23</td>\n",
       "      <td>-8.09</td>\n",
       "      <td>72.60</td>\n",
       "      <td>4.56</td>\n",
       "      <td>3.31</td>\n",
       "      <td>1.25</td>\n",
       "      <td>2.06</td>\n",
       "      <td>3.31</td>\n",
       "      <td>1292.41</td>\n",
       "      <td>-0.516998</td>\n",
       "      <td>-0.215205</td>\n",
       "      <td>-0.923210</td>\n",
       "      <td>-0.384295</td>\n",
       "      <td>-0.216440</td>\n",
       "      <td>0.976296</td>\n",
       "      <td>0.009767</td>\n",
       "      <td>0.999952</td>\n",
       "    </tr>\n",
       "  </tbody>\n",
       "</table>\n",
       "<p>70091 rows × 19 columns</p>\n",
       "</div>\n",
       "      <button class=\"colab-df-convert\" onclick=\"convertToInteractive('df-a97bed6c-3512-44d8-a0e2-d9c7de854e60')\"\n",
       "              title=\"Convert this dataframe to an interactive table.\"\n",
       "              style=\"display:none;\">\n",
       "        \n",
       "  <svg xmlns=\"http://www.w3.org/2000/svg\" height=\"24px\"viewBox=\"0 0 24 24\"\n",
       "       width=\"24px\">\n",
       "    <path d=\"M0 0h24v24H0V0z\" fill=\"none\"/>\n",
       "    <path d=\"M18.56 5.44l.94 2.06.94-2.06 2.06-.94-2.06-.94-.94-2.06-.94 2.06-2.06.94zm-11 1L8.5 8.5l.94-2.06 2.06-.94-2.06-.94L8.5 2.5l-.94 2.06-2.06.94zm10 10l.94 2.06.94-2.06 2.06-.94-2.06-.94-.94-2.06-.94 2.06-2.06.94z\"/><path d=\"M17.41 7.96l-1.37-1.37c-.4-.4-.92-.59-1.43-.59-.52 0-1.04.2-1.43.59L10.3 9.45l-7.72 7.72c-.78.78-.78 2.05 0 2.83L4 21.41c.39.39.9.59 1.41.59.51 0 1.02-.2 1.41-.59l7.78-7.78 2.81-2.81c.8-.78.8-2.07 0-2.86zM5.41 20L4 18.59l7.72-7.72 1.47 1.35L5.41 20z\"/>\n",
       "  </svg>\n",
       "      </button>\n",
       "      \n",
       "  <style>\n",
       "    .colab-df-container {\n",
       "      display:flex;\n",
       "      flex-wrap:wrap;\n",
       "      gap: 12px;\n",
       "    }\n",
       "\n",
       "    .colab-df-convert {\n",
       "      background-color: #E8F0FE;\n",
       "      border: none;\n",
       "      border-radius: 50%;\n",
       "      cursor: pointer;\n",
       "      display: none;\n",
       "      fill: #1967D2;\n",
       "      height: 32px;\n",
       "      padding: 0 0 0 0;\n",
       "      width: 32px;\n",
       "    }\n",
       "\n",
       "    .colab-df-convert:hover {\n",
       "      background-color: #E2EBFA;\n",
       "      box-shadow: 0px 1px 2px rgba(60, 64, 67, 0.3), 0px 1px 3px 1px rgba(60, 64, 67, 0.15);\n",
       "      fill: #174EA6;\n",
       "    }\n",
       "\n",
       "    [theme=dark] .colab-df-convert {\n",
       "      background-color: #3B4455;\n",
       "      fill: #D2E3FC;\n",
       "    }\n",
       "\n",
       "    [theme=dark] .colab-df-convert:hover {\n",
       "      background-color: #434B5C;\n",
       "      box-shadow: 0px 1px 3px 1px rgba(0, 0, 0, 0.15);\n",
       "      filter: drop-shadow(0px 1px 2px rgba(0, 0, 0, 0.3));\n",
       "      fill: #FFFFFF;\n",
       "    }\n",
       "  </style>\n",
       "\n",
       "      <script>\n",
       "        const buttonEl =\n",
       "          document.querySelector('#df-a97bed6c-3512-44d8-a0e2-d9c7de854e60 button.colab-df-convert');\n",
       "        buttonEl.style.display =\n",
       "          google.colab.kernel.accessAllowed ? 'block' : 'none';\n",
       "\n",
       "        async function convertToInteractive(key) {\n",
       "          const element = document.querySelector('#df-a97bed6c-3512-44d8-a0e2-d9c7de854e60');\n",
       "          const dataTable =\n",
       "            await google.colab.kernel.invokeFunction('convertToInteractive',\n",
       "                                                     [key], {});\n",
       "          if (!dataTable) return;\n",
       "\n",
       "          const docLinkHtml = 'Like what you see? Visit the ' +\n",
       "            '<a target=\"_blank\" href=https://colab.research.google.com/notebooks/data_table.ipynb>data table notebook</a>'\n",
       "            + ' to learn more about interactive tables.';\n",
       "          element.innerHTML = '';\n",
       "          dataTable['output_type'] = 'display_data';\n",
       "          await google.colab.output.renderOutput(dataTable, element);\n",
       "          const docLink = document.createElement('div');\n",
       "          docLink.innerHTML = docLinkHtml;\n",
       "          element.appendChild(docLink);\n",
       "        }\n",
       "      </script>\n",
       "    </div>\n",
       "  </div>\n",
       "  "
      ]
     },
     "metadata": {},
     "execution_count": 37
    }
   ]
  },
  {
   "cell_type": "code",
   "source": [
    "df['T (degC)']"
   ],
   "metadata": {
    "colab": {
     "base_uri": "https://localhost:8080/"
    },
    "id": "MsuSkeRCwf_T",
    "outputId": "69d57aec-306e-470c-cdd7-e48d5264311f"
   },
   "execution_count": 38,
   "outputs": [
    {
     "output_type": "execute_result",
     "data": {
      "text/plain": [
       "5        -8.05\n",
       "11       -8.88\n",
       "17       -8.81\n",
       "23       -9.05\n",
       "29       -9.63\n",
       "          ... \n",
       "420521   -0.98\n",
       "420527   -1.40\n",
       "420533   -2.75\n",
       "420539   -2.89\n",
       "420545   -3.93\n",
       "Name: T (degC), Length: 70091, dtype: float64"
      ]
     },
     "metadata": {},
     "execution_count": 38
    }
   ]
  },
  {
   "cell_type": "code",
   "source": [
    "#create a function to label windowed data\n",
    "def get_labelled_windows(window_data, horizon=1):\n",
    "  '''\n",
    "  creates labels for windowed dataset\n",
    "\n",
    "  E.g. if horizon = 1 (default)\n",
    "  Input: [0, 1, 2, 3, 4, 5, 6] -> Output: ([1, 2, 3, 4, 5], [6])\n",
    "  '''\n",
    "  return window_data[:, :-horizon], window_data[:, -horizon:]\n",
    "  "
   ],
   "metadata": {
    "id": "NxlW4fsAyh2_"
   },
   "execution_count": 39,
   "outputs": []
  },
  {
   "cell_type": "code",
   "source": [
    "t=[0, 1, 2, 3, 4, 5, 6]\n",
    "t[::-1]"
   ],
   "metadata": {
    "colab": {
     "base_uri": "https://localhost:8080/"
    },
    "id": "-LeSizE41a6J",
    "outputId": "89585a17-1c8a-4106-abba-6d1ebaffb0e8"
   },
   "execution_count": 40,
   "outputs": [
    {
     "output_type": "execute_result",
     "data": {
      "text/plain": [
       "[6, 5, 4, 3, 2, 1, 0]"
      ]
     },
     "metadata": {},
     "execution_count": 40
    }
   ]
  },
  {
   "cell_type": "code",
   "source": [
    "s=tf.expand_dims(t, axis=0)\n",
    "s[:,:-1]\n",
    "tf.squeeze(s).numpy()\n",
    "s"
   ],
   "metadata": {
    "colab": {
     "base_uri": "https://localhost:8080/"
    },
    "id": "CqMTMIa_7NBj",
    "outputId": "0414b970-bd11-4041-e0db-7d6b63df28c6"
   },
   "execution_count": 41,
   "outputs": [
    {
     "output_type": "execute_result",
     "data": {
      "text/plain": [
       "<tf.Tensor: shape=(1, 7), dtype=int32, numpy=array([[0, 1, 2, 3, 4, 5, 6]], dtype=int32)>"
      ]
     },
     "metadata": {},
     "execution_count": 41
    }
   ]
  },
  {
   "cell_type": "code",
   "source": [
    "test_window, test_label = get_labelled_windows(tf.expand_dims(t, axis=0))\n",
    "print(f\"Window: {tf.squeeze(test_window).numpy()} -> Label: {tf.squeeze(test_label).numpy()}\")"
   ],
   "metadata": {
    "colab": {
     "base_uri": "https://localhost:8080/"
    },
    "id": "KgcnpyOQ1iFx",
    "outputId": "bb08dbdb-1a61-4749-ecf3-6279ccf05495"
   },
   "execution_count": 42,
   "outputs": [
    {
     "output_type": "stream",
     "name": "stdout",
     "text": [
      "Window: [0 1 2 3 4 5] -> Label: 6\n"
     ]
    }
   ]
  },
  {
   "cell_type": "code",
   "source": [
    "temp_arr=df['T (degC)'].to_numpy()\n",
    "temp_arr"
   ],
   "metadata": {
    "colab": {
     "base_uri": "https://localhost:8080/"
    },
    "id": "DIVzDeFh8s-9",
    "outputId": "93cc9b5e-6c6c-4720-ff84-ca03a27b4c67"
   },
   "execution_count": 43,
   "outputs": [
    {
     "output_type": "execute_result",
     "data": {
      "text/plain": [
       "array([-8.05, -8.88, -8.81, ..., -2.75, -2.89, -3.93])"
      ]
     },
     "metadata": {},
     "execution_count": 43
    }
   ]
  },
  {
   "cell_type": "markdown",
   "source": [
    "#Use numpy indexing to create windowed **arrays**"
   ],
   "metadata": {
    "id": "TskKS18RAgby"
   }
  },
  {
   "cell_type": "code",
   "source": [
    "def make_windows(data_arr, window_size=7, horizon=1):\n",
    "  '''\n",
    "  Turns a 1D array into a 2d array of sequential window arrays of window_size\n",
    "  '''\n",
    "   # 1. Create a window of specific window_size (add the horizon on the end for later labelling)\n",
    "  window_step = np.expand_dims(np.arange(window_size+horizon), axis=0)\n",
    "  # print(f\"Window step:\\n {window_step}\")\n",
    "\n",
    "  window_indexes= window_step + np.expand_dims(np.arange(len(data_arr)-(window_size+horizon-1)), axis=0).T\n",
    "  # print(f\"Window indexes:\\n {window_indexes, window_indexes.shape}\")\n",
    "\n",
    "  windowed_array = data_arr[window_indexes]\n",
    "\n",
    "  windows, labels = get_labelled_windows(windowed_array, horizon=horizon)\n",
    "  \n",
    "  return windows, labels\n",
    "\n",
    "\n"
   ],
   "metadata": {
    "id": "btkFT5Tv85WZ"
   },
   "execution_count": 44,
   "outputs": []
  },
  {
   "cell_type": "code",
   "source": [
    "a = [0, 1, 2, 3, 4, 5, 6, 7] + np.expand_dims(np.arange(len(temp_arr)-(7+1-1)), axis=0).T\n",
    "a, a.shape"
   ],
   "metadata": {
    "colab": {
     "base_uri": "https://localhost:8080/"
    },
    "id": "VuJuUj0b-Rej",
    "outputId": "cf8788bf-596d-451c-9678-f9086dbb4f13"
   },
   "execution_count": 45,
   "outputs": [
    {
     "output_type": "execute_result",
     "data": {
      "text/plain": [
       "(array([[    0,     1,     2, ...,     5,     6,     7],\n",
       "        [    1,     2,     3, ...,     6,     7,     8],\n",
       "        [    2,     3,     4, ...,     7,     8,     9],\n",
       "        ...,\n",
       "        [70081, 70082, 70083, ..., 70086, 70087, 70088],\n",
       "        [70082, 70083, 70084, ..., 70087, 70088, 70089],\n",
       "        [70083, 70084, 70085, ..., 70088, 70089, 70090]]), (70084, 8))"
      ]
     },
     "metadata": {},
     "execution_count": 45
    }
   ]
  },
  {
   "cell_type": "code",
   "source": [
    "window_temp_test_0=temp_arr[a]\n",
    "window_temp_test_0"
   ],
   "metadata": {
    "colab": {
     "base_uri": "https://localhost:8080/"
    },
    "id": "--_o0ZB1B4Bo",
    "outputId": "4080bef0-70d2-447c-8936-263b5cd31af9"
   },
   "execution_count": 46,
   "outputs": [
    {
     "output_type": "execute_result",
     "data": {
      "text/plain": [
       "array([[-8.05, -8.88, -8.81, ..., -9.67, -9.17, -8.1 ],\n",
       "       [-8.88, -8.81, -9.05, ..., -9.17, -8.1 , -7.66],\n",
       "       [-8.81, -9.05, -9.63, ..., -8.1 , -7.66, -7.04],\n",
       "       ...,\n",
       "       [ 4.15,  4.97,  2.44, ..., -0.98, -1.4 , -2.75],\n",
       "       [ 4.97,  2.44,  1.29, ..., -1.4 , -2.75, -2.89],\n",
       "       [ 2.44,  1.29, -0.42, ..., -2.75, -2.89, -3.93]])"
      ]
     },
     "metadata": {},
     "execution_count": 46
    }
   ]
  },
  {
   "cell_type": "code",
   "source": [
    "train_df"
   ],
   "metadata": {
    "colab": {
     "base_uri": "https://localhost:8080/",
     "height": 505
    },
    "id": "nAe8wQVQCp3U",
    "outputId": "f6c9e66d-da92-4eb9-8288-ecb34f19320a"
   },
   "execution_count": 47,
   "outputs": [
    {
     "output_type": "execute_result",
     "data": {
      "text/plain": [
       "        p (mbar)  T (degC)  Tpot (K)  Tdew (degC)    rh (%)  VPmax (mbar)  \\\n",
       "5       0.945308 -1.982473 -2.041888    -1.918973  1.117102     -1.302851   \n",
       "11      0.959770 -2.078372 -2.138166    -2.060964  1.044617     -1.330143   \n",
       "17      0.986284 -2.070284 -2.132435    -2.045187  1.062738     -1.328843   \n",
       "23      1.004362 -2.098014 -2.161090    -2.096820  1.008375     -1.336641   \n",
       "29      1.061006 -2.165028 -2.232152    -2.187178  0.984214     -1.353535   \n",
       "...          ...       ...       ...          ...       ...           ...   \n",
       "294353  0.169167  0.904892  0.886564     1.571997  0.947972      0.776492   \n",
       "294359  0.266787  0.879473  0.853325     1.405624  0.621793      0.742703   \n",
       "294365  0.217374  0.740824  0.719224     1.425703  1.086900      0.559461   \n",
       "294371  0.213759  0.710783  0.689423     1.412795  1.147303      0.521772   \n",
       "294377  0.166757  0.653013  0.636700     1.352556  1.177505      0.450295   \n",
       "\n",
       "        VPact (mbar)  VPdef (mbar)  sh (g/kg)  H2OC (mmol/mol)  rho (g/m**3)  \\\n",
       "5          -1.477323     -0.790424  -1.480036        -1.482697      2.218524   \n",
       "11         -1.534354     -0.786272  -1.536190        -1.539035      2.325708   \n",
       "17         -1.527225     -0.788348  -1.528703        -1.531992      2.323998   \n",
       "23         -1.546235     -0.782121  -1.547420        -1.553119      2.358913   \n",
       "29         -1.579503     -0.782121  -1.581113        -1.585982      2.446320   \n",
       "...              ...           ...        ...              ...           ...   \n",
       "294353      1.984916     -0.493604   1.979016         1.977352     -0.882480   \n",
       "294359      1.680752     -0.283962   1.672043         1.672192     -0.822662   \n",
       "294365      1.716396     -0.605690   1.709479         1.707403     -0.716211   \n",
       "294371      1.692633     -0.645127   1.687018         1.683929     -0.689842   \n",
       "294377      1.588077     -0.670035   1.582198         1.580644     -0.646139   \n",
       "\n",
       "              Wx        Wy    max Wx    max Wy   Day sin   Day cos  Year sin  \\\n",
       "5       0.193409  0.221161  0.111140  0.217928  0.366111  1.366069 -0.061052   \n",
       "11      0.172987  0.222101  0.109458  0.227798  0.707200  1.224794 -0.060029   \n",
       "17      0.207983  0.276266  0.111218  0.324078  1.000100  1.000059 -0.059006   \n",
       "23      0.270343  0.195267  0.246907  0.145176  1.224850  0.707179 -0.057983   \n",
       "29      0.112264  0.350818  0.048640  0.402053  1.366133  0.366112 -0.056960   \n",
       "...          ...       ...       ...       ...       ...       ...       ...   \n",
       "294353 -0.166720 -1.508412 -0.155728 -1.363530 -0.955374  1.042725 -0.855026   \n",
       "294359 -0.824901 -0.641039 -0.704391 -0.475387 -0.652949  1.254471 -0.855883   \n",
       "294365 -0.030746  0.645277  0.013960  0.600050 -0.306022  1.380734 -0.856739   \n",
       "294371  0.014300 -0.102616 -0.095117 -0.198426  0.061765  1.412909 -0.857595   \n",
       "294377  0.519065 -0.328126  0.627259 -0.494435  0.425349  1.348804 -0.858451   \n",
       "\n",
       "        Year cos  \n",
       "5       1.428434  \n",
       "11      1.428424  \n",
       "17      1.428412  \n",
       "23      1.428400  \n",
       "29      1.428388  \n",
       "...          ...  \n",
       "294353 -1.154613  \n",
       "294359 -1.154062  \n",
       "294365 -1.153511  \n",
       "294371 -1.152959  \n",
       "294377 -1.152406  \n",
       "\n",
       "[49063 rows x 19 columns]"
      ],
      "text/html": [
       "\n",
       "  <div id=\"df-63921130-fb6a-4ef1-b40d-2ca7ff07a5ba\">\n",
       "    <div class=\"colab-df-container\">\n",
       "      <div>\n",
       "<style scoped>\n",
       "    .dataframe tbody tr th:only-of-type {\n",
       "        vertical-align: middle;\n",
       "    }\n",
       "\n",
       "    .dataframe tbody tr th {\n",
       "        vertical-align: top;\n",
       "    }\n",
       "\n",
       "    .dataframe thead th {\n",
       "        text-align: right;\n",
       "    }\n",
       "</style>\n",
       "<table border=\"1\" class=\"dataframe\">\n",
       "  <thead>\n",
       "    <tr style=\"text-align: right;\">\n",
       "      <th></th>\n",
       "      <th>p (mbar)</th>\n",
       "      <th>T (degC)</th>\n",
       "      <th>Tpot (K)</th>\n",
       "      <th>Tdew (degC)</th>\n",
       "      <th>rh (%)</th>\n",
       "      <th>VPmax (mbar)</th>\n",
       "      <th>VPact (mbar)</th>\n",
       "      <th>VPdef (mbar)</th>\n",
       "      <th>sh (g/kg)</th>\n",
       "      <th>H2OC (mmol/mol)</th>\n",
       "      <th>rho (g/m**3)</th>\n",
       "      <th>Wx</th>\n",
       "      <th>Wy</th>\n",
       "      <th>max Wx</th>\n",
       "      <th>max Wy</th>\n",
       "      <th>Day sin</th>\n",
       "      <th>Day cos</th>\n",
       "      <th>Year sin</th>\n",
       "      <th>Year cos</th>\n",
       "    </tr>\n",
       "  </thead>\n",
       "  <tbody>\n",
       "    <tr>\n",
       "      <th>5</th>\n",
       "      <td>0.945308</td>\n",
       "      <td>-1.982473</td>\n",
       "      <td>-2.041888</td>\n",
       "      <td>-1.918973</td>\n",
       "      <td>1.117102</td>\n",
       "      <td>-1.302851</td>\n",
       "      <td>-1.477323</td>\n",
       "      <td>-0.790424</td>\n",
       "      <td>-1.480036</td>\n",
       "      <td>-1.482697</td>\n",
       "      <td>2.218524</td>\n",
       "      <td>0.193409</td>\n",
       "      <td>0.221161</td>\n",
       "      <td>0.111140</td>\n",
       "      <td>0.217928</td>\n",
       "      <td>0.366111</td>\n",
       "      <td>1.366069</td>\n",
       "      <td>-0.061052</td>\n",
       "      <td>1.428434</td>\n",
       "    </tr>\n",
       "    <tr>\n",
       "      <th>11</th>\n",
       "      <td>0.959770</td>\n",
       "      <td>-2.078372</td>\n",
       "      <td>-2.138166</td>\n",
       "      <td>-2.060964</td>\n",
       "      <td>1.044617</td>\n",
       "      <td>-1.330143</td>\n",
       "      <td>-1.534354</td>\n",
       "      <td>-0.786272</td>\n",
       "      <td>-1.536190</td>\n",
       "      <td>-1.539035</td>\n",
       "      <td>2.325708</td>\n",
       "      <td>0.172987</td>\n",
       "      <td>0.222101</td>\n",
       "      <td>0.109458</td>\n",
       "      <td>0.227798</td>\n",
       "      <td>0.707200</td>\n",
       "      <td>1.224794</td>\n",
       "      <td>-0.060029</td>\n",
       "      <td>1.428424</td>\n",
       "    </tr>\n",
       "    <tr>\n",
       "      <th>17</th>\n",
       "      <td>0.986284</td>\n",
       "      <td>-2.070284</td>\n",
       "      <td>-2.132435</td>\n",
       "      <td>-2.045187</td>\n",
       "      <td>1.062738</td>\n",
       "      <td>-1.328843</td>\n",
       "      <td>-1.527225</td>\n",
       "      <td>-0.788348</td>\n",
       "      <td>-1.528703</td>\n",
       "      <td>-1.531992</td>\n",
       "      <td>2.323998</td>\n",
       "      <td>0.207983</td>\n",
       "      <td>0.276266</td>\n",
       "      <td>0.111218</td>\n",
       "      <td>0.324078</td>\n",
       "      <td>1.000100</td>\n",
       "      <td>1.000059</td>\n",
       "      <td>-0.059006</td>\n",
       "      <td>1.428412</td>\n",
       "    </tr>\n",
       "    <tr>\n",
       "      <th>23</th>\n",
       "      <td>1.004362</td>\n",
       "      <td>-2.098014</td>\n",
       "      <td>-2.161090</td>\n",
       "      <td>-2.096820</td>\n",
       "      <td>1.008375</td>\n",
       "      <td>-1.336641</td>\n",
       "      <td>-1.546235</td>\n",
       "      <td>-0.782121</td>\n",
       "      <td>-1.547420</td>\n",
       "      <td>-1.553119</td>\n",
       "      <td>2.358913</td>\n",
       "      <td>0.270343</td>\n",
       "      <td>0.195267</td>\n",
       "      <td>0.246907</td>\n",
       "      <td>0.145176</td>\n",
       "      <td>1.224850</td>\n",
       "      <td>0.707179</td>\n",
       "      <td>-0.057983</td>\n",
       "      <td>1.428400</td>\n",
       "    </tr>\n",
       "    <tr>\n",
       "      <th>29</th>\n",
       "      <td>1.061006</td>\n",
       "      <td>-2.165028</td>\n",
       "      <td>-2.232152</td>\n",
       "      <td>-2.187178</td>\n",
       "      <td>0.984214</td>\n",
       "      <td>-1.353535</td>\n",
       "      <td>-1.579503</td>\n",
       "      <td>-0.782121</td>\n",
       "      <td>-1.581113</td>\n",
       "      <td>-1.585982</td>\n",
       "      <td>2.446320</td>\n",
       "      <td>0.112264</td>\n",
       "      <td>0.350818</td>\n",
       "      <td>0.048640</td>\n",
       "      <td>0.402053</td>\n",
       "      <td>1.366133</td>\n",
       "      <td>0.366112</td>\n",
       "      <td>-0.056960</td>\n",
       "      <td>1.428388</td>\n",
       "    </tr>\n",
       "    <tr>\n",
       "      <th>...</th>\n",
       "      <td>...</td>\n",
       "      <td>...</td>\n",
       "      <td>...</td>\n",
       "      <td>...</td>\n",
       "      <td>...</td>\n",
       "      <td>...</td>\n",
       "      <td>...</td>\n",
       "      <td>...</td>\n",
       "      <td>...</td>\n",
       "      <td>...</td>\n",
       "      <td>...</td>\n",
       "      <td>...</td>\n",
       "      <td>...</td>\n",
       "      <td>...</td>\n",
       "      <td>...</td>\n",
       "      <td>...</td>\n",
       "      <td>...</td>\n",
       "      <td>...</td>\n",
       "      <td>...</td>\n",
       "    </tr>\n",
       "    <tr>\n",
       "      <th>294353</th>\n",
       "      <td>0.169167</td>\n",
       "      <td>0.904892</td>\n",
       "      <td>0.886564</td>\n",
       "      <td>1.571997</td>\n",
       "      <td>0.947972</td>\n",
       "      <td>0.776492</td>\n",
       "      <td>1.984916</td>\n",
       "      <td>-0.493604</td>\n",
       "      <td>1.979016</td>\n",
       "      <td>1.977352</td>\n",
       "      <td>-0.882480</td>\n",
       "      <td>-0.166720</td>\n",
       "      <td>-1.508412</td>\n",
       "      <td>-0.155728</td>\n",
       "      <td>-1.363530</td>\n",
       "      <td>-0.955374</td>\n",
       "      <td>1.042725</td>\n",
       "      <td>-0.855026</td>\n",
       "      <td>-1.154613</td>\n",
       "    </tr>\n",
       "    <tr>\n",
       "      <th>294359</th>\n",
       "      <td>0.266787</td>\n",
       "      <td>0.879473</td>\n",
       "      <td>0.853325</td>\n",
       "      <td>1.405624</td>\n",
       "      <td>0.621793</td>\n",
       "      <td>0.742703</td>\n",
       "      <td>1.680752</td>\n",
       "      <td>-0.283962</td>\n",
       "      <td>1.672043</td>\n",
       "      <td>1.672192</td>\n",
       "      <td>-0.822662</td>\n",
       "      <td>-0.824901</td>\n",
       "      <td>-0.641039</td>\n",
       "      <td>-0.704391</td>\n",
       "      <td>-0.475387</td>\n",
       "      <td>-0.652949</td>\n",
       "      <td>1.254471</td>\n",
       "      <td>-0.855883</td>\n",
       "      <td>-1.154062</td>\n",
       "    </tr>\n",
       "    <tr>\n",
       "      <th>294365</th>\n",
       "      <td>0.217374</td>\n",
       "      <td>0.740824</td>\n",
       "      <td>0.719224</td>\n",
       "      <td>1.425703</td>\n",
       "      <td>1.086900</td>\n",
       "      <td>0.559461</td>\n",
       "      <td>1.716396</td>\n",
       "      <td>-0.605690</td>\n",
       "      <td>1.709479</td>\n",
       "      <td>1.707403</td>\n",
       "      <td>-0.716211</td>\n",
       "      <td>-0.030746</td>\n",
       "      <td>0.645277</td>\n",
       "      <td>0.013960</td>\n",
       "      <td>0.600050</td>\n",
       "      <td>-0.306022</td>\n",
       "      <td>1.380734</td>\n",
       "      <td>-0.856739</td>\n",
       "      <td>-1.153511</td>\n",
       "    </tr>\n",
       "    <tr>\n",
       "      <th>294371</th>\n",
       "      <td>0.213759</td>\n",
       "      <td>0.710783</td>\n",
       "      <td>0.689423</td>\n",
       "      <td>1.412795</td>\n",
       "      <td>1.147303</td>\n",
       "      <td>0.521772</td>\n",
       "      <td>1.692633</td>\n",
       "      <td>-0.645127</td>\n",
       "      <td>1.687018</td>\n",
       "      <td>1.683929</td>\n",
       "      <td>-0.689842</td>\n",
       "      <td>0.014300</td>\n",
       "      <td>-0.102616</td>\n",
       "      <td>-0.095117</td>\n",
       "      <td>-0.198426</td>\n",
       "      <td>0.061765</td>\n",
       "      <td>1.412909</td>\n",
       "      <td>-0.857595</td>\n",
       "      <td>-1.152959</td>\n",
       "    </tr>\n",
       "    <tr>\n",
       "      <th>294377</th>\n",
       "      <td>0.166757</td>\n",
       "      <td>0.653013</td>\n",
       "      <td>0.636700</td>\n",
       "      <td>1.352556</td>\n",
       "      <td>1.177505</td>\n",
       "      <td>0.450295</td>\n",
       "      <td>1.588077</td>\n",
       "      <td>-0.670035</td>\n",
       "      <td>1.582198</td>\n",
       "      <td>1.580644</td>\n",
       "      <td>-0.646139</td>\n",
       "      <td>0.519065</td>\n",
       "      <td>-0.328126</td>\n",
       "      <td>0.627259</td>\n",
       "      <td>-0.494435</td>\n",
       "      <td>0.425349</td>\n",
       "      <td>1.348804</td>\n",
       "      <td>-0.858451</td>\n",
       "      <td>-1.152406</td>\n",
       "    </tr>\n",
       "  </tbody>\n",
       "</table>\n",
       "<p>49063 rows × 19 columns</p>\n",
       "</div>\n",
       "      <button class=\"colab-df-convert\" onclick=\"convertToInteractive('df-63921130-fb6a-4ef1-b40d-2ca7ff07a5ba')\"\n",
       "              title=\"Convert this dataframe to an interactive table.\"\n",
       "              style=\"display:none;\">\n",
       "        \n",
       "  <svg xmlns=\"http://www.w3.org/2000/svg\" height=\"24px\"viewBox=\"0 0 24 24\"\n",
       "       width=\"24px\">\n",
       "    <path d=\"M0 0h24v24H0V0z\" fill=\"none\"/>\n",
       "    <path d=\"M18.56 5.44l.94 2.06.94-2.06 2.06-.94-2.06-.94-.94-2.06-.94 2.06-2.06.94zm-11 1L8.5 8.5l.94-2.06 2.06-.94-2.06-.94L8.5 2.5l-.94 2.06-2.06.94zm10 10l.94 2.06.94-2.06 2.06-.94-2.06-.94-.94-2.06-.94 2.06-2.06.94z\"/><path d=\"M17.41 7.96l-1.37-1.37c-.4-.4-.92-.59-1.43-.59-.52 0-1.04.2-1.43.59L10.3 9.45l-7.72 7.72c-.78.78-.78 2.05 0 2.83L4 21.41c.39.39.9.59 1.41.59.51 0 1.02-.2 1.41-.59l7.78-7.78 2.81-2.81c.8-.78.8-2.07 0-2.86zM5.41 20L4 18.59l7.72-7.72 1.47 1.35L5.41 20z\"/>\n",
       "  </svg>\n",
       "      </button>\n",
       "      \n",
       "  <style>\n",
       "    .colab-df-container {\n",
       "      display:flex;\n",
       "      flex-wrap:wrap;\n",
       "      gap: 12px;\n",
       "    }\n",
       "\n",
       "    .colab-df-convert {\n",
       "      background-color: #E8F0FE;\n",
       "      border: none;\n",
       "      border-radius: 50%;\n",
       "      cursor: pointer;\n",
       "      display: none;\n",
       "      fill: #1967D2;\n",
       "      height: 32px;\n",
       "      padding: 0 0 0 0;\n",
       "      width: 32px;\n",
       "    }\n",
       "\n",
       "    .colab-df-convert:hover {\n",
       "      background-color: #E2EBFA;\n",
       "      box-shadow: 0px 1px 2px rgba(60, 64, 67, 0.3), 0px 1px 3px 1px rgba(60, 64, 67, 0.15);\n",
       "      fill: #174EA6;\n",
       "    }\n",
       "\n",
       "    [theme=dark] .colab-df-convert {\n",
       "      background-color: #3B4455;\n",
       "      fill: #D2E3FC;\n",
       "    }\n",
       "\n",
       "    [theme=dark] .colab-df-convert:hover {\n",
       "      background-color: #434B5C;\n",
       "      box-shadow: 0px 1px 3px 1px rgba(0, 0, 0, 0.15);\n",
       "      filter: drop-shadow(0px 1px 2px rgba(0, 0, 0, 0.3));\n",
       "      fill: #FFFFFF;\n",
       "    }\n",
       "  </style>\n",
       "\n",
       "      <script>\n",
       "        const buttonEl =\n",
       "          document.querySelector('#df-63921130-fb6a-4ef1-b40d-2ca7ff07a5ba button.colab-df-convert');\n",
       "        buttonEl.style.display =\n",
       "          google.colab.kernel.accessAllowed ? 'block' : 'none';\n",
       "\n",
       "        async function convertToInteractive(key) {\n",
       "          const element = document.querySelector('#df-63921130-fb6a-4ef1-b40d-2ca7ff07a5ba');\n",
       "          const dataTable =\n",
       "            await google.colab.kernel.invokeFunction('convertToInteractive',\n",
       "                                                     [key], {});\n",
       "          if (!dataTable) return;\n",
       "\n",
       "          const docLinkHtml = 'Like what you see? Visit the ' +\n",
       "            '<a target=\"_blank\" href=https://colab.research.google.com/notebooks/data_table.ipynb>data table notebook</a>'\n",
       "            + ' to learn more about interactive tables.';\n",
       "          element.innerHTML = '';\n",
       "          dataTable['output_type'] = 'display_data';\n",
       "          await google.colab.output.renderOutput(dataTable, element);\n",
       "          const docLink = document.createElement('div');\n",
       "          docLink.innerHTML = docLinkHtml;\n",
       "          element.appendChild(docLink);\n",
       "        }\n",
       "      </script>\n",
       "    </div>\n",
       "  </div>\n",
       "  "
      ]
     },
     "metadata": {},
     "execution_count": 47
    }
   ]
  },
  {
   "cell_type": "code",
   "source": [
    "temp_train_arr = train_df['T (degC)'].to_numpy()\n",
    "temp_train_arr"
   ],
   "metadata": {
    "colab": {
     "base_uri": "https://localhost:8080/"
    },
    "id": "GGk9wQ0LEzlq",
    "outputId": "31e4091a-341e-4d50-a0eb-efdabecae1f3"
   },
   "execution_count": 48,
   "outputs": [
    {
     "output_type": "execute_result",
     "data": {
      "text/plain": [
       "array([-1.98247323, -2.07837211, -2.07028426, ...,  0.74082386,\n",
       "        0.71078325,  0.65301284])"
      ]
     },
     "metadata": {},
     "execution_count": 48
    }
   ]
  },
  {
   "cell_type": "code",
   "source": [
    "temp_train_arr.size"
   ],
   "metadata": {
    "colab": {
     "base_uri": "https://localhost:8080/"
    },
    "id": "VqWsHEXZE9D8",
    "outputId": "f2191563-da24-4c2c-853d-dc2478535b78"
   },
   "execution_count": 49,
   "outputs": [
    {
     "output_type": "execute_result",
     "data": {
      "text/plain": [
       "49063"
      ]
     },
     "metadata": {},
     "execution_count": 49
    }
   ]
  },
  {
   "cell_type": "code",
   "source": [
    "train_windows, train_labels = make_windows(temp_train_arr, window_size=3, horizon=1)\n",
    "len(train_windows), len(train_labels)"
   ],
   "metadata": {
    "colab": {
     "base_uri": "https://localhost:8080/"
    },
    "id": "t5b1KbrLFL4z",
    "outputId": "5f64825f-d639-49be-cb3e-d385eb6c7d38"
   },
   "execution_count": 50,
   "outputs": [
    {
     "output_type": "execute_result",
     "data": {
      "text/plain": [
       "(49060, 49060)"
      ]
     },
     "metadata": {},
     "execution_count": 50
    }
   ]
  },
  {
   "cell_type": "code",
   "source": [
    "# View the first 3 windows/labels\n",
    "for i in range(3):\n",
    "  print(f\"Window: {train_windows[i]} -> Label: {train_labels[i]}\")"
   ],
   "metadata": {
    "colab": {
     "base_uri": "https://localhost:8080/"
    },
    "id": "Hv0X68GPHf9v",
    "outputId": "b5b2ca33-f09d-470c-ed4a-1761c482e2a1"
   },
   "execution_count": 51,
   "outputs": [
    {
     "output_type": "stream",
     "name": "stdout",
     "text": [
      "Window: [-1.98247323 -2.07837211 -2.07028426] -> Label: [-2.09801405]\n",
      "Window: [-2.07837211 -2.07028426 -2.09801405] -> Label: [-2.16502773]\n",
      "Window: [-2.07028426 -2.09801405 -2.16502773] -> Label: [-2.16964936]\n"
     ]
    }
   ]
  },
  {
   "cell_type": "code",
   "source": [
    "# View the last 3 windows/labels\n",
    "for i in range(3):\n",
    "  print(f\"Window: {train_windows[i-3]} -> Label: {train_labels[i-3]}\")"
   ],
   "metadata": {
    "colab": {
     "base_uri": "https://localhost:8080/"
    },
    "id": "x30DSGgfHpj3",
    "outputId": "af1f993a-eb38-4614-881e-6bfd76f60944"
   },
   "execution_count": 52,
   "outputs": [
    {
     "output_type": "stream",
     "name": "stdout",
     "text": [
      "Window: [0.93724325 0.90489182 0.87947284] -> Label: [0.74082386]\n",
      "Window: [0.90489182 0.87947284 0.74082386] -> Label: [0.71078325]\n",
      "Window: [0.87947284 0.74082386 0.71078325] -> Label: [0.65301284]\n"
     ]
    }
   ]
  },
  {
   "cell_type": "code",
   "source": [
    "HORIZON=1"
   ],
   "metadata": {
    "id": "YckRVJjwHzbs"
   },
   "execution_count": 53,
   "outputs": []
  },
  {
   "cell_type": "markdown",
   "source": [
    "#Expiriment with timeseries_dataset_from_array()"
   ],
   "metadata": {
    "id": "Qq0cmZbrH4f4"
   }
  },
  {
   "cell_type": "code",
   "source": [
    "from tensorflow.keras import layers\n",
    "\n",
    "model_0= tf.keras.Sequential([\n",
    "  layers.Dense(32, activation='relu'),\n",
    "  layers.Dense(32, activation='relu'),\n",
    "  layers.Dense(HORIZON)\n",
    "])\n",
    "\n",
    "model_0.compile(loss='mae',\n",
    "                optimizer=tf.optimizers.Adam(),\n",
    "                metrics=['mae'])\n",
    "\n"
   ],
   "metadata": {
    "id": "AL37kzkbH9cK"
   },
   "execution_count": 54,
   "outputs": []
  },
  {
   "cell_type": "markdown",
   "source": [
    "#Create windowed val set"
   ],
   "metadata": {
    "id": "GC6h5pVpKXjM"
   }
  },
  {
   "cell_type": "code",
   "source": [
    "val_df"
   ],
   "metadata": {
    "colab": {
     "base_uri": "https://localhost:8080/",
     "height": 505
    },
    "id": "oiCf0TEQKbUJ",
    "outputId": "868dc507-6648-4a26-d8fb-bd5a862a055c"
   },
   "execution_count": 55,
   "outputs": [
    {
     "output_type": "execute_result",
     "data": {
      "text/plain": [
       "        p (mbar)  T (degC)  Tpot (K)  Tdew (degC)    rh (%)  VPmax (mbar)  \\\n",
       "294383  0.213759  0.618351  0.597730     1.321003  1.207707      0.407409   \n",
       "294389  0.241478  0.545560  0.523229     1.260764  1.286231      0.321636   \n",
       "294395  0.258351  0.510898  0.487698     1.249290  1.370796      0.282648   \n",
       "294401  0.277634  0.487789  0.463629     1.227776  1.388917      0.256656   \n",
       "294407  0.294506  0.502810  0.476236     1.255027  1.413079      0.273551   \n",
       "...          ...       ...       ...          ...       ...           ...   \n",
       "378461  1.447871 -0.708058 -0.814346    -0.543525  0.585551     -0.751825   \n",
       "378467  1.447871 -0.713835 -0.821223    -0.496195  0.730519     -0.755724   \n",
       "378473  1.476795 -0.787781 -0.895723    -0.513406  0.929851     -0.798610   \n",
       "378479  1.503309 -0.765828 -0.875092    -0.489023  0.917770     -0.785615   \n",
       "378485  1.550312 -0.732322 -0.846438    -0.468944  0.863407     -0.766121   \n",
       "\n",
       "        VPact (mbar)  VPdef (mbar)  sh (g/kg)  H2OC (mmol/mol)  rho (g/m**3)  \\\n",
       "294383      1.535799     -0.688716   1.526045         1.526654     -0.601703   \n",
       "294389      1.433619     -0.738532   1.424968         1.423369     -0.526259   \n",
       "294395      1.414609     -0.784197   1.406250         1.404590     -0.490612   \n",
       "294401      1.378964     -0.794575   1.368815         1.367032     -0.463755   \n",
       "294407      1.424114     -0.807029   1.413738         1.413979     -0.474987   \n",
       "...              ...           ...        ...              ...           ...   \n",
       "378461     -0.683646     -0.603614  -0.701375        -0.701017      1.032666   \n",
       "378467     -0.645625     -0.643052  -0.667683        -0.665806      1.037061   \n",
       "378473     -0.659883     -0.699095  -0.678914        -0.679891      1.116167   \n",
       "378479     -0.640873     -0.694943  -0.660196        -0.661111      1.100053   \n",
       "378485     -0.624239     -0.678338  -0.645222        -0.644680      1.079788   \n",
       "\n",
       "              Wx        Wy    max Wx    max Wy   Day sin   Day cos  Year sin  \\\n",
       "294383  0.072253 -0.639008  0.089478 -0.535618  0.759951  1.192787 -0.859306   \n",
       "294389  0.071987 -0.233849  0.079109 -0.188724  1.042768  0.955490 -0.860161   \n",
       "294395 -0.459268  0.629912 -0.526513  0.659056  1.254528  0.653085 -0.861015   \n",
       "294401 -0.086355 -0.297434 -0.068182 -0.229261  1.380799  0.306181 -0.861869   \n",
       "294407 -0.421783  0.109299 -0.413007  0.139150  1.412977 -0.061582 -0.862723   \n",
       "...          ...       ...       ...       ...       ...       ...       ...   \n",
       "378461  1.972660  1.474668  1.879942  1.333168 -0.999946 -0.999854  1.261156   \n",
       "378467  1.683218  1.168334  1.824204  1.199236 -1.224696 -0.706974  1.261515   \n",
       "378473  1.865699  2.069800  1.642021  1.702072 -1.365980 -0.365907  1.261873   \n",
       "378479  1.818145  1.318900  1.568811  1.089944 -1.414169  0.000102  1.262230   \n",
       "378485  1.181847  1.316214  1.114608  1.168797 -1.365980  0.366112  1.262587   \n",
       "\n",
       "        Year cos  \n",
       "294383 -1.151853  \n",
       "294389 -1.151299  \n",
       "294395 -1.150745  \n",
       "294401 -1.150190  \n",
       "294407 -1.149635  \n",
       "...          ...  \n",
       "378461  0.516062  \n",
       "378467  0.515119  \n",
       "378473  0.514175  \n",
       "378479  0.513231  \n",
       "378485  0.512286  \n",
       "\n",
       "[14018 rows x 19 columns]"
      ],
      "text/html": [
       "\n",
       "  <div id=\"df-b04ba850-ccbe-4235-9ab9-ce1eb31806a1\">\n",
       "    <div class=\"colab-df-container\">\n",
       "      <div>\n",
       "<style scoped>\n",
       "    .dataframe tbody tr th:only-of-type {\n",
       "        vertical-align: middle;\n",
       "    }\n",
       "\n",
       "    .dataframe tbody tr th {\n",
       "        vertical-align: top;\n",
       "    }\n",
       "\n",
       "    .dataframe thead th {\n",
       "        text-align: right;\n",
       "    }\n",
       "</style>\n",
       "<table border=\"1\" class=\"dataframe\">\n",
       "  <thead>\n",
       "    <tr style=\"text-align: right;\">\n",
       "      <th></th>\n",
       "      <th>p (mbar)</th>\n",
       "      <th>T (degC)</th>\n",
       "      <th>Tpot (K)</th>\n",
       "      <th>Tdew (degC)</th>\n",
       "      <th>rh (%)</th>\n",
       "      <th>VPmax (mbar)</th>\n",
       "      <th>VPact (mbar)</th>\n",
       "      <th>VPdef (mbar)</th>\n",
       "      <th>sh (g/kg)</th>\n",
       "      <th>H2OC (mmol/mol)</th>\n",
       "      <th>rho (g/m**3)</th>\n",
       "      <th>Wx</th>\n",
       "      <th>Wy</th>\n",
       "      <th>max Wx</th>\n",
       "      <th>max Wy</th>\n",
       "      <th>Day sin</th>\n",
       "      <th>Day cos</th>\n",
       "      <th>Year sin</th>\n",
       "      <th>Year cos</th>\n",
       "    </tr>\n",
       "  </thead>\n",
       "  <tbody>\n",
       "    <tr>\n",
       "      <th>294383</th>\n",
       "      <td>0.213759</td>\n",
       "      <td>0.618351</td>\n",
       "      <td>0.597730</td>\n",
       "      <td>1.321003</td>\n",
       "      <td>1.207707</td>\n",
       "      <td>0.407409</td>\n",
       "      <td>1.535799</td>\n",
       "      <td>-0.688716</td>\n",
       "      <td>1.526045</td>\n",
       "      <td>1.526654</td>\n",
       "      <td>-0.601703</td>\n",
       "      <td>0.072253</td>\n",
       "      <td>-0.639008</td>\n",
       "      <td>0.089478</td>\n",
       "      <td>-0.535618</td>\n",
       "      <td>0.759951</td>\n",
       "      <td>1.192787</td>\n",
       "      <td>-0.859306</td>\n",
       "      <td>-1.151853</td>\n",
       "    </tr>\n",
       "    <tr>\n",
       "      <th>294389</th>\n",
       "      <td>0.241478</td>\n",
       "      <td>0.545560</td>\n",
       "      <td>0.523229</td>\n",
       "      <td>1.260764</td>\n",
       "      <td>1.286231</td>\n",
       "      <td>0.321636</td>\n",
       "      <td>1.433619</td>\n",
       "      <td>-0.738532</td>\n",
       "      <td>1.424968</td>\n",
       "      <td>1.423369</td>\n",
       "      <td>-0.526259</td>\n",
       "      <td>0.071987</td>\n",
       "      <td>-0.233849</td>\n",
       "      <td>0.079109</td>\n",
       "      <td>-0.188724</td>\n",
       "      <td>1.042768</td>\n",
       "      <td>0.955490</td>\n",
       "      <td>-0.860161</td>\n",
       "      <td>-1.151299</td>\n",
       "    </tr>\n",
       "    <tr>\n",
       "      <th>294395</th>\n",
       "      <td>0.258351</td>\n",
       "      <td>0.510898</td>\n",
       "      <td>0.487698</td>\n",
       "      <td>1.249290</td>\n",
       "      <td>1.370796</td>\n",
       "      <td>0.282648</td>\n",
       "      <td>1.414609</td>\n",
       "      <td>-0.784197</td>\n",
       "      <td>1.406250</td>\n",
       "      <td>1.404590</td>\n",
       "      <td>-0.490612</td>\n",
       "      <td>-0.459268</td>\n",
       "      <td>0.629912</td>\n",
       "      <td>-0.526513</td>\n",
       "      <td>0.659056</td>\n",
       "      <td>1.254528</td>\n",
       "      <td>0.653085</td>\n",
       "      <td>-0.861015</td>\n",
       "      <td>-1.150745</td>\n",
       "    </tr>\n",
       "    <tr>\n",
       "      <th>294401</th>\n",
       "      <td>0.277634</td>\n",
       "      <td>0.487789</td>\n",
       "      <td>0.463629</td>\n",
       "      <td>1.227776</td>\n",
       "      <td>1.388917</td>\n",
       "      <td>0.256656</td>\n",
       "      <td>1.378964</td>\n",
       "      <td>-0.794575</td>\n",
       "      <td>1.368815</td>\n",
       "      <td>1.367032</td>\n",
       "      <td>-0.463755</td>\n",
       "      <td>-0.086355</td>\n",
       "      <td>-0.297434</td>\n",
       "      <td>-0.068182</td>\n",
       "      <td>-0.229261</td>\n",
       "      <td>1.380799</td>\n",
       "      <td>0.306181</td>\n",
       "      <td>-0.861869</td>\n",
       "      <td>-1.150190</td>\n",
       "    </tr>\n",
       "    <tr>\n",
       "      <th>294407</th>\n",
       "      <td>0.294506</td>\n",
       "      <td>0.502810</td>\n",
       "      <td>0.476236</td>\n",
       "      <td>1.255027</td>\n",
       "      <td>1.413079</td>\n",
       "      <td>0.273551</td>\n",
       "      <td>1.424114</td>\n",
       "      <td>-0.807029</td>\n",
       "      <td>1.413738</td>\n",
       "      <td>1.413979</td>\n",
       "      <td>-0.474987</td>\n",
       "      <td>-0.421783</td>\n",
       "      <td>0.109299</td>\n",
       "      <td>-0.413007</td>\n",
       "      <td>0.139150</td>\n",
       "      <td>1.412977</td>\n",
       "      <td>-0.061582</td>\n",
       "      <td>-0.862723</td>\n",
       "      <td>-1.149635</td>\n",
       "    </tr>\n",
       "    <tr>\n",
       "      <th>...</th>\n",
       "      <td>...</td>\n",
       "      <td>...</td>\n",
       "      <td>...</td>\n",
       "      <td>...</td>\n",
       "      <td>...</td>\n",
       "      <td>...</td>\n",
       "      <td>...</td>\n",
       "      <td>...</td>\n",
       "      <td>...</td>\n",
       "      <td>...</td>\n",
       "      <td>...</td>\n",
       "      <td>...</td>\n",
       "      <td>...</td>\n",
       "      <td>...</td>\n",
       "      <td>...</td>\n",
       "      <td>...</td>\n",
       "      <td>...</td>\n",
       "      <td>...</td>\n",
       "      <td>...</td>\n",
       "    </tr>\n",
       "    <tr>\n",
       "      <th>378461</th>\n",
       "      <td>1.447871</td>\n",
       "      <td>-0.708058</td>\n",
       "      <td>-0.814346</td>\n",
       "      <td>-0.543525</td>\n",
       "      <td>0.585551</td>\n",
       "      <td>-0.751825</td>\n",
       "      <td>-0.683646</td>\n",
       "      <td>-0.603614</td>\n",
       "      <td>-0.701375</td>\n",
       "      <td>-0.701017</td>\n",
       "      <td>1.032666</td>\n",
       "      <td>1.972660</td>\n",
       "      <td>1.474668</td>\n",
       "      <td>1.879942</td>\n",
       "      <td>1.333168</td>\n",
       "      <td>-0.999946</td>\n",
       "      <td>-0.999854</td>\n",
       "      <td>1.261156</td>\n",
       "      <td>0.516062</td>\n",
       "    </tr>\n",
       "    <tr>\n",
       "      <th>378467</th>\n",
       "      <td>1.447871</td>\n",
       "      <td>-0.713835</td>\n",
       "      <td>-0.821223</td>\n",
       "      <td>-0.496195</td>\n",
       "      <td>0.730519</td>\n",
       "      <td>-0.755724</td>\n",
       "      <td>-0.645625</td>\n",
       "      <td>-0.643052</td>\n",
       "      <td>-0.667683</td>\n",
       "      <td>-0.665806</td>\n",
       "      <td>1.037061</td>\n",
       "      <td>1.683218</td>\n",
       "      <td>1.168334</td>\n",
       "      <td>1.824204</td>\n",
       "      <td>1.199236</td>\n",
       "      <td>-1.224696</td>\n",
       "      <td>-0.706974</td>\n",
       "      <td>1.261515</td>\n",
       "      <td>0.515119</td>\n",
       "    </tr>\n",
       "    <tr>\n",
       "      <th>378473</th>\n",
       "      <td>1.476795</td>\n",
       "      <td>-0.787781</td>\n",
       "      <td>-0.895723</td>\n",
       "      <td>-0.513406</td>\n",
       "      <td>0.929851</td>\n",
       "      <td>-0.798610</td>\n",
       "      <td>-0.659883</td>\n",
       "      <td>-0.699095</td>\n",
       "      <td>-0.678914</td>\n",
       "      <td>-0.679891</td>\n",
       "      <td>1.116167</td>\n",
       "      <td>1.865699</td>\n",
       "      <td>2.069800</td>\n",
       "      <td>1.642021</td>\n",
       "      <td>1.702072</td>\n",
       "      <td>-1.365980</td>\n",
       "      <td>-0.365907</td>\n",
       "      <td>1.261873</td>\n",
       "      <td>0.514175</td>\n",
       "    </tr>\n",
       "    <tr>\n",
       "      <th>378479</th>\n",
       "      <td>1.503309</td>\n",
       "      <td>-0.765828</td>\n",
       "      <td>-0.875092</td>\n",
       "      <td>-0.489023</td>\n",
       "      <td>0.917770</td>\n",
       "      <td>-0.785615</td>\n",
       "      <td>-0.640873</td>\n",
       "      <td>-0.694943</td>\n",
       "      <td>-0.660196</td>\n",
       "      <td>-0.661111</td>\n",
       "      <td>1.100053</td>\n",
       "      <td>1.818145</td>\n",
       "      <td>1.318900</td>\n",
       "      <td>1.568811</td>\n",
       "      <td>1.089944</td>\n",
       "      <td>-1.414169</td>\n",
       "      <td>0.000102</td>\n",
       "      <td>1.262230</td>\n",
       "      <td>0.513231</td>\n",
       "    </tr>\n",
       "    <tr>\n",
       "      <th>378485</th>\n",
       "      <td>1.550312</td>\n",
       "      <td>-0.732322</td>\n",
       "      <td>-0.846438</td>\n",
       "      <td>-0.468944</td>\n",
       "      <td>0.863407</td>\n",
       "      <td>-0.766121</td>\n",
       "      <td>-0.624239</td>\n",
       "      <td>-0.678338</td>\n",
       "      <td>-0.645222</td>\n",
       "      <td>-0.644680</td>\n",
       "      <td>1.079788</td>\n",
       "      <td>1.181847</td>\n",
       "      <td>1.316214</td>\n",
       "      <td>1.114608</td>\n",
       "      <td>1.168797</td>\n",
       "      <td>-1.365980</td>\n",
       "      <td>0.366112</td>\n",
       "      <td>1.262587</td>\n",
       "      <td>0.512286</td>\n",
       "    </tr>\n",
       "  </tbody>\n",
       "</table>\n",
       "<p>14018 rows × 19 columns</p>\n",
       "</div>\n",
       "      <button class=\"colab-df-convert\" onclick=\"convertToInteractive('df-b04ba850-ccbe-4235-9ab9-ce1eb31806a1')\"\n",
       "              title=\"Convert this dataframe to an interactive table.\"\n",
       "              style=\"display:none;\">\n",
       "        \n",
       "  <svg xmlns=\"http://www.w3.org/2000/svg\" height=\"24px\"viewBox=\"0 0 24 24\"\n",
       "       width=\"24px\">\n",
       "    <path d=\"M0 0h24v24H0V0z\" fill=\"none\"/>\n",
       "    <path d=\"M18.56 5.44l.94 2.06.94-2.06 2.06-.94-2.06-.94-.94-2.06-.94 2.06-2.06.94zm-11 1L8.5 8.5l.94-2.06 2.06-.94-2.06-.94L8.5 2.5l-.94 2.06-2.06.94zm10 10l.94 2.06.94-2.06 2.06-.94-2.06-.94-.94-2.06-.94 2.06-2.06.94z\"/><path d=\"M17.41 7.96l-1.37-1.37c-.4-.4-.92-.59-1.43-.59-.52 0-1.04.2-1.43.59L10.3 9.45l-7.72 7.72c-.78.78-.78 2.05 0 2.83L4 21.41c.39.39.9.59 1.41.59.51 0 1.02-.2 1.41-.59l7.78-7.78 2.81-2.81c.8-.78.8-2.07 0-2.86zM5.41 20L4 18.59l7.72-7.72 1.47 1.35L5.41 20z\"/>\n",
       "  </svg>\n",
       "      </button>\n",
       "      \n",
       "  <style>\n",
       "    .colab-df-container {\n",
       "      display:flex;\n",
       "      flex-wrap:wrap;\n",
       "      gap: 12px;\n",
       "    }\n",
       "\n",
       "    .colab-df-convert {\n",
       "      background-color: #E8F0FE;\n",
       "      border: none;\n",
       "      border-radius: 50%;\n",
       "      cursor: pointer;\n",
       "      display: none;\n",
       "      fill: #1967D2;\n",
       "      height: 32px;\n",
       "      padding: 0 0 0 0;\n",
       "      width: 32px;\n",
       "    }\n",
       "\n",
       "    .colab-df-convert:hover {\n",
       "      background-color: #E2EBFA;\n",
       "      box-shadow: 0px 1px 2px rgba(60, 64, 67, 0.3), 0px 1px 3px 1px rgba(60, 64, 67, 0.15);\n",
       "      fill: #174EA6;\n",
       "    }\n",
       "\n",
       "    [theme=dark] .colab-df-convert {\n",
       "      background-color: #3B4455;\n",
       "      fill: #D2E3FC;\n",
       "    }\n",
       "\n",
       "    [theme=dark] .colab-df-convert:hover {\n",
       "      background-color: #434B5C;\n",
       "      box-shadow: 0px 1px 3px 1px rgba(0, 0, 0, 0.15);\n",
       "      filter: drop-shadow(0px 1px 2px rgba(0, 0, 0, 0.3));\n",
       "      fill: #FFFFFF;\n",
       "    }\n",
       "  </style>\n",
       "\n",
       "      <script>\n",
       "        const buttonEl =\n",
       "          document.querySelector('#df-b04ba850-ccbe-4235-9ab9-ce1eb31806a1 button.colab-df-convert');\n",
       "        buttonEl.style.display =\n",
       "          google.colab.kernel.accessAllowed ? 'block' : 'none';\n",
       "\n",
       "        async function convertToInteractive(key) {\n",
       "          const element = document.querySelector('#df-b04ba850-ccbe-4235-9ab9-ce1eb31806a1');\n",
       "          const dataTable =\n",
       "            await google.colab.kernel.invokeFunction('convertToInteractive',\n",
       "                                                     [key], {});\n",
       "          if (!dataTable) return;\n",
       "\n",
       "          const docLinkHtml = 'Like what you see? Visit the ' +\n",
       "            '<a target=\"_blank\" href=https://colab.research.google.com/notebooks/data_table.ipynb>data table notebook</a>'\n",
       "            + ' to learn more about interactive tables.';\n",
       "          element.innerHTML = '';\n",
       "          dataTable['output_type'] = 'display_data';\n",
       "          await google.colab.output.renderOutput(dataTable, element);\n",
       "          const docLink = document.createElement('div');\n",
       "          docLink.innerHTML = docLinkHtml;\n",
       "          element.appendChild(docLink);\n",
       "        }\n",
       "      </script>\n",
       "    </div>\n",
       "  </div>\n",
       "  "
      ]
     },
     "metadata": {},
     "execution_count": 55
    }
   ]
  },
  {
   "cell_type": "code",
   "source": [
    "temp_val_arr = val_df['T (degC)'].to_numpy()\n",
    "temp_val_arr, temp_val_arr.shape"
   ],
   "metadata": {
    "colab": {
     "base_uri": "https://localhost:8080/"
    },
    "id": "Bme665cuLQ41",
    "outputId": "fa5da9d7-fc76-4b7f-ec80-0b2983abfa48"
   },
   "execution_count": 56,
   "outputs": [
    {
     "output_type": "execute_result",
     "data": {
      "text/plain": [
       "(array([ 0.61835059,  0.54555988,  0.51089763, ..., -0.78778117,\n",
       "        -0.76582841, -0.73232158]), (14018,))"
      ]
     },
     "metadata": {},
     "execution_count": 56
    }
   ]
  },
  {
   "cell_type": "code",
   "source": [
    "val_windows, val_labels = make_windows(temp_val_arr, window_size=3, horizon=1)\n",
    "len(val_windows), len(val_labels)"
   ],
   "metadata": {
    "colab": {
     "base_uri": "https://localhost:8080/"
    },
    "id": "12Sg1C6FLpst",
    "outputId": "286097a9-3896-4378-e5d9-4aee817a7cc7"
   },
   "execution_count": 57,
   "outputs": [
    {
     "output_type": "execute_result",
     "data": {
      "text/plain": [
       "(14015, 14015)"
      ]
     },
     "metadata": {},
     "execution_count": 57
    }
   ]
  },
  {
   "cell_type": "markdown",
   "source": [
    "#Create Early Stopping Callback"
   ],
   "metadata": {
    "id": "sxnamPeNK1BN"
   }
  },
  {
   "cell_type": "code",
   "source": [
    "early_stopping = tf.keras.callbacks.EarlyStopping(monitor='val_loss',\n",
    "                                                  patience=5,\n",
    "                                                  mode='auto')"
   ],
   "metadata": {
    "id": "J8eloaaqK3tg"
   },
   "execution_count": 58,
   "outputs": []
  },
  {
   "cell_type": "code",
   "source": [
    "!nvidia-smi"
   ],
   "metadata": {
    "colab": {
     "base_uri": "https://localhost:8080/"
    },
    "id": "rCB4YdD3OGcz",
    "outputId": "7493206a-700e-454c-e6e6-030d4e8e0c26"
   },
   "execution_count": 59,
   "outputs": [
    {
     "output_type": "stream",
     "name": "stdout",
     "text": [
      "Sat Jun  4 08:39:20 2022       \n",
      "+-----------------------------------------------------------------------------+\n",
      "| NVIDIA-SMI 460.32.03    Driver Version: 460.32.03    CUDA Version: 11.2     |\n",
      "|-------------------------------+----------------------+----------------------+\n",
      "| GPU  Name        Persistence-M| Bus-Id        Disp.A | Volatile Uncorr. ECC |\n",
      "| Fan  Temp  Perf  Pwr:Usage/Cap|         Memory-Usage | GPU-Util  Compute M. |\n",
      "|                               |                      |               MIG M. |\n",
      "|===============================+======================+======================|\n",
      "|   0  Tesla T4            Off  | 00000000:00:04.0 Off |                    0 |\n",
      "| N/A   50C    P0    26W /  70W |    312MiB / 15109MiB |      0%      Default |\n",
      "|                               |                      |                  N/A |\n",
      "+-------------------------------+----------------------+----------------------+\n",
      "                                                                               \n",
      "+-----------------------------------------------------------------------------+\n",
      "| Processes:                                                                  |\n",
      "|  GPU   GI   CI        PID   Type   Process name                  GPU Memory |\n",
      "|        ID   ID                                                   Usage      |\n",
      "|=============================================================================|\n",
      "+-----------------------------------------------------------------------------+\n"
     ]
    }
   ]
  },
  {
   "cell_type": "code",
   "source": [
    "history = model_0.fit(x=train_windows,\n",
    "                      y=train_labels,\n",
    "                      epochs=100,\n",
    "                      verbose=1,\n",
    "                      batch_size=128,\n",
    "                      validation_data=(val_windows, val_labels),\n",
    "                      callbacks=[early_stopping])"
   ],
   "metadata": {
    "colab": {
     "base_uri": "https://localhost:8080/"
    },
    "id": "uCOXtrVrMoxw",
    "outputId": "31bc6cc8-c882-4474-d2d6-8f9a8ee2b7bd"
   },
   "execution_count": 60,
   "outputs": [
    {
     "output_type": "stream",
     "name": "stdout",
     "text": [
      "Epoch 1/100\n",
      "384/384 [==============================] - 6s 3ms/step - loss: 0.1167 - mae: 0.1167 - val_loss: 0.0643 - val_mae: 0.0643\n",
      "Epoch 2/100\n",
      "384/384 [==============================] - 1s 3ms/step - loss: 0.0640 - mae: 0.0640 - val_loss: 0.0657 - val_mae: 0.0657\n",
      "Epoch 3/100\n",
      "384/384 [==============================] - 1s 3ms/step - loss: 0.0631 - mae: 0.0631 - val_loss: 0.0606 - val_mae: 0.0606\n",
      "Epoch 4/100\n",
      "384/384 [==============================] - 2s 5ms/step - loss: 0.0630 - mae: 0.0630 - val_loss: 0.0602 - val_mae: 0.0602\n",
      "Epoch 5/100\n",
      "384/384 [==============================] - 2s 6ms/step - loss: 0.0627 - mae: 0.0627 - val_loss: 0.0624 - val_mae: 0.0624\n",
      "Epoch 6/100\n",
      "384/384 [==============================] - 2s 5ms/step - loss: 0.0626 - mae: 0.0626 - val_loss: 0.0615 - val_mae: 0.0615\n",
      "Epoch 7/100\n",
      "384/384 [==============================] - 2s 5ms/step - loss: 0.0626 - mae: 0.0626 - val_loss: 0.0601 - val_mae: 0.0601\n",
      "Epoch 8/100\n",
      "384/384 [==============================] - 2s 5ms/step - loss: 0.0625 - mae: 0.0625 - val_loss: 0.0596 - val_mae: 0.0596\n",
      "Epoch 9/100\n",
      "384/384 [==============================] - 2s 5ms/step - loss: 0.0625 - mae: 0.0625 - val_loss: 0.0600 - val_mae: 0.0600\n",
      "Epoch 10/100\n",
      "384/384 [==============================] - 2s 6ms/step - loss: 0.0628 - mae: 0.0628 - val_loss: 0.0602 - val_mae: 0.0602\n",
      "Epoch 11/100\n",
      "384/384 [==============================] - 2s 5ms/step - loss: 0.0629 - mae: 0.0629 - val_loss: 0.0606 - val_mae: 0.0606\n",
      "Epoch 12/100\n",
      "384/384 [==============================] - 3s 7ms/step - loss: 0.0623 - mae: 0.0623 - val_loss: 0.0594 - val_mae: 0.0594\n",
      "Epoch 13/100\n",
      "384/384 [==============================] - 2s 4ms/step - loss: 0.0624 - mae: 0.0624 - val_loss: 0.0617 - val_mae: 0.0617\n",
      "Epoch 14/100\n",
      "384/384 [==============================] - 1s 3ms/step - loss: 0.0623 - mae: 0.0623 - val_loss: 0.0611 - val_mae: 0.0611\n",
      "Epoch 15/100\n",
      "384/384 [==============================] - 1s 3ms/step - loss: 0.0624 - mae: 0.0624 - val_loss: 0.0596 - val_mae: 0.0596\n",
      "Epoch 16/100\n",
      "384/384 [==============================] - 1s 3ms/step - loss: 0.0622 - mae: 0.0622 - val_loss: 0.0594 - val_mae: 0.0594\n",
      "Epoch 17/100\n",
      "384/384 [==============================] - 1s 3ms/step - loss: 0.0622 - mae: 0.0622 - val_loss: 0.0594 - val_mae: 0.0594\n",
      "Epoch 18/100\n",
      "384/384 [==============================] - 1s 3ms/step - loss: 0.0624 - mae: 0.0624 - val_loss: 0.0595 - val_mae: 0.0595\n",
      "Epoch 19/100\n",
      "384/384 [==============================] - 1s 3ms/step - loss: 0.0623 - mae: 0.0623 - val_loss: 0.0624 - val_mae: 0.0624\n",
      "Epoch 20/100\n",
      "384/384 [==============================] - 1s 3ms/step - loss: 0.0624 - mae: 0.0624 - val_loss: 0.0608 - val_mae: 0.0608\n",
      "Epoch 21/100\n",
      "384/384 [==============================] - 1s 3ms/step - loss: 0.0622 - mae: 0.0622 - val_loss: 0.0603 - val_mae: 0.0603\n",
      "Epoch 22/100\n",
      "384/384 [==============================] - 1s 3ms/step - loss: 0.0623 - mae: 0.0623 - val_loss: 0.0606 - val_mae: 0.0606\n"
     ]
    }
   ]
  },
  {
   "cell_type": "markdown",
   "source": [
    "#Create test sets for evaluation"
   ],
   "metadata": {
    "id": "kdIBEBH0R47b"
   }
  },
  {
   "cell_type": "code",
   "source": [
    "temp_test_arr = test_df['T (degC)'].to_numpy()\n",
    "test_windows, test_labels = make_windows(temp_test_arr, 3, 1)"
   ],
   "metadata": {
    "id": "5RdHiQWlR8bI"
   },
   "execution_count": 61,
   "outputs": []
  },
  {
   "cell_type": "code",
   "source": [
    "model_0.evaluate(test_windows, test_labels)"
   ],
   "metadata": {
    "id": "iqrRbad7UOnO",
    "outputId": "beb1890e-e60f-48e4-e4df-91476ee4a964",
    "colab": {
     "base_uri": "https://localhost:8080/"
    }
   },
   "execution_count": 62,
   "outputs": [
    {
     "output_type": "stream",
     "name": "stdout",
     "text": [
      "219/219 [==============================] - 0s 2ms/step - loss: 0.0632 - mae: 0.0632\n"
     ]
    },
    {
     "output_type": "execute_result",
     "data": {
      "text/plain": [
       "[0.06322786957025528, 0.06322786957025528]"
      ]
     },
     "metadata": {},
     "execution_count": 62
    }
   ]
  },
  {
   "cell_type": "code",
   "source": [
    "def make_preds(model, input_data):\n",
    "  forecast = model.predict(input_data)\n",
    "  return tf.squeeze(forecast)"
   ],
   "metadata": {
    "id": "af5z--ZGUxVh"
   },
   "execution_count": 63,
   "outputs": []
  },
  {
   "cell_type": "code",
   "source": [
    "model_0_preds = make_preds(model_0, test_windows)"
   ],
   "metadata": {
    "id": "uOvq5Rh6YkWY"
   },
   "execution_count": 64,
   "outputs": []
  },
  {
   "cell_type": "code",
   "source": [
    "# MASE implemented courtesy of sktime - https://github.com/alan-turing-institute/sktime/blob/ee7a06843a44f4aaec7582d847e36073a9ab0566/sktime/performance_metrics/forecasting/_functions.py#L16\n",
    "def mean_absolute_scaled_error(y_true, y_pred):\n",
    "  \"\"\"\n",
    "  Implement MASE (assuming no seasonality of data).\n",
    "  \"\"\"\n",
    "  mae = tf.reduce_mean(tf.abs(y_true - y_pred))\n",
    "\n",
    "  # Find MAE of naive forecast (no seasonality)\n",
    "  mae_naive_no_season = tf.reduce_mean(tf.abs(y_true[1:] - y_true[:-1])) # our seasonality is 1 day (hence the shifting of 1 day)\n",
    "\n",
    "  return mae / mae_naive_no_season"
   ],
   "metadata": {
    "id": "E_0FAKCEZSKX"
   },
   "execution_count": 65,
   "outputs": []
  },
  {
   "cell_type": "code",
   "source": [
    "def evaluate_preds(y_true, y_pred):\n",
    "  # Make sure float32 (for metric calculations)\n",
    "  y_true = tf.cast(y_true, dtype=tf.float32)\n",
    "  y_pred = tf.cast(y_pred, dtype=tf.float32)\n",
    "\n",
    "  # Calculate various metrics\n",
    "  mae = tf.keras.metrics.mean_absolute_error(y_true, y_pred)\n",
    "  mse = tf.keras.metrics.mean_squared_error(y_true, y_pred) # puts and emphasis on outliers (all errors get squared)\n",
    "  rmse = tf.sqrt(mse)\n",
    "  mape = tf.keras.metrics.mean_absolute_percentage_error(y_true, y_pred)\n",
    "  mase = mean_absolute_scaled_error(y_true, y_pred)\n",
    "  \n",
    "  return {\"mae\": mae.numpy(),\n",
    "          \"mse\": mse.numpy(),\n",
    "          \"rmse\": rmse.numpy(),\n",
    "          \"mape\": mape.numpy(),\n",
    "          \"mase\": mase.numpy()}"
   ],
   "metadata": {
    "id": "l-UT72szYtHG"
   },
   "execution_count": 66,
   "outputs": []
  },
  {
   "cell_type": "code",
   "source": [
    "model_0_results = evaluate_preds(tf.squeeze(test_labels), model_0_preds)\n",
    "model_0_results"
   ],
   "metadata": {
    "id": "Qp-FenBlY1Zr",
    "outputId": "6711d04c-3103-4a12-a82e-d6515fe2b93e",
    "colab": {
     "base_uri": "https://localhost:8080/"
    }
   },
   "execution_count": 67,
   "outputs": [
    {
     "output_type": "execute_result",
     "data": {
      "text/plain": [
       "{'mae': 0.06322787,\n",
       " 'mape': 44.79201,\n",
       " 'mase': 0.74226576,\n",
       " 'mse': 0.008493333,\n",
       " 'rmse': 0.09215928}"
      ]
     },
     "metadata": {},
     "execution_count": 67
    }
   ]
  },
  {
   "cell_type": "code",
   "source": [
    "date_time"
   ],
   "metadata": {
    "id": "nRcCnHvgZFMB",
    "colab": {
     "base_uri": "https://localhost:8080/"
    },
    "outputId": "1f3438e3-2783-4d20-8066-334b572bd7ab"
   },
   "execution_count": 68,
   "outputs": [
    {
     "output_type": "execute_result",
     "data": {
      "text/plain": [
       "5        2009-01-01 01:00:00\n",
       "11       2009-01-01 02:00:00\n",
       "17       2009-01-01 03:00:00\n",
       "23       2009-01-01 04:00:00\n",
       "29       2009-01-01 05:00:00\n",
       "                 ...        \n",
       "420521   2016-12-31 19:10:00\n",
       "420527   2016-12-31 20:10:00\n",
       "420533   2016-12-31 21:10:00\n",
       "420539   2016-12-31 22:10:00\n",
       "420545   2016-12-31 23:10:00\n",
       "Name: Date Time, Length: 70091, dtype: datetime64[ns]"
      ]
     },
     "metadata": {},
     "execution_count": 68
    }
   ]
  },
  {
   "cell_type": "code",
   "source": [
    "# Create a function to plot time series data\n",
    "def plot_time_series(timesteps, values, format=\".\", start=0, end=None, label=None):\n",
    "  \"\"\"\n",
    "  Plots timesteps (a series of points in time) against values (a series of values across timesteps).\n",
    "\n",
    "  Parameters\n",
    "  ----------\n",
    "  timesteps : array of timestep values\n",
    "  values : array of values across time\n",
    "  format : style of plot, default \".\"\n",
    "  start : where to start the plot (setting a value will index from start of timesteps & values)\n",
    "  end : where to end the plot (similar to start but for the end)\n",
    "  label : label to show on plot about values, default None \n",
    "  \"\"\"\n",
    "  # Plot the series\n",
    "  plt.plot(timesteps[start:end], values[start:end], format, label=label)\n",
    "  plt.xlabel(\"Time\")\n",
    "  plt.ylabel(\"Price\")\n",
    "  if label:\n",
    "    plt.legend(fontsize=14) # make label bigger\n",
    "  plt.grid(True)"
   ],
   "metadata": {
    "id": "3cuIm6HF-G-C"
   },
   "execution_count": 70,
   "outputs": []
  },
  {
   "cell_type": "code",
   "source": [
    "plt.figure(figsize=(20, 7))\n",
    "\n",
    "plt.plot(date_time[-1000:], temp_arr[-1000:])\n",
    "plt.xlabel('Date')\n",
    "plt.ylabel('price')\n",
    "plt.show()\n"
   ],
   "metadata": {
    "colab": {
     "base_uri": "https://localhost:8080/",
     "height": 346
    },
    "id": "kUJOmA7Z-aPx",
    "outputId": "a6cee657-0de7-4843-ea89-401f47d1a41e"
   },
   "execution_count": 89,
   "outputs": [
    {
     "output_type": "display_data",
     "data": {
      "text/plain": [
       "<Figure size 1440x504 with 1 Axes>"
      ],
      "image/png": "[encoded data removed]"
     },
     "metadata": {
      "needs_background": "light"
     }
    }
   ]
  },
  {
   "cell_type": "code",
   "source": [
    "len(test_windows)"
   ],
   "metadata": {
    "colab": {
     "base_uri": "https://localhost:8080/"
    },
    "id": "RN9Sd06y-15i",
    "outputId": "d44dbd4b-74ad-401a-86dd-f9056338e1a5"
   },
   "execution_count": 87,
   "outputs": [
    {
     "output_type": "execute_result",
     "data": {
      "text/plain": [
       "7007"
      ]
     },
     "metadata": {},
     "execution_count": 87
    }
   ]
  },
  {
   "cell_type": "code",
   "source": [
    "model_0_preds.numpy()"
   ],
   "metadata": {
    "colab": {
     "base_uri": "https://localhost:8080/"
    },
    "id": "_B5z2lPv-5Es",
    "outputId": "cb844efa-d851-4ce0-961f-d8e6ec8fd058"
   },
   "execution_count": 94,
   "outputs": [
    {
     "output_type": "execute_result",
     "data": {
      "text/plain": [
       "array([-0.79282755, -0.86584044, -0.8567752 , ..., -1.2541467 ,\n",
       "       -1.444898  , -1.4239976 ], dtype=float32)"
      ]
     },
     "metadata": {},
     "execution_count": 94
    }
   ]
  },
  {
   "cell_type": "code",
   "source": [
    "test_labels\n"
   ],
   "metadata": {
    "colab": {
     "base_uri": "https://localhost:8080/"
    },
    "id": "gDqbDUKWGgdt",
    "outputId": "57034e7f-fe94-4ae9-a4b7-1fdaccfd03c2"
   },
   "execution_count": 91,
   "outputs": [
    {
     "output_type": "execute_result",
     "data": {
      "text/plain": [
       "array([[-0.82937587],\n",
       "       [-0.83630831],\n",
       "       [-0.82937587],\n",
       "       ...,\n",
       "       [-1.3701069 ],\n",
       "       [-1.38628261],\n",
       "       [-1.50644506]])"
      ]
     },
     "metadata": {},
     "execution_count": 91
    }
   ]
  },
  {
   "cell_type": "code",
   "source": [
    "plt.figure(figsize=(20, 10))\n",
    "plt.plot(test_labels[-100:])\n",
    "plt.plot(model_0_preds[-100:])"
   ],
   "metadata": {
    "colab": {
     "base_uri": "https://localhost:8080/",
     "height": 482
    },
    "id": "A4GPr5R0Gqez",
    "outputId": "78e36d7f-5d80-4b7b-9792-1f71769cda35"
   },
   "execution_count": 100,
   "outputs": [
    {
     "output_type": "execute_result",
     "data": {
      "text/plain": [
       "[<matplotlib.lines.Line2D at 0x7f8991e68bd0>]"
      ]
     },
     "metadata": {},
     "execution_count": 100
    },
    {
     "output_type": "display_data",
     "data": {
      "text/plain": [
       "<Figure size 1440x720 with 1 Axes>"
      ],
      "image/png": "[encoded data removed]"
     },
     "metadata": {
      "needs_background": "light"
     }
    }
   ]
  },
  {
   "cell_type": "code",
   "source": [
    "test_labels[-3:]"
   ],
   "metadata": {
    "colab": {
     "base_uri": "https://localhost:8080/"
    },
    "id": "3TCGr5SjG8-Y",
    "outputId": "2320c7c9-2d58-4a28-9e8b-d86174f7f777"
   },
   "execution_count": 101,
   "outputs": [
    {
     "output_type": "execute_result",
     "data": {
      "text/plain": [
       "array([[-1.3701069 ],\n",
       "       [-1.38628261],\n",
       "       [-1.50644506]])"
      ]
     },
     "metadata": {},
     "execution_count": 101
    }
   ]
  },
  {
   "cell_type": "code",
   "source": [
    "test_df"
   ],
   "metadata": {
    "colab": {
     "base_uri": "https://localhost:8080/",
     "height": 505
    },
    "id": "oXe3YGAHIJX3",
    "outputId": "6e305cb1-609f-4c85-91a2-91a007936f22"
   },
   "execution_count": 102,
   "outputs": [
    {
     "output_type": "execute_result",
     "data": {
      "text/plain": [
       "        p (mbar)  T (degC)  Tpot (K)  Tdew (degC)    rh (%)  VPmax (mbar)  \\\n",
       "378491  1.599724 -0.728855 -0.846438    -0.480418  0.821124     -0.764821   \n",
       "378497  1.653958 -0.734632 -0.856754    -0.563604  0.615753     -0.767420   \n",
       "378503  1.684087 -0.768139 -0.892285    -0.593724  0.645954     -0.788214   \n",
       "378509  1.666010 -0.829376 -0.950739    -0.542091  0.990254     -0.822003   \n",
       "378515  1.658778 -0.836308 -0.957616    -0.550696  0.990254     -0.827201   \n",
       "...          ...       ...       ...          ...       ...           ...   \n",
       "420521  1.629854 -1.165600 -1.281981    -1.428459 -0.235937     -0.996148   \n",
       "420527  1.535849 -1.214127 -1.322097    -1.640728 -0.580840     -1.019541   \n",
       "420533  1.510540 -1.370107 -1.475683    -1.649333 -0.181573     -1.087119   \n",
       "420539  1.445460 -1.386283 -1.487144    -1.685190 -0.217815     -1.094917   \n",
       "420545  1.380380 -1.506445 -1.600615    -1.820009 -0.199694     -1.143002   \n",
       "\n",
       "        VPact (mbar)  VPdef (mbar)  sh (g/kg)  H2OC (mmol/mol)  rho (g/m**3)  \\\n",
       "378491     -0.633744     -0.667960  -0.656453        -0.654069      1.089310   \n",
       "378497     -0.700280     -0.613992  -0.720093        -0.719796      1.112016   \n",
       "378503     -0.721666     -0.626446  -0.742555        -0.743270      1.153523   \n",
       "378509     -0.683646     -0.717775  -0.705119        -0.703364      1.205528   \n",
       "378515     -0.690775     -0.717775  -0.712606        -0.710407      1.211876   \n",
       "...              ...           ...        ...              ...           ...   \n",
       "420521     -1.251577     -0.499831  -1.262910        -1.264390      1.555401   \n",
       "420527     -1.356133     -0.443788  -1.363986        -1.365328      1.583967   \n",
       "420533     -1.358509     -0.549647  -1.367729        -1.370023      1.734122   \n",
       "420539     -1.375143     -0.545496  -1.382704        -1.384107      1.734366   \n",
       "420545     -1.436926     -0.570403  -1.442601        -1.445139      1.841305   \n",
       "\n",
       "              Wx        Wy    max Wx    max Wy   Day sin   Day cos  Year sin  \\\n",
       "378491  1.623820  1.106908  1.557556  1.016688 -1.224696  0.707179  1.262942   \n",
       "378497  1.704558  0.855454  1.888362  0.898892 -0.999946  1.000059  1.263298   \n",
       "378503  1.660785  1.082109  1.443980  0.911444 -0.707046  1.224794  1.263652   \n",
       "378509  1.043796  1.479713  1.060063  1.414679 -0.365957  1.366069  1.264006   \n",
       "378515  1.804237  1.284633  1.767462  1.197013  0.000077  1.414255  1.264359   \n",
       "...          ...       ...       ...       ...       ...       ...       ...   \n",
       "420521 -0.129648  0.148238 -0.119794  0.175300 -1.348713  0.425346 -0.065547   \n",
       "420527 -0.060615 -0.214379 -0.123420 -0.251059 -1.192686  0.759926 -0.064524   \n",
       "420533 -0.033443  0.415894 -0.157093  0.487113 -0.955374  1.042725 -0.063501   \n",
       "420539  0.155773  0.116774  0.133325  0.115670 -0.652949  1.254471 -0.062478   \n",
       "420545  0.038344  0.112908  0.012454  0.124102 -0.306022  1.380734 -0.061455   \n",
       "\n",
       "        Year cos  \n",
       "378491  0.511342  \n",
       "378497  0.510397  \n",
       "378503  0.509452  \n",
       "378509  0.508506  \n",
       "378515  0.507561  \n",
       "...          ...  \n",
       "420521  1.428472  \n",
       "420527  1.428464  \n",
       "420533  1.428456  \n",
       "420539  1.428447  \n",
       "420545  1.428438  \n",
       "\n",
       "[7010 rows x 19 columns]"
      ],
      "text/html": [
       "\n",
       "  <div id=\"df-e6ce10e2-b03c-44d7-8da6-70a5216e2d71\">\n",
       "    <div class=\"colab-df-container\">\n",
       "      <div>\n",
       "<style scoped>\n",
       "    .dataframe tbody tr th:only-of-type {\n",
       "        vertical-align: middle;\n",
       "    }\n",
       "\n",
       "    .dataframe tbody tr th {\n",
       "        vertical-align: top;\n",
       "    }\n",
       "\n",
       "    .dataframe thead th {\n",
       "        text-align: right;\n",
       "    }\n",
       "</style>\n",
       "<table border=\"1\" class=\"dataframe\">\n",
       "  <thead>\n",
       "    <tr style=\"text-align: right;\">\n",
       "      <th></th>\n",
       "      <th>p (mbar)</th>\n",
       "      <th>T (degC)</th>\n",
       "      <th>Tpot (K)</th>\n",
       "      <th>Tdew (degC)</th>\n",
       "      <th>rh (%)</th>\n",
       "      <th>VPmax (mbar)</th>\n",
       "      <th>VPact (mbar)</th>\n",
       "      <th>VPdef (mbar)</th>\n",
       "      <th>sh (g/kg)</th>\n",
       "      <th>H2OC (mmol/mol)</th>\n",
       "      <th>rho (g/m**3)</th>\n",
       "      <th>Wx</th>\n",
       "      <th>Wy</th>\n",
       "      <th>max Wx</th>\n",
       "      <th>max Wy</th>\n",
       "      <th>Day sin</th>\n",
       "      <th>Day cos</th>\n",
       "      <th>Year sin</th>\n",
       "      <th>Year cos</th>\n",
       "    </tr>\n",
       "  </thead>\n",
       "  <tbody>\n",
       "    <tr>\n",
       "      <th>378491</th>\n",
       "      <td>1.599724</td>\n",
       "      <td>-0.728855</td>\n",
       "      <td>-0.846438</td>\n",
       "      <td>-0.480418</td>\n",
       "      <td>0.821124</td>\n",
       "      <td>-0.764821</td>\n",
       "      <td>-0.633744</td>\n",
       "      <td>-0.667960</td>\n",
       "      <td>-0.656453</td>\n",
       "      <td>-0.654069</td>\n",
       "      <td>1.089310</td>\n",
       "      <td>1.623820</td>\n",
       "      <td>1.106908</td>\n",
       "      <td>1.557556</td>\n",
       "      <td>1.016688</td>\n",
       "      <td>-1.224696</td>\n",
       "      <td>0.707179</td>\n",
       "      <td>1.262942</td>\n",
       "      <td>0.511342</td>\n",
       "    </tr>\n",
       "    <tr>\n",
       "      <th>378497</th>\n",
       "      <td>1.653958</td>\n",
       "      <td>-0.734632</td>\n",
       "      <td>-0.856754</td>\n",
       "      <td>-0.563604</td>\n",
       "      <td>0.615753</td>\n",
       "      <td>-0.767420</td>\n",
       "      <td>-0.700280</td>\n",
       "      <td>-0.613992</td>\n",
       "      <td>-0.720093</td>\n",
       "      <td>-0.719796</td>\n",
       "      <td>1.112016</td>\n",
       "      <td>1.704558</td>\n",
       "      <td>0.855454</td>\n",
       "      <td>1.888362</td>\n",
       "      <td>0.898892</td>\n",
       "      <td>-0.999946</td>\n",
       "      <td>1.000059</td>\n",
       "      <td>1.263298</td>\n",
       "      <td>0.510397</td>\n",
       "    </tr>\n",
       "    <tr>\n",
       "      <th>378503</th>\n",
       "      <td>1.684087</td>\n",
       "      <td>-0.768139</td>\n",
       "      <td>-0.892285</td>\n",
       "      <td>-0.593724</td>\n",
       "      <td>0.645954</td>\n",
       "      <td>-0.788214</td>\n",
       "      <td>-0.721666</td>\n",
       "      <td>-0.626446</td>\n",
       "      <td>-0.742555</td>\n",
       "      <td>-0.743270</td>\n",
       "      <td>1.153523</td>\n",
       "      <td>1.660785</td>\n",
       "      <td>1.082109</td>\n",
       "      <td>1.443980</td>\n",
       "      <td>0.911444</td>\n",
       "      <td>-0.707046</td>\n",
       "      <td>1.224794</td>\n",
       "      <td>1.263652</td>\n",
       "      <td>0.509452</td>\n",
       "    </tr>\n",
       "    <tr>\n",
       "      <th>378509</th>\n",
       "      <td>1.666010</td>\n",
       "      <td>-0.829376</td>\n",
       "      <td>-0.950739</td>\n",
       "      <td>-0.542091</td>\n",
       "      <td>0.990254</td>\n",
       "      <td>-0.822003</td>\n",
       "      <td>-0.683646</td>\n",
       "      <td>-0.717775</td>\n",
       "      <td>-0.705119</td>\n",
       "      <td>-0.703364</td>\n",
       "      <td>1.205528</td>\n",
       "      <td>1.043796</td>\n",
       "      <td>1.479713</td>\n",
       "      <td>1.060063</td>\n",
       "      <td>1.414679</td>\n",
       "      <td>-0.365957</td>\n",
       "      <td>1.366069</td>\n",
       "      <td>1.264006</td>\n",
       "      <td>0.508506</td>\n",
       "    </tr>\n",
       "    <tr>\n",
       "      <th>378515</th>\n",
       "      <td>1.658778</td>\n",
       "      <td>-0.836308</td>\n",
       "      <td>-0.957616</td>\n",
       "      <td>-0.550696</td>\n",
       "      <td>0.990254</td>\n",
       "      <td>-0.827201</td>\n",
       "      <td>-0.690775</td>\n",
       "      <td>-0.717775</td>\n",
       "      <td>-0.712606</td>\n",
       "      <td>-0.710407</td>\n",
       "      <td>1.211876</td>\n",
       "      <td>1.804237</td>\n",
       "      <td>1.284633</td>\n",
       "      <td>1.767462</td>\n",
       "      <td>1.197013</td>\n",
       "      <td>0.000077</td>\n",
       "      <td>1.414255</td>\n",
       "      <td>1.264359</td>\n",
       "      <td>0.507561</td>\n",
       "    </tr>\n",
       "    <tr>\n",
       "      <th>...</th>\n",
       "      <td>...</td>\n",
       "      <td>...</td>\n",
       "      <td>...</td>\n",
       "      <td>...</td>\n",
       "      <td>...</td>\n",
       "      <td>...</td>\n",
       "      <td>...</td>\n",
       "      <td>...</td>\n",
       "      <td>...</td>\n",
       "      <td>...</td>\n",
       "      <td>...</td>\n",
       "      <td>...</td>\n",
       "      <td>...</td>\n",
       "      <td>...</td>\n",
       "      <td>...</td>\n",
       "      <td>...</td>\n",
       "      <td>...</td>\n",
       "      <td>...</td>\n",
       "      <td>...</td>\n",
       "    </tr>\n",
       "    <tr>\n",
       "      <th>420521</th>\n",
       "      <td>1.629854</td>\n",
       "      <td>-1.165600</td>\n",
       "      <td>-1.281981</td>\n",
       "      <td>-1.428459</td>\n",
       "      <td>-0.235937</td>\n",
       "      <td>-0.996148</td>\n",
       "      <td>-1.251577</td>\n",
       "      <td>-0.499831</td>\n",
       "      <td>-1.262910</td>\n",
       "      <td>-1.264390</td>\n",
       "      <td>1.555401</td>\n",
       "      <td>-0.129648</td>\n",
       "      <td>0.148238</td>\n",
       "      <td>-0.119794</td>\n",
       "      <td>0.175300</td>\n",
       "      <td>-1.348713</td>\n",
       "      <td>0.425346</td>\n",
       "      <td>-0.065547</td>\n",
       "      <td>1.428472</td>\n",
       "    </tr>\n",
       "    <tr>\n",
       "      <th>420527</th>\n",
       "      <td>1.535849</td>\n",
       "      <td>-1.214127</td>\n",
       "      <td>-1.322097</td>\n",
       "      <td>-1.640728</td>\n",
       "      <td>-0.580840</td>\n",
       "      <td>-1.019541</td>\n",
       "      <td>-1.356133</td>\n",
       "      <td>-0.443788</td>\n",
       "      <td>-1.363986</td>\n",
       "      <td>-1.365328</td>\n",
       "      <td>1.583967</td>\n",
       "      <td>-0.060615</td>\n",
       "      <td>-0.214379</td>\n",
       "      <td>-0.123420</td>\n",
       "      <td>-0.251059</td>\n",
       "      <td>-1.192686</td>\n",
       "      <td>0.759926</td>\n",
       "      <td>-0.064524</td>\n",
       "      <td>1.428464</td>\n",
       "    </tr>\n",
       "    <tr>\n",
       "      <th>420533</th>\n",
       "      <td>1.510540</td>\n",
       "      <td>-1.370107</td>\n",
       "      <td>-1.475683</td>\n",
       "      <td>-1.649333</td>\n",
       "      <td>-0.181573</td>\n",
       "      <td>-1.087119</td>\n",
       "      <td>-1.358509</td>\n",
       "      <td>-0.549647</td>\n",
       "      <td>-1.367729</td>\n",
       "      <td>-1.370023</td>\n",
       "      <td>1.734122</td>\n",
       "      <td>-0.033443</td>\n",
       "      <td>0.415894</td>\n",
       "      <td>-0.157093</td>\n",
       "      <td>0.487113</td>\n",
       "      <td>-0.955374</td>\n",
       "      <td>1.042725</td>\n",
       "      <td>-0.063501</td>\n",
       "      <td>1.428456</td>\n",
       "    </tr>\n",
       "    <tr>\n",
       "      <th>420539</th>\n",
       "      <td>1.445460</td>\n",
       "      <td>-1.386283</td>\n",
       "      <td>-1.487144</td>\n",
       "      <td>-1.685190</td>\n",
       "      <td>-0.217815</td>\n",
       "      <td>-1.094917</td>\n",
       "      <td>-1.375143</td>\n",
       "      <td>-0.545496</td>\n",
       "      <td>-1.382704</td>\n",
       "      <td>-1.384107</td>\n",
       "      <td>1.734366</td>\n",
       "      <td>0.155773</td>\n",
       "      <td>0.116774</td>\n",
       "      <td>0.133325</td>\n",
       "      <td>0.115670</td>\n",
       "      <td>-0.652949</td>\n",
       "      <td>1.254471</td>\n",
       "      <td>-0.062478</td>\n",
       "      <td>1.428447</td>\n",
       "    </tr>\n",
       "    <tr>\n",
       "      <th>420545</th>\n",
       "      <td>1.380380</td>\n",
       "      <td>-1.506445</td>\n",
       "      <td>-1.600615</td>\n",
       "      <td>-1.820009</td>\n",
       "      <td>-0.199694</td>\n",
       "      <td>-1.143002</td>\n",
       "      <td>-1.436926</td>\n",
       "      <td>-0.570403</td>\n",
       "      <td>-1.442601</td>\n",
       "      <td>-1.445139</td>\n",
       "      <td>1.841305</td>\n",
       "      <td>0.038344</td>\n",
       "      <td>0.112908</td>\n",
       "      <td>0.012454</td>\n",
       "      <td>0.124102</td>\n",
       "      <td>-0.306022</td>\n",
       "      <td>1.380734</td>\n",
       "      <td>-0.061455</td>\n",
       "      <td>1.428438</td>\n",
       "    </tr>\n",
       "  </tbody>\n",
       "</table>\n",
       "<p>7010 rows × 19 columns</p>\n",
       "</div>\n",
       "      <button class=\"colab-df-convert\" onclick=\"convertToInteractive('df-e6ce10e2-b03c-44d7-8da6-70a5216e2d71')\"\n",
       "              title=\"Convert this dataframe to an interactive table.\"\n",
       "              style=\"display:none;\">\n",
       "        \n",
       "  <svg xmlns=\"http://www.w3.org/2000/svg\" height=\"24px\"viewBox=\"0 0 24 24\"\n",
       "       width=\"24px\">\n",
       "    <path d=\"M0 0h24v24H0V0z\" fill=\"none\"/>\n",
       "    <path d=\"M18.56 5.44l.94 2.06.94-2.06 2.06-.94-2.06-.94-.94-2.06-.94 2.06-2.06.94zm-11 1L8.5 8.5l.94-2.06 2.06-.94-2.06-.94L8.5 2.5l-.94 2.06-2.06.94zm10 10l.94 2.06.94-2.06 2.06-.94-2.06-.94-.94-2.06-.94 2.06-2.06.94z\"/><path d=\"M17.41 7.96l-1.37-1.37c-.4-.4-.92-.59-1.43-.59-.52 0-1.04.2-1.43.59L10.3 9.45l-7.72 7.72c-.78.78-.78 2.05 0 2.83L4 21.41c.39.39.9.59 1.41.59.51 0 1.02-.2 1.41-.59l7.78-7.78 2.81-2.81c.8-.78.8-2.07 0-2.86zM5.41 20L4 18.59l7.72-7.72 1.47 1.35L5.41 20z\"/>\n",
       "  </svg>\n",
       "      </button>\n",
       "      \n",
       "  <style>\n",
       "    .colab-df-container {\n",
       "      display:flex;\n",
       "      flex-wrap:wrap;\n",
       "      gap: 12px;\n",
       "    }\n",
       "\n",
       "    .colab-df-convert {\n",
       "      background-color: #E8F0FE;\n",
       "      border: none;\n",
       "      border-radius: 50%;\n",
       "      cursor: pointer;\n",
       "      display: none;\n",
       "      fill: #1967D2;\n",
       "      height: 32px;\n",
       "      padding: 0 0 0 0;\n",
       "      width: 32px;\n",
       "    }\n",
       "\n",
       "    .colab-df-convert:hover {\n",
       "      background-color: #E2EBFA;\n",
       "      box-shadow: 0px 1px 2px rgba(60, 64, 67, 0.3), 0px 1px 3px 1px rgba(60, 64, 67, 0.15);\n",
       "      fill: #174EA6;\n",
       "    }\n",
       "\n",
       "    [theme=dark] .colab-df-convert {\n",
       "      background-color: #3B4455;\n",
       "      fill: #D2E3FC;\n",
       "    }\n",
       "\n",
       "    [theme=dark] .colab-df-convert:hover {\n",
       "      background-color: #434B5C;\n",
       "      box-shadow: 0px 1px 3px 1px rgba(0, 0, 0, 0.15);\n",
       "      filter: drop-shadow(0px 1px 2px rgba(0, 0, 0, 0.3));\n",
       "      fill: #FFFFFF;\n",
       "    }\n",
       "  </style>\n",
       "\n",
       "      <script>\n",
       "        const buttonEl =\n",
       "          document.querySelector('#df-e6ce10e2-b03c-44d7-8da6-70a5216e2d71 button.colab-df-convert');\n",
       "        buttonEl.style.display =\n",
       "          google.colab.kernel.accessAllowed ? 'block' : 'none';\n",
       "\n",
       "        async function convertToInteractive(key) {\n",
       "          const element = document.querySelector('#df-e6ce10e2-b03c-44d7-8da6-70a5216e2d71');\n",
       "          const dataTable =\n",
       "            await google.colab.kernel.invokeFunction('convertToInteractive',\n",
       "                                                     [key], {});\n",
       "          if (!dataTable) return;\n",
       "\n",
       "          const docLinkHtml = 'Like what you see? Visit the ' +\n",
       "            '<a target=\"_blank\" href=https://colab.research.google.com/notebooks/data_table.ipynb>data table notebook</a>'\n",
       "            + ' to learn more about interactive tables.';\n",
       "          element.innerHTML = '';\n",
       "          dataTable['output_type'] = 'display_data';\n",
       "          await google.colab.output.renderOutput(dataTable, element);\n",
       "          const docLink = document.createElement('div');\n",
       "          docLink.innerHTML = docLinkHtml;\n",
       "          element.appendChild(docLink);\n",
       "        }\n",
       "      </script>\n",
       "    </div>\n",
       "  </div>\n",
       "  "
      ]
     },
     "metadata": {},
     "execution_count": 102
    }
   ]
  },
  {
   "cell_type": "code",
   "source": [
    "df"
   ],
   "metadata": {
    "colab": {
     "base_uri": "https://localhost:8080/",
     "height": 505
    },
    "id": "fhu5FgQ8IOUb",
    "outputId": "8493b9bd-f1f5-447c-b56a-ff05fb061bea"
   },
   "execution_count": 103,
   "outputs": [
    {
     "output_type": "execute_result",
     "data": {
      "text/plain": [
       "        p (mbar)  T (degC)  Tpot (K)  Tdew (degC)  rh (%)  VPmax (mbar)  \\\n",
       "5         996.50     -8.05    265.38        -8.78   94.40          3.33   \n",
       "11        996.62     -8.88    264.54        -9.77   93.20          3.12   \n",
       "17        996.84     -8.81    264.59        -9.66   93.50          3.13   \n",
       "23        996.99     -9.05    264.34       -10.02   92.60          3.07   \n",
       "29        997.46     -9.63    263.72       -10.65   92.20          2.94   \n",
       "...          ...       ...       ...          ...     ...           ...   \n",
       "420521   1002.18     -0.98    272.01        -5.36   72.00          5.69   \n",
       "420527   1001.40     -1.40    271.66        -6.84   66.29          5.51   \n",
       "420533   1001.19     -2.75    270.32        -6.90   72.90          4.99   \n",
       "420539   1000.65     -2.89    270.22        -7.15   72.30          4.93   \n",
       "420545   1000.11     -3.93    269.23        -8.09   72.60          4.56   \n",
       "\n",
       "        VPact (mbar)  VPdef (mbar)  sh (g/kg)  H2OC (mmol/mol)  rho (g/m**3)  \\\n",
       "5               3.14          0.19       1.96             3.15       1307.86   \n",
       "11              2.90          0.21       1.81             2.91       1312.25   \n",
       "17              2.93          0.20       1.83             2.94       1312.18   \n",
       "23              2.85          0.23       1.78             2.85       1313.61   \n",
       "29              2.71          0.23       1.69             2.71       1317.19   \n",
       "...              ...           ...        ...              ...           ...   \n",
       "420521          4.09          1.59       2.54             4.08       1280.70   \n",
       "420527          3.65          1.86       2.27             3.65       1281.87   \n",
       "420533          3.64          1.35       2.26             3.63       1288.02   \n",
       "420539          3.57          1.37       2.22             3.57       1288.03   \n",
       "420545          3.31          1.25       2.06             3.31       1292.41   \n",
       "\n",
       "              Wx        Wy    max Wx    max Wy   Day sin   Day cos  Year sin  \\\n",
       "5      -0.204862 -0.046168 -0.614587 -0.138503  0.258819  0.965926  0.010049   \n",
       "11     -0.245971 -0.044701 -0.619848 -0.112645  0.500000  0.866025  0.010766   \n",
       "17     -0.175527  0.039879 -0.614344  0.139576  0.707107  0.707107  0.011483   \n",
       "23     -0.050000 -0.086603 -0.190000 -0.329090  0.866025  0.500000  0.012199   \n",
       "29     -0.368202  0.156292 -0.810044  0.343843  0.965926  0.258819  0.012916   \n",
       "...          ...       ...       ...       ...       ...       ...       ...   \n",
       "420521 -0.855154 -0.160038 -1.336792 -0.250174 -0.953717  0.300706  0.006900   \n",
       "420527 -0.716196 -0.726267 -1.348134 -1.367090 -0.843391  0.537300  0.007617   \n",
       "420533 -0.661501  0.257908 -1.453438  0.566672 -0.675590  0.737277  0.008334   \n",
       "420539 -0.280621 -0.209169 -0.545207 -0.406385 -0.461749  0.887011  0.009050   \n",
       "420545 -0.516998 -0.215205 -0.923210 -0.384295 -0.216440  0.976296  0.009767   \n",
       "\n",
       "        Year cos  \n",
       "5       0.999950  \n",
       "11      0.999942  \n",
       "17      0.999934  \n",
       "23      0.999926  \n",
       "29      0.999917  \n",
       "...          ...  \n",
       "420521  0.999976  \n",
       "420527  0.999971  \n",
       "420533  0.999965  \n",
       "420539  0.999959  \n",
       "420545  0.999952  \n",
       "\n",
       "[70091 rows x 19 columns]"
      ],
      "text/html": [
       "\n",
       "  <div id=\"df-02ee36ca-0bcf-406b-8715-acb7170d110f\">\n",
       "    <div class=\"colab-df-container\">\n",
       "      <div>\n",
       "<style scoped>\n",
       "    .dataframe tbody tr th:only-of-type {\n",
       "        vertical-align: middle;\n",
       "    }\n",
       "\n",
       "    .dataframe tbody tr th {\n",
       "        vertical-align: top;\n",
       "    }\n",
       "\n",
       "    .dataframe thead th {\n",
       "        text-align: right;\n",
       "    }\n",
       "</style>\n",
       "<table border=\"1\" class=\"dataframe\">\n",
       "  <thead>\n",
       "    <tr style=\"text-align: right;\">\n",
       "      <th></th>\n",
       "      <th>p (mbar)</th>\n",
       "      <th>T (degC)</th>\n",
       "      <th>Tpot (K)</th>\n",
       "      <th>Tdew (degC)</th>\n",
       "      <th>rh (%)</th>\n",
       "      <th>VPmax (mbar)</th>\n",
       "      <th>VPact (mbar)</th>\n",
       "      <th>VPdef (mbar)</th>\n",
       "      <th>sh (g/kg)</th>\n",
       "      <th>H2OC (mmol/mol)</th>\n",
       "      <th>rho (g/m**3)</th>\n",
       "      <th>Wx</th>\n",
       "      <th>Wy</th>\n",
       "      <th>max Wx</th>\n",
       "      <th>max Wy</th>\n",
       "      <th>Day sin</th>\n",
       "      <th>Day cos</th>\n",
       "      <th>Year sin</th>\n",
       "      <th>Year cos</th>\n",
       "    </tr>\n",
       "  </thead>\n",
       "  <tbody>\n",
       "    <tr>\n",
       "      <th>5</th>\n",
       "      <td>996.50</td>\n",
       "      <td>-8.05</td>\n",
       "      <td>265.38</td>\n",
       "      <td>-8.78</td>\n",
       "      <td>94.40</td>\n",
       "      <td>3.33</td>\n",
       "      <td>3.14</td>\n",
       "      <td>0.19</td>\n",
       "      <td>1.96</td>\n",
       "      <td>3.15</td>\n",
       "      <td>1307.86</td>\n",
       "      <td>-0.204862</td>\n",
       "      <td>-0.046168</td>\n",
       "      <td>-0.614587</td>\n",
       "      <td>-0.138503</td>\n",
       "      <td>0.258819</td>\n",
       "      <td>0.965926</td>\n",
       "      <td>0.010049</td>\n",
       "      <td>0.999950</td>\n",
       "    </tr>\n",
       "    <tr>\n",
       "      <th>11</th>\n",
       "      <td>996.62</td>\n",
       "      <td>-8.88</td>\n",
       "      <td>264.54</td>\n",
       "      <td>-9.77</td>\n",
       "      <td>93.20</td>\n",
       "      <td>3.12</td>\n",
       "      <td>2.90</td>\n",
       "      <td>0.21</td>\n",
       "      <td>1.81</td>\n",
       "      <td>2.91</td>\n",
       "      <td>1312.25</td>\n",
       "      <td>-0.245971</td>\n",
       "      <td>-0.044701</td>\n",
       "      <td>-0.619848</td>\n",
       "      <td>-0.112645</td>\n",
       "      <td>0.500000</td>\n",
       "      <td>0.866025</td>\n",
       "      <td>0.010766</td>\n",
       "      <td>0.999942</td>\n",
       "    </tr>\n",
       "    <tr>\n",
       "      <th>17</th>\n",
       "      <td>996.84</td>\n",
       "      <td>-8.81</td>\n",
       "      <td>264.59</td>\n",
       "      <td>-9.66</td>\n",
       "      <td>93.50</td>\n",
       "      <td>3.13</td>\n",
       "      <td>2.93</td>\n",
       "      <td>0.20</td>\n",
       "      <td>1.83</td>\n",
       "      <td>2.94</td>\n",
       "      <td>1312.18</td>\n",
       "      <td>-0.175527</td>\n",
       "      <td>0.039879</td>\n",
       "      <td>-0.614344</td>\n",
       "      <td>0.139576</td>\n",
       "      <td>0.707107</td>\n",
       "      <td>0.707107</td>\n",
       "      <td>0.011483</td>\n",
       "      <td>0.999934</td>\n",
       "    </tr>\n",
       "    <tr>\n",
       "      <th>23</th>\n",
       "      <td>996.99</td>\n",
       "      <td>-9.05</td>\n",
       "      <td>264.34</td>\n",
       "      <td>-10.02</td>\n",
       "      <td>92.60</td>\n",
       "      <td>3.07</td>\n",
       "      <td>2.85</td>\n",
       "      <td>0.23</td>\n",
       "      <td>1.78</td>\n",
       "      <td>2.85</td>\n",
       "      <td>1313.61</td>\n",
       "      <td>-0.050000</td>\n",
       "      <td>-0.086603</td>\n",
       "      <td>-0.190000</td>\n",
       "      <td>-0.329090</td>\n",
       "      <td>0.866025</td>\n",
       "      <td>0.500000</td>\n",
       "      <td>0.012199</td>\n",
       "      <td>0.999926</td>\n",
       "    </tr>\n",
       "    <tr>\n",
       "      <th>29</th>\n",
       "      <td>997.46</td>\n",
       "      <td>-9.63</td>\n",
       "      <td>263.72</td>\n",
       "      <td>-10.65</td>\n",
       "      <td>92.20</td>\n",
       "      <td>2.94</td>\n",
       "      <td>2.71</td>\n",
       "      <td>0.23</td>\n",
       "      <td>1.69</td>\n",
       "      <td>2.71</td>\n",
       "      <td>1317.19</td>\n",
       "      <td>-0.368202</td>\n",
       "      <td>0.156292</td>\n",
       "      <td>-0.810044</td>\n",
       "      <td>0.343843</td>\n",
       "      <td>0.965926</td>\n",
       "      <td>0.258819</td>\n",
       "      <td>0.012916</td>\n",
       "      <td>0.999917</td>\n",
       "    </tr>\n",
       "    <tr>\n",
       "      <th>...</th>\n",
       "      <td>...</td>\n",
       "      <td>...</td>\n",
       "      <td>...</td>\n",
       "      <td>...</td>\n",
       "      <td>...</td>\n",
       "      <td>...</td>\n",
       "      <td>...</td>\n",
       "      <td>...</td>\n",
       "      <td>...</td>\n",
       "      <td>...</td>\n",
       "      <td>...</td>\n",
       "      <td>...</td>\n",
       "      <td>...</td>\n",
       "      <td>...</td>\n",
       "      <td>...</td>\n",
       "      <td>...</td>\n",
       "      <td>...</td>\n",
       "      <td>...</td>\n",
       "      <td>...</td>\n",
       "    </tr>\n",
       "    <tr>\n",
       "      <th>420521</th>\n",
       "      <td>1002.18</td>\n",
       "      <td>-0.98</td>\n",
       "      <td>272.01</td>\n",
       "      <td>-5.36</td>\n",
       "      <td>72.00</td>\n",
       "      <td>5.69</td>\n",
       "      <td>4.09</td>\n",
       "      <td>1.59</td>\n",
       "      <td>2.54</td>\n",
       "      <td>4.08</td>\n",
       "      <td>1280.70</td>\n",
       "      <td>-0.855154</td>\n",
       "      <td>-0.160038</td>\n",
       "      <td>-1.336792</td>\n",
       "      <td>-0.250174</td>\n",
       "      <td>-0.953717</td>\n",
       "      <td>0.300706</td>\n",
       "      <td>0.006900</td>\n",
       "      <td>0.999976</td>\n",
       "    </tr>\n",
       "    <tr>\n",
       "      <th>420527</th>\n",
       "      <td>1001.40</td>\n",
       "      <td>-1.40</td>\n",
       "      <td>271.66</td>\n",
       "      <td>-6.84</td>\n",
       "      <td>66.29</td>\n",
       "      <td>5.51</td>\n",
       "      <td>3.65</td>\n",
       "      <td>1.86</td>\n",
       "      <td>2.27</td>\n",
       "      <td>3.65</td>\n",
       "      <td>1281.87</td>\n",
       "      <td>-0.716196</td>\n",
       "      <td>-0.726267</td>\n",
       "      <td>-1.348134</td>\n",
       "      <td>-1.367090</td>\n",
       "      <td>-0.843391</td>\n",
       "      <td>0.537300</td>\n",
       "      <td>0.007617</td>\n",
       "      <td>0.999971</td>\n",
       "    </tr>\n",
       "    <tr>\n",
       "      <th>420533</th>\n",
       "      <td>1001.19</td>\n",
       "      <td>-2.75</td>\n",
       "      <td>270.32</td>\n",
       "      <td>-6.90</td>\n",
       "      <td>72.90</td>\n",
       "      <td>4.99</td>\n",
       "      <td>3.64</td>\n",
       "      <td>1.35</td>\n",
       "      <td>2.26</td>\n",
       "      <td>3.63</td>\n",
       "      <td>1288.02</td>\n",
       "      <td>-0.661501</td>\n",
       "      <td>0.257908</td>\n",
       "      <td>-1.453438</td>\n",
       "      <td>0.566672</td>\n",
       "      <td>-0.675590</td>\n",
       "      <td>0.737277</td>\n",
       "      <td>0.008334</td>\n",
       "      <td>0.999965</td>\n",
       "    </tr>\n",
       "    <tr>\n",
       "      <th>420539</th>\n",
       "      <td>1000.65</td>\n",
       "      <td>-2.89</td>\n",
       "      <td>270.22</td>\n",
       "      <td>-7.15</td>\n",
       "      <td>72.30</td>\n",
       "      <td>4.93</td>\n",
       "      <td>3.57</td>\n",
       "      <td>1.37</td>\n",
       "      <td>2.22</td>\n",
       "      <td>3.57</td>\n",
       "      <td>1288.03</td>\n",
       "      <td>-0.280621</td>\n",
       "      <td>-0.209169</td>\n",
       "      <td>-0.545207</td>\n",
       "      <td>-0.406385</td>\n",
       "      <td>-0.461749</td>\n",
       "      <td>0.887011</td>\n",
       "      <td>0.009050</td>\n",
       "      <td>0.999959</td>\n",
       "    </tr>\n",
       "    <tr>\n",
       "      <th>420545</th>\n",
       "      <td>1000.11</td>\n",
       "      <td>-3.93</td>\n",
       "      <td>269.23</td>\n",
       "      <td>-8.09</td>\n",
       "      <td>72.60</td>\n",
       "      <td>4.56</td>\n",
       "      <td>3.31</td>\n",
       "      <td>1.25</td>\n",
       "      <td>2.06</td>\n",
       "      <td>3.31</td>\n",
       "      <td>1292.41</td>\n",
       "      <td>-0.516998</td>\n",
       "      <td>-0.215205</td>\n",
       "      <td>-0.923210</td>\n",
       "      <td>-0.384295</td>\n",
       "      <td>-0.216440</td>\n",
       "      <td>0.976296</td>\n",
       "      <td>0.009767</td>\n",
       "      <td>0.999952</td>\n",
       "    </tr>\n",
       "  </tbody>\n",
       "</table>\n",
       "<p>70091 rows × 19 columns</p>\n",
       "</div>\n",
       "      <button class=\"colab-df-convert\" onclick=\"convertToInteractive('df-02ee36ca-0bcf-406b-8715-acb7170d110f')\"\n",
       "              title=\"Convert this dataframe to an interactive table.\"\n",
       "              style=\"display:none;\">\n",
       "        \n",
       "  <svg xmlns=\"http://www.w3.org/2000/svg\" height=\"24px\"viewBox=\"0 0 24 24\"\n",
       "       width=\"24px\">\n",
       "    <path d=\"M0 0h24v24H0V0z\" fill=\"none\"/>\n",
       "    <path d=\"M18.56 5.44l.94 2.06.94-2.06 2.06-.94-2.06-.94-.94-2.06-.94 2.06-2.06.94zm-11 1L8.5 8.5l.94-2.06 2.06-.94-2.06-.94L8.5 2.5l-.94 2.06-2.06.94zm10 10l.94 2.06.94-2.06 2.06-.94-2.06-.94-.94-2.06-.94 2.06-2.06.94z\"/><path d=\"M17.41 7.96l-1.37-1.37c-.4-.4-.92-.59-1.43-.59-.52 0-1.04.2-1.43.59L10.3 9.45l-7.72 7.72c-.78.78-.78 2.05 0 2.83L4 21.41c.39.39.9.59 1.41.59.51 0 1.02-.2 1.41-.59l7.78-7.78 2.81-2.81c.8-.78.8-2.07 0-2.86zM5.41 20L4 18.59l7.72-7.72 1.47 1.35L5.41 20z\"/>\n",
       "  </svg>\n",
       "      </button>\n",
       "      \n",
       "  <style>\n",
       "    .colab-df-container {\n",
       "      display:flex;\n",
       "      flex-wrap:wrap;\n",
       "      gap: 12px;\n",
       "    }\n",
       "\n",
       "    .colab-df-convert {\n",
       "      background-color: #E8F0FE;\n",
       "      border: none;\n",
       "      border-radius: 50%;\n",
       "      cursor: pointer;\n",
       "      display: none;\n",
       "      fill: #1967D2;\n",
       "      height: 32px;\n",
       "      padding: 0 0 0 0;\n",
       "      width: 32px;\n",
       "    }\n",
       "\n",
       "    .colab-df-convert:hover {\n",
       "      background-color: #E2EBFA;\n",
       "      box-shadow: 0px 1px 2px rgba(60, 64, 67, 0.3), 0px 1px 3px 1px rgba(60, 64, 67, 0.15);\n",
       "      fill: #174EA6;\n",
       "    }\n",
       "\n",
       "    [theme=dark] .colab-df-convert {\n",
       "      background-color: #3B4455;\n",
       "      fill: #D2E3FC;\n",
       "    }\n",
       "\n",
       "    [theme=dark] .colab-df-convert:hover {\n",
       "      background-color: #434B5C;\n",
       "      box-shadow: 0px 1px 3px 1px rgba(0, 0, 0, 0.15);\n",
       "      filter: drop-shadow(0px 1px 2px rgba(0, 0, 0, 0.3));\n",
       "      fill: #FFFFFF;\n",
       "    }\n",
       "  </style>\n",
       "\n",
       "      <script>\n",
       "        const buttonEl =\n",
       "          document.querySelector('#df-02ee36ca-0bcf-406b-8715-acb7170d110f button.colab-df-convert');\n",
       "        buttonEl.style.display =\n",
       "          google.colab.kernel.accessAllowed ? 'block' : 'none';\n",
       "\n",
       "        async function convertToInteractive(key) {\n",
       "          const element = document.querySelector('#df-02ee36ca-0bcf-406b-8715-acb7170d110f');\n",
       "          const dataTable =\n",
       "            await google.colab.kernel.invokeFunction('convertToInteractive',\n",
       "                                                     [key], {});\n",
       "          if (!dataTable) return;\n",
       "\n",
       "          const docLinkHtml = 'Like what you see? Visit the ' +\n",
       "            '<a target=\"_blank\" href=https://colab.research.google.com/notebooks/data_table.ipynb>data table notebook</a>'\n",
       "            + ' to learn more about interactive tables.';\n",
       "          element.innerHTML = '';\n",
       "          dataTable['output_type'] = 'display_data';\n",
       "          await google.colab.output.renderOutput(dataTable, element);\n",
       "          const docLink = document.createElement('div');\n",
       "          docLink.innerHTML = docLinkHtml;\n",
       "          element.appendChild(docLink);\n",
       "        }\n",
       "      </script>\n",
       "    </div>\n",
       "  </div>\n",
       "  "
      ]
     },
     "metadata": {},
     "execution_count": 103
    }
   ]
  },
  {
   "cell_type": "code",
   "source": [
    "date_time"
   ],
   "metadata": {
    "colab": {
     "base_uri": "https://localhost:8080/"
    },
    "id": "B4jX5P3KITK5",
    "outputId": "b40db128-8731-4d1c-979e-2d8de7e2155f"
   },
   "execution_count": 104,
   "outputs": [
    {
     "output_type": "execute_result",
     "data": {
      "text/plain": [
       "5        2009-01-01 01:00:00\n",
       "11       2009-01-01 02:00:00\n",
       "17       2009-01-01 03:00:00\n",
       "23       2009-01-01 04:00:00\n",
       "29       2009-01-01 05:00:00\n",
       "                 ...        \n",
       "420521   2016-12-31 19:10:00\n",
       "420527   2016-12-31 20:10:00\n",
       "420533   2016-12-31 21:10:00\n",
       "420539   2016-12-31 22:10:00\n",
       "420545   2016-12-31 23:10:00\n",
       "Name: Date Time, Length: 70091, dtype: datetime64[ns]"
      ]
     },
     "metadata": {},
     "execution_count": 104
    }
   ]
  },
  {
   "cell_type": "code",
   "source": [
    "test_time = date_time[int(n*0.9):]"
   ],
   "metadata": {
    "id": "B9-nEcv3IVcb"
   },
   "execution_count": 105,
   "outputs": []
  },
  {
   "cell_type": "code",
   "source": [
    "test_time"
   ],
   "metadata": {
    "colab": {
     "base_uri": "https://localhost:8080/"
    },
    "id": "PUHDNpbqJIKO",
    "outputId": "90ad60e5-e798-4f84-ef5f-314f52081a64"
   },
   "execution_count": 106,
   "outputs": [
    {
     "output_type": "execute_result",
     "data": {
      "text/plain": [
       "378491   2016-03-11 20:00:00\n",
       "378497   2016-03-11 21:00:00\n",
       "378503   2016-03-11 22:00:00\n",
       "378509   2016-03-11 23:00:00\n",
       "378515   2016-03-12 00:00:00\n",
       "                 ...        \n",
       "420521   2016-12-31 19:10:00\n",
       "420527   2016-12-31 20:10:00\n",
       "420533   2016-12-31 21:10:00\n",
       "420539   2016-12-31 22:10:00\n",
       "420545   2016-12-31 23:10:00\n",
       "Name: Date Time, Length: 7010, dtype: datetime64[ns]"
      ]
     },
     "metadata": {},
     "execution_count": 106
    }
   ]
  },
  {
   "cell_type": "code",
   "source": [
    "plt.figure(figsize=(20, 10))\n",
    "plt.plot(test_time[-100:], test_labels[-100:])\n",
    "plt.plot(test_time[-100:], model_0_preds[-100:])"
   ],
   "metadata": {
    "colab": {
     "base_uri": "https://localhost:8080/",
     "height": 482
    },
    "id": "39GFYzTUJJK8",
    "outputId": "eb56f509-5e17-477e-ece0-d2045607b760"
   },
   "execution_count": 110,
   "outputs": [
    {
     "output_type": "execute_result",
     "data": {
      "text/plain": [
       "[<matplotlib.lines.Line2D at 0x7f8991c4bc50>]"
      ]
     },
     "metadata": {},
     "execution_count": 110
    },
    {
     "output_type": "display_data",
     "data": {
      "text/plain": [
       "<Figure size 1440x720 with 1 Axes>"
      ],
      "image/png": "[encoded data removed]"
     },
     "metadata": {
      "needs_background": "light"
     }
    }
   ]
  },
  {
   "cell_type": "code",
   "source": [
    "plt.figure(figsize=(20, 10))\n",
    "# Account for the test_window offset and index into test_labels to ensure correct plotting\n",
    "plot_time_series(timesteps=date_time[-len(test_windows):], \n",
    "                 values=test_labels[:, 0], \n",
    "                 start=-100, \n",
    "                 label=\"Test Data\")\n",
    "\n",
    "plot_time_series(timesteps=date_time[-len(test_windows):],\n",
    "                 values=model_0_preds,\n",
    "                 start=-100, \n",
    "                 format=\"-\",\n",
    "                 label=\"model_1_preds\")"
   ],
   "metadata": {
    "colab": {
     "base_uri": "https://localhost:8080/",
     "height": 469
    },
    "id": "jgJst-cyJUI0",
    "outputId": "63c8c1a2-e851-482e-dcc2-5918106d7009"
   },
   "execution_count": 111,
   "outputs": [
    {
     "output_type": "display_data",
     "data": {
      "text/plain": [
       "<Figure size 1440x720 with 1 Axes>"
      ],
      "image/png": "[encoded data removed]"
     },
     "metadata": {
      "needs_background": "light"
     }
    }
   ]
  },
  {
   "cell_type": "markdown",
   "source": [
    "#Use built in tf methods"
   ],
   "metadata": {
    "id": "ghIqTuKpLPG4"
   }
  },
  {
   "cell_type": "code",
   "source": [
    "\n",
    "length = temp_arr.size-3\n",
    "ds = tf.keras.utils.timeseries_dataset_from_array(data=temp_arr,\n",
    "                                                  targets=temp_arr[-length:],\n",
    "                                                  sequence_stride=1,\n",
    "                                                  shuffle=False,\n",
    "                                                  sequence_length=3,\n",
    "                                                  batch_size=32)\n",
    "ds"
   ],
   "metadata": {
    "colab": {
     "base_uri": "https://localhost:8080/"
    },
    "id": "hcygxhwELSvV",
    "outputId": "39cdb1cb-02c8-47c4-8fcd-fcb5d73b68bb"
   },
   "execution_count": 127,
   "outputs": [
    {
     "output_type": "execute_result",
     "data": {
      "text/plain": [
       "<BatchDataset element_spec=(TensorSpec(shape=(None, None), dtype=tf.float64, name=None), TensorSpec(shape=(None,), dtype=tf.float64, name=None))>"
      ]
     },
     "metadata": {},
     "execution_count": 127
    }
   ]
  },
  {
   "cell_type": "code",
   "source": [
    "ds1 = ds.take(2)\n",
    "\n",
    "for window in ds1:\n",
    "  print(window)"
   ],
   "metadata": {
    "colab": {
     "base_uri": "https://localhost:8080/"
    },
    "id": "oGi4c9bPNzAe",
    "outputId": "7285ed2e-1c4c-47e8-b4e2-bd1f1cb0cba4"
   },
   "execution_count": 128,
   "outputs": [
    {
     "output_type": "stream",
     "name": "stdout",
     "text": [
      "(<tf.Tensor: shape=(32, 3), dtype=float64, numpy=\n",
      "array([[-8.05, -8.88, -8.81],\n",
      "       [-8.88, -8.81, -9.05],\n",
      "       [-8.81, -9.05, -9.63],\n",
      "       [-9.05, -9.63, -9.67],\n",
      "       [-9.63, -9.67, -9.17],\n",
      "       [-9.67, -9.17, -8.1 ],\n",
      "       [-9.17, -8.1 , -7.66],\n",
      "       [-8.1 , -7.66, -7.04],\n",
      "       [-7.66, -7.04, -7.41],\n",
      "       [-7.04, -7.41, -6.87],\n",
      "       [-7.41, -6.87, -5.89],\n",
      "       [-6.87, -5.89, -5.94],\n",
      "       [-5.89, -5.94, -5.69],\n",
      "       [-5.94, -5.69, -5.4 ],\n",
      "       [-5.69, -5.4 , -5.37],\n",
      "       [-5.4 , -5.37, -5.25],\n",
      "       [-5.37, -5.25, -5.11],\n",
      "       [-5.25, -5.11, -4.9 ],\n",
      "       [-5.11, -4.9 , -4.8 ],\n",
      "       [-4.9 , -4.8 , -4.5 ],\n",
      "       [-4.8 , -4.5 , -4.47],\n",
      "       [-4.5 , -4.47, -4.54],\n",
      "       [-4.47, -4.54, -4.44],\n",
      "       [-4.54, -4.44, -4.29],\n",
      "       [-4.44, -4.29, -4.45],\n",
      "       [-4.29, -4.45, -4.58],\n",
      "       [-4.45, -4.58, -4.96],\n",
      "       [-4.58, -4.96, -4.43],\n",
      "       [-4.96, -4.43, -4.28],\n",
      "       [-4.43, -4.28, -4.33],\n",
      "       [-4.28, -4.33, -4.13],\n",
      "       [-4.33, -4.13, -3.93]])>, <tf.Tensor: shape=(32,), dtype=float64, numpy=\n",
      "array([-9.05, -9.63, -9.67, -9.17, -8.1 , -7.66, -7.04, -7.41, -6.87,\n",
      "       -5.89, -5.94, -5.69, -5.4 , -5.37, -5.25, -5.11, -4.9 , -4.8 ,\n",
      "       -4.5 , -4.47, -4.54, -4.44, -4.29, -4.45, -4.58, -4.96, -4.43,\n",
      "       -4.28, -4.33, -4.13, -3.93, -3.62])>)\n",
      "(<tf.Tensor: shape=(32, 3), dtype=float64, numpy=\n",
      "array([[-4.13, -3.93, -3.62],\n",
      "       [-3.93, -3.62, -3.12],\n",
      "       [-3.62, -3.12, -2.53],\n",
      "       [-3.12, -2.53, -2.56],\n",
      "       [-2.53, -2.56, -2.12],\n",
      "       [-2.56, -2.12, -2.76],\n",
      "       [-2.12, -2.76, -2.88],\n",
      "       [-2.76, -2.88, -3.07],\n",
      "       [-2.88, -3.07, -3.34],\n",
      "       [-3.07, -3.34, -3.3 ],\n",
      "       [-3.34, -3.3 , -3.49],\n",
      "       [-3.3 , -3.49, -4.02],\n",
      "       [-3.49, -4.02, -4.38],\n",
      "       [-4.02, -4.38, -4.71],\n",
      "       [-4.38, -4.71, -5.28],\n",
      "       [-4.71, -5.28, -6.23],\n",
      "       [-5.28, -6.23, -6.13],\n",
      "       [-6.23, -6.13, -6.21],\n",
      "       [-6.13, -6.21, -7.02],\n",
      "       [-6.21, -7.02, -8.2 ],\n",
      "       [-7.02, -8.2 , -8.48],\n",
      "       [-8.2 , -8.48, -9.28],\n",
      "       [-8.48, -9.28, -9.46],\n",
      "       [-9.28, -9.46, -8.53],\n",
      "       [-9.46, -8.53, -7.87],\n",
      "       [-8.53, -7.87, -5.96],\n",
      "       [-7.87, -5.96, -2.82],\n",
      "       [-5.96, -2.82, -2.15],\n",
      "       [-2.82, -2.15, -0.82],\n",
      "       [-2.15, -0.82, -2.8 ],\n",
      "       [-0.82, -2.8 , -4.69],\n",
      "       [-2.8 , -4.69, -4.08]])>, <tf.Tensor: shape=(32,), dtype=float64, numpy=\n",
      "array([-3.12, -2.53, -2.56, -2.12, -2.76, -2.88, -3.07, -3.34, -3.3 ,\n",
      "       -3.49, -4.02, -4.38, -4.71, -5.28, -6.23, -6.13, -6.21, -7.02,\n",
      "       -8.2 , -8.48, -9.28, -9.46, -8.53, -7.87, -5.96, -2.82, -2.15,\n",
      "       -0.82, -2.8 , -4.69, -4.08, -3.78])>)\n"
     ]
    }
   ]
  },
  {
   "cell_type": "code",
   "source": [
    "temp_arr"
   ],
   "metadata": {
    "colab": {
     "base_uri": "https://localhost:8080/"
    },
    "id": "-UFpeNfZQANR",
    "outputId": "6f9a0276-9a45-45d7-c80b-087d6014df39"
   },
   "execution_count": 119,
   "outputs": [
    {
     "output_type": "execute_result",
     "data": {
      "text/plain": [
       "array([-8.05, -8.88, -8.81, ..., -2.75, -2.89, -3.93])"
      ]
     },
     "metadata": {},
     "execution_count": 119
    }
   ]
  },
  {
   "cell_type": "code",
   "source": [
    "temp_train_arr"
   ],
   "metadata": {
    "colab": {
     "base_uri": "https://localhost:8080/"
    },
    "id": "OXJaecGvQe27",
    "outputId": "523f26a7-7970-46c3-fd60-eb64756fc1e0"
   },
   "execution_count": 120,
   "outputs": [
    {
     "output_type": "execute_result",
     "data": {
      "text/plain": [
       "array([-1.98247323, -2.07837211, -2.07028426, ...,  0.74082386,\n",
       "        0.71078325,  0.65301284])"
      ]
     },
     "metadata": {},
     "execution_count": 120
    }
   ]
  },
  {
   "cell_type": "code",
   "source": [
    "test_labels"
   ],
   "metadata": {
    "colab": {
     "base_uri": "https://localhost:8080/"
    },
    "id": "e6y1OrN9Qj4y",
    "outputId": "d2fba46b-ecd1-4481-9983-99a59ec2a18c"
   },
   "execution_count": 121,
   "outputs": [
    {
     "output_type": "execute_result",
     "data": {
      "text/plain": [
       "array([[-0.82937587],\n",
       "       [-0.83630831],\n",
       "       [-0.82937587],\n",
       "       ...,\n",
       "       [-1.3701069 ],\n",
       "       [-1.38628261],\n",
       "       [-1.50644506]])"
      ]
     },
     "metadata": {},
     "execution_count": 121
    }
   ]
  },
  {
   "cell_type": "markdown",
   "source": [
    "#Create train, val & test tf.data.Datasets"
   ],
   "metadata": {
    "id": "SSKvTI9oQsuh"
   }
  },
  {
   "cell_type": "markdown",
   "source": [
    "###Train"
   ],
   "metadata": {
    "id": "2nQw1BZKVX9v"
   }
  },
  {
   "cell_type": "code",
   "source": [
    "WINDOW=3\n",
    "\n",
    "train_target_slice = temp_train_arr.size-WINDOW\n",
    "train_tfds = tf.keras.utils.timeseries_dataset_from_array(data=temp_train_arr,\n",
    "                                                  targets=temp_train_arr[-train_target_slice:],\n",
    "                                                  sequence_stride=1,\n",
    "                                                  shuffle=False,\n",
    "                                                  sequence_length=WINDOW,\n",
    "                                                  batch_size=32)"
   ],
   "metadata": {
    "id": "-T3qaAs5Vi4D"
   },
   "execution_count": 131,
   "outputs": []
  },
  {
   "cell_type": "markdown",
   "source": [
    "###Val"
   ],
   "metadata": {
    "id": "1Umk6m0NWXI3"
   }
  },
  {
   "cell_type": "code",
   "source": [
    "val_target_slice = temp_val_arr.size-WINDOW\n",
    "val_tfds = tf.keras.utils.timeseries_dataset_from_array(data=temp_val_arr,\n",
    "                                                  targets=temp_val_arr[-val_target_slice:],\n",
    "                                                  sequence_stride=1,\n",
    "                                                  shuffle=False,\n",
    "                                                  sequence_length=WINDOW,\n",
    "                                                  batch_size=32)"
   ],
   "metadata": {
    "id": "miNcYOfoW7vO"
   },
   "execution_count": 132,
   "outputs": []
  },
  {
   "cell_type": "code",
   "source": [
    "test_target_slice = temp_test_arr.size-WINDOW\n",
    "test_tfds = tf.keras.utils.timeseries_dataset_from_array(data=temp_test_arr,\n",
    "                                                  targets=temp_test_arr[-test_target_slice:],\n",
    "                                                  sequence_stride=1,\n",
    "                                                  shuffle=False,\n",
    "                                                  sequence_length=WINDOW,\n",
    "                                                  batch_size=32)"
   ],
   "metadata": {
    "id": "0STGOcvEXWZQ"
   },
   "execution_count": 133,
   "outputs": []
  },
  {
   "cell_type": "code",
   "source": [
    "AUTOTUNE = tf.data.AUTOTUNE\n",
    "\n",
    "train_tfds = train_tfds.cache().prefetch(buffer_size=AUTOTUNE)\n",
    "val_tfds = val_tfds.cache().prefetch(buffer_size=AUTOTUNE)\n",
    "test_tfds = test_tfds.cache().prefetch(buffer_size=AUTOTUNE)"
   ],
   "metadata": {
    "id": "HWjCOD7bYZax"
   },
   "execution_count": 135,
   "outputs": []
  },
  {
   "cell_type": "code",
   "source": [
    "history_tfds = model_0.fit(train_tfds,\n",
    "                      epochs=100,\n",
    "                      verbose=1,\n",
    "                      batch_size=128,\n",
    "                      validation_data=val_tfds,\n",
    "                      callbacks=[early_stopping])"
   ],
   "metadata": {
    "colab": {
     "base_uri": "https://localhost:8080/"
    },
    "id": "TglXRlVyXdle",
    "outputId": "68fe5d60-522d-427a-dc50-cba8043c9c13"
   },
   "execution_count": 136,
   "outputs": [
    {
     "output_type": "stream",
     "name": "stdout",
     "text": [
      "Epoch 1/100\n",
      "1534/1534 [==============================] - 14s 9ms/step - loss: 0.0642 - mae: 0.0642 - val_loss: 0.0706 - val_mae: 0.0706\n",
      "Epoch 2/100\n",
      "1534/1534 [==============================] - 7s 5ms/step - loss: 0.0637 - mae: 0.0637 - val_loss: 0.0733 - val_mae: 0.0733\n",
      "Epoch 3/100\n",
      "1534/1534 [==============================] - 7s 4ms/step - loss: 0.0641 - mae: 0.0641 - val_loss: 0.0718 - val_mae: 0.0718\n",
      "Epoch 4/100\n",
      "1534/1534 [==============================] - 7s 4ms/step - loss: 0.0639 - mae: 0.0639 - val_loss: 0.0718 - val_mae: 0.0718\n",
      "Epoch 5/100\n",
      "1534/1534 [==============================] - 7s 4ms/step - loss: 0.0639 - mae: 0.0639 - val_loss: 0.0719 - val_mae: 0.0719\n",
      "Epoch 6/100\n",
      "1534/1534 [==============================] - 7s 4ms/step - loss: 0.0637 - mae: 0.0637 - val_loss: 0.0758 - val_mae: 0.0758\n"
     ]
    }
   ]
  },
  {
   "cell_type": "code",
   "source": [
    "results_tfds_test_0= model_0.evaluate(test_tfds)"
   ],
   "metadata": {
    "colab": {
     "base_uri": "https://localhost:8080/"
    },
    "id": "f30k8tXLX9I9",
    "outputId": "80f4de8b-2481-4365-b005-1ee1fe01a3ce"
   },
   "execution_count": 137,
   "outputs": [
    {
     "output_type": "stream",
     "name": "stdout",
     "text": [
      "219/219 [==============================] - 2s 7ms/step - loss: 0.0723 - mae: 0.0723\n"
     ]
    }
   ]
  },
  {
   "cell_type": "code",
   "source": [
    "results_tfds_test_0"
   ],
   "metadata": {
    "colab": {
     "base_uri": "https://localhost:8080/"
    },
    "id": "gGZLac7lb9z8",
    "outputId": "96398e00-7bd4-487e-d2a1-05f33e839664"
   },
   "execution_count": 138,
   "outputs": [
    {
     "output_type": "execute_result",
     "data": {
      "text/plain": [
       "[0.0723312497138977, 0.0723312497138977]"
      ]
     },
     "metadata": {},
     "execution_count": 138
    }
   ]
  },
  {
   "cell_type": "code",
   "source": [
    "results_tfds_test_1 = model_0.predict(test_tfds)"
   ],
   "metadata": {
    "id": "6n2RT73QcBj4"
   },
   "execution_count": 139,
   "outputs": []
  },
  {
   "cell_type": "code",
   "source": [
    ""
   ],
   "metadata": {
    "colab": {
     "base_uri": "https://localhost:8080/"
    },
    "id": "NfMqR9hWdS45",
    "outputId": "20328cfc-3a90-4a28-d41b-0b279ede42ee"
   },
   "execution_count": 147,
   "outputs": [
    {
     "output_type": "execute_result",
     "data": {
      "text/plain": [
       "<tf.Tensor: shape=(1, 7007), dtype=bool, numpy=array([[False, False, False, ..., False, False, False]])>"
      ]
     },
     "metadata": {},
     "execution_count": 147
    }
   ]
  },
  {
   "cell_type": "code",
   "source": [
    "plt.figure(figsize=(20, 10))\n",
    "# Account for the test_window offset and index into test_labels to ensure correct plotting\n",
    "plot_time_series(timesteps=date_time[-len(results_tfds_test_1):], \n",
    "                 values=test_labels[:, 0], \n",
    "                 start=-100, \n",
    "                 label=\"Test Data\")\n",
    "\n",
    "plot_time_series(timesteps=date_time[-len(results_tfds_test_1):],\n",
    "                 values=results_tfds_test_1,\n",
    "                 start=-100, \n",
    "                 format=\"-\",\n",
    "                 label=\"model_1_preds_tfds\")"
   ],
   "metadata": {
    "colab": {
     "base_uri": "https://localhost:8080/",
     "height": 467
    },
    "id": "9tt4cz0adWBL",
    "outputId": "bca9b89c-d974-4f23-dc7a-da838917ecb7"
   },
   "execution_count": 148,
   "outputs": [
    {
     "output_type": "display_data",
     "data": {
      "text/plain": [
       "<Figure size 1440x720 with 1 Axes>"
      ],
      "image/png": "[encoded data removed]"
     },
     "metadata": {
      "needs_background": "light"
     }
    }
   ]
  },
  {
   "cell_type": "code",
   "source": [
    "# Plot the validation and training data separately\n",
    "def plot_loss_curves(history):\n",
    "  \"\"\"\n",
    "  Returns separate loss curves for training and validation metrics.\n",
    "  \"\"\" \n",
    "  loss = history.history['loss']\n",
    "  val_loss = history.history['val_loss']\n",
    "\n",
    "  # accuracy = history.history['accuracy']\n",
    "  # val_accuracy = history.history['val_accuracy']\n",
    "\n",
    "  epochs = range(len(history.history['loss']))\n",
    "\n",
    "  # Plot loss\n",
    "  plt.plot(epochs, loss, label='training_loss')\n",
    "  plt.plot(epochs, val_loss, label='val_loss')\n",
    "  plt.title('Loss')\n",
    "  plt.xlabel('Epochs')\n",
    "  plt.legend()\n",
    "\n",
    "  # # Plot accuracy\n",
    "  # plt.figure()\n",
    "  # # plt.plot(epochs, accuracy, label='training_accuracy')\n",
    "  # # plt.plot(epochs, val_accuracy, label='val_accuracy')\n",
    "  # plt.title('Accuracy')\n",
    "  # plt.xlabel('Epochs')\n",
    "  # plt.legend();"
   ],
   "metadata": {
    "id": "sLqvl3Pieb8p"
   },
   "execution_count": 157,
   "outputs": []
  },
  {
   "cell_type": "code",
   "source": [
    "plot_loss_curves(history_tfds)"
   ],
   "metadata": {
    "colab": {
     "base_uri": "https://localhost:8080/",
     "height": 295
    },
    "id": "IuX26J0LfFfH",
    "outputId": "242c9f01-7007-41b2-e981-b18b696ad448"
   },
   "execution_count": 158,
   "outputs": [
    {
     "output_type": "display_data",
     "data": {
      "text/plain": [
       "<Figure size 432x288 with 1 Axes>"
      ],
      "image/png": "[encoded data removed]"
     },
     "metadata": {
      "needs_background": "light"
     }
    }
   ]
  },
  {
   "cell_type": "code",
   "source": [
    "plot_loss_curves(history)"
   ],
   "metadata": {
    "colab": {
     "base_uri": "https://localhost:8080/",
     "height": 295
    },
    "id": "fTaap8GOfMt0",
    "outputId": "ecab47b7-6cf1-43d3-fb94-0b160e5c8e8c"
   },
   "execution_count": 159,
   "outputs": [
    {
     "output_type": "display_data",
     "data": {
      "text/plain": [
       "<Figure size 432x288 with 1 Axes>"
      ],
      "image/png": "[encoded data removed]"
     },
     "metadata": {
      "needs_background": "light"
     }
    }
   ]
  },
  {
   "cell_type": "code",
   "source": [
    "naive_forecast = temp_train_arr[:-1]\n",
    "naive_forecast[:10], naive_forecast[-10:] # View frist 10 and last 10"
   ],
   "metadata": {
    "colab": {
     "base_uri": "https://localhost:8080/"
    },
    "id": "OTQxVP6_fnT2",
    "outputId": "25537750-f2d0-4d19-ad7d-d16869dfaea9"
   },
   "execution_count": 160,
   "outputs": [
    {
     "output_type": "execute_result",
     "data": {
      "text/plain": [
       "(array([-1.98247323, -2.07837211, -2.07028426, -2.09801405, -2.16502773,\n",
       "        -2.16964936, -2.11187895, -1.98825027, -1.93741231, -1.86577701]),\n",
       " array([1.58196102, 1.69403561, 1.66168418, 1.05509488, 0.97999335,\n",
       "        0.93724325, 0.90489182, 0.87947284, 0.74082386, 0.71078325]))"
      ]
     },
     "metadata": {},
     "execution_count": 160
    }
   ]
  },
  {
   "cell_type": "code",
   "source": [
    "naive_results = evaluate_preds(y_true=temp_train_arr[1:],\n",
    "                               y_pred=naive_forecast)\n",
    "naive_results"
   ],
   "metadata": {
    "id": "3LceXRLrgxoT",
    "outputId": "fd1f3126-e976-4651-a5b3-fa46113bb1b1",
    "colab": {
     "base_uri": "https://localhost:8080/"
    }
   },
   "execution_count": 162,
   "outputs": [
    {
     "output_type": "execute_result",
     "data": {
      "text/plain": [
       "{'mae': 0.08293154,\n",
       " 'mape': 64.16384,\n",
       " 'mase': 1.0000031,\n",
       " 'mse': 0.013971615,\n",
       " 'rmse': 0.11820158}"
      ]
     },
     "metadata": {},
     "execution_count": 162
    }
   ]
  },
  {
   "cell_type": "code",
   "source": [
    ""
   ],
   "metadata": {
    "id": "czIOvVEPg4wG"
   },
   "execution_count": null,
   "outputs": []
  }
 ]
}